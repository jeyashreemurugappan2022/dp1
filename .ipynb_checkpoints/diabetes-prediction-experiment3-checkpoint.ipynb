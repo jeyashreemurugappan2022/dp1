{
 "cells": [
  {
   "cell_type": "markdown",
   "metadata": {
    "execution": {
     "iopub.execute_input": "2021-09-27T15:09:52.356677Z",
     "iopub.status.busy": "2021-09-27T15:09:52.355998Z",
     "iopub.status.idle": "2021-09-27T15:09:54.239706Z",
     "shell.execute_reply": "2021-09-27T15:09:54.238583Z",
     "shell.execute_reply.started": "2021-09-27T15:09:52.356570Z"
    }
   },
   "source": [
    "#  <p style=\"color:Black;\">1.Importing DS. </p>"
   ]
  },
  {
   "cell_type": "code",
   "execution_count": 1,
   "metadata": {},
   "outputs": [],
   "source": [
    "import numpy as np \n",
    "import pandas as pd\n",
    "import os\n",
    "import seaborn as sns\n",
    "import matplotlib.pyplot as plt\n",
    "import warnings\n",
    "from sklearn.preprocessing import MinMaxScaler\n",
    "from imblearn.over_sampling import SMOTE \n",
    "from sklearn.model_selection import train_test_split\n",
    "from sklearn.preprocessing import StandardScaler \n",
    "from sklearn.svm import SVC\n",
    "from sklearn.linear_model import LogisticRegression\n",
    "import xgboost as xgb\n",
    "from sklearn.neighbors import KNeighborsClassifier  \n",
    "from sklearn.ensemble import RandomForestRegressor\n",
    "from sklearn.neighbors import KNeighborsClassifier\n",
    "from sklearn.naive_bayes import BernoulliNB\n",
    "from sklearn.naive_bayes import GaussianNB\n",
    "from sklearn.metrics import accuracy_score, f1_score, precision_score, recall_score, classification_report, confusion_matrix,f1_score, roc_curve, roc_auc_score\n",
    "from sklearn import metrics\n",
    "import tensorflow as tf\n",
    "from sklearn.impute import KNNImputer\n",
    "\n",
    "warnings.filterwarnings(\"ignore\")"
   ]
  },
  {
   "cell_type": "markdown",
   "metadata": {},
   "source": [
    "[](https://www.google.com/imgres?imgurl=https%3A%2F%2Fcdn-prod.medicalnewstoday.com%2Fcontent%2Fimages%2Farticles%2F323%2F323627%2Fdiabetes.jpg&imgrefurl=https%3A%2F%2Fwww.medicalnewstoday.com%2Farticles%2F323627&tbnid=8Uh9XWHpI-PPHM&vet=12ahUKEwi3k7u7ppHwAhXnDLcAHYrgCNIQMygAegUIARDQAQ..i&docid=F90ufqoDOf6rXM&w=1100&h=734&q=diabetes&ved=2ahUKEwi3k7u7ppHwAhXnDLcAHYrgCNIQMygAegUIARDQAQ)"
   ]
  },
  {
   "cell_type": "markdown",
   "metadata": {},
   "source": [
    "#  <p style=\"color:Black;\">2. Reading The Dataset and Creating DataFrame. </p>"
   ]
  },
  {
   "cell_type": "code",
   "execution_count": 2,
   "metadata": {
    "_kg_hide-output": true,
    "execution": {
     "iopub.execute_input": "2021-09-27T15:09:54.242437Z",
     "iopub.status.busy": "2021-09-27T15:09:54.242076Z",
     "iopub.status.idle": "2021-09-27T15:09:54.269335Z",
     "shell.execute_reply": "2021-09-27T15:09:54.268351Z",
     "shell.execute_reply.started": "2021-09-27T15:09:54.242402Z"
    }
   },
   "outputs": [],
   "source": [
    "diabetes = pd.read_csv('./diabetes_prediction_dataset.csv')"
   ]
  },
  {
   "cell_type": "markdown",
   "metadata": {},
   "source": [
    "#  <p style=\"color:Black;\">3. Data Analysis </p>"
   ]
  },
  {
   "cell_type": "markdown",
   "metadata": {
    "execution": {
     "iopub.execute_input": "2021-09-27T15:09:54.270891Z",
     "iopub.status.busy": "2021-09-27T15:09:54.270583Z",
     "iopub.status.idle": "2021-09-27T15:09:54.306723Z",
     "shell.execute_reply": "2021-09-27T15:09:54.305641Z",
     "shell.execute_reply.started": "2021-09-27T15:09:54.270861Z"
    }
   },
   "source": [
    "**3.1 Examinning data**"
   ]
  },
  {
   "cell_type": "code",
   "execution_count": 3,
   "metadata": {},
   "outputs": [
    {
     "data": {
      "text/html": [
       "<div>\n",
       "<style scoped>\n",
       "    .dataframe tbody tr th:only-of-type {\n",
       "        vertical-align: middle;\n",
       "    }\n",
       "\n",
       "    .dataframe tbody tr th {\n",
       "        vertical-align: top;\n",
       "    }\n",
       "\n",
       "    .dataframe thead th {\n",
       "        text-align: right;\n",
       "    }\n",
       "</style>\n",
       "<table border=\"1\" class=\"dataframe\">\n",
       "  <thead>\n",
       "    <tr style=\"text-align: right;\">\n",
       "      <th></th>\n",
       "      <th>gender</th>\n",
       "      <th>age</th>\n",
       "      <th>hypertension</th>\n",
       "      <th>heart_disease</th>\n",
       "      <th>smoking_history</th>\n",
       "      <th>bmi</th>\n",
       "      <th>HbA1c_level</th>\n",
       "      <th>blood_glucose_level</th>\n",
       "      <th>diabetes</th>\n",
       "    </tr>\n",
       "  </thead>\n",
       "  <tbody>\n",
       "    <tr>\n",
       "      <th>0</th>\n",
       "      <td>Female</td>\n",
       "      <td>80.0</td>\n",
       "      <td>0</td>\n",
       "      <td>1</td>\n",
       "      <td>never</td>\n",
       "      <td>25.19</td>\n",
       "      <td>6.6</td>\n",
       "      <td>140</td>\n",
       "      <td>0</td>\n",
       "    </tr>\n",
       "    <tr>\n",
       "      <th>1</th>\n",
       "      <td>Female</td>\n",
       "      <td>54.0</td>\n",
       "      <td>0</td>\n",
       "      <td>0</td>\n",
       "      <td>No Info</td>\n",
       "      <td>27.32</td>\n",
       "      <td>6.6</td>\n",
       "      <td>80</td>\n",
       "      <td>0</td>\n",
       "    </tr>\n",
       "    <tr>\n",
       "      <th>2</th>\n",
       "      <td>Male</td>\n",
       "      <td>28.0</td>\n",
       "      <td>0</td>\n",
       "      <td>0</td>\n",
       "      <td>never</td>\n",
       "      <td>27.32</td>\n",
       "      <td>5.7</td>\n",
       "      <td>158</td>\n",
       "      <td>0</td>\n",
       "    </tr>\n",
       "    <tr>\n",
       "      <th>3</th>\n",
       "      <td>Female</td>\n",
       "      <td>36.0</td>\n",
       "      <td>0</td>\n",
       "      <td>0</td>\n",
       "      <td>current</td>\n",
       "      <td>23.45</td>\n",
       "      <td>5.0</td>\n",
       "      <td>155</td>\n",
       "      <td>0</td>\n",
       "    </tr>\n",
       "    <tr>\n",
       "      <th>4</th>\n",
       "      <td>Male</td>\n",
       "      <td>76.0</td>\n",
       "      <td>1</td>\n",
       "      <td>1</td>\n",
       "      <td>current</td>\n",
       "      <td>20.14</td>\n",
       "      <td>4.8</td>\n",
       "      <td>155</td>\n",
       "      <td>0</td>\n",
       "    </tr>\n",
       "    <tr>\n",
       "      <th>5</th>\n",
       "      <td>Female</td>\n",
       "      <td>20.0</td>\n",
       "      <td>0</td>\n",
       "      <td>0</td>\n",
       "      <td>never</td>\n",
       "      <td>27.32</td>\n",
       "      <td>6.6</td>\n",
       "      <td>85</td>\n",
       "      <td>0</td>\n",
       "    </tr>\n",
       "    <tr>\n",
       "      <th>6</th>\n",
       "      <td>Female</td>\n",
       "      <td>44.0</td>\n",
       "      <td>0</td>\n",
       "      <td>0</td>\n",
       "      <td>never</td>\n",
       "      <td>19.31</td>\n",
       "      <td>6.5</td>\n",
       "      <td>200</td>\n",
       "      <td>1</td>\n",
       "    </tr>\n",
       "    <tr>\n",
       "      <th>7</th>\n",
       "      <td>Female</td>\n",
       "      <td>79.0</td>\n",
       "      <td>0</td>\n",
       "      <td>0</td>\n",
       "      <td>No Info</td>\n",
       "      <td>23.86</td>\n",
       "      <td>5.7</td>\n",
       "      <td>85</td>\n",
       "      <td>0</td>\n",
       "    </tr>\n",
       "    <tr>\n",
       "      <th>8</th>\n",
       "      <td>Male</td>\n",
       "      <td>42.0</td>\n",
       "      <td>0</td>\n",
       "      <td>0</td>\n",
       "      <td>never</td>\n",
       "      <td>33.64</td>\n",
       "      <td>4.8</td>\n",
       "      <td>145</td>\n",
       "      <td>0</td>\n",
       "    </tr>\n",
       "    <tr>\n",
       "      <th>9</th>\n",
       "      <td>Female</td>\n",
       "      <td>32.0</td>\n",
       "      <td>0</td>\n",
       "      <td>0</td>\n",
       "      <td>never</td>\n",
       "      <td>27.32</td>\n",
       "      <td>5.0</td>\n",
       "      <td>100</td>\n",
       "      <td>0</td>\n",
       "    </tr>\n",
       "  </tbody>\n",
       "</table>\n",
       "</div>"
      ],
      "text/plain": [
       "   gender   age  hypertension  heart_disease smoking_history    bmi  \\\n",
       "0  Female  80.0             0              1           never  25.19   \n",
       "1  Female  54.0             0              0         No Info  27.32   \n",
       "2    Male  28.0             0              0           never  27.32   \n",
       "3  Female  36.0             0              0         current  23.45   \n",
       "4    Male  76.0             1              1         current  20.14   \n",
       "5  Female  20.0             0              0           never  27.32   \n",
       "6  Female  44.0             0              0           never  19.31   \n",
       "7  Female  79.0             0              0         No Info  23.86   \n",
       "8    Male  42.0             0              0           never  33.64   \n",
       "9  Female  32.0             0              0           never  27.32   \n",
       "\n",
       "   HbA1c_level  blood_glucose_level  diabetes  \n",
       "0          6.6                  140         0  \n",
       "1          6.6                   80         0  \n",
       "2          5.7                  158         0  \n",
       "3          5.0                  155         0  \n",
       "4          4.8                  155         0  \n",
       "5          6.6                   85         0  \n",
       "6          6.5                  200         1  \n",
       "7          5.7                   85         0  \n",
       "8          4.8                  145         0  \n",
       "9          5.0                  100         0  "
      ]
     },
     "execution_count": 3,
     "metadata": {},
     "output_type": "execute_result"
    }
   ],
   "source": [
    "diabetes.head(10)"
   ]
  },
  {
   "cell_type": "code",
   "execution_count": 4,
   "metadata": {},
   "outputs": [
    {
     "data": {
      "text/plain": [
       "array(['never', 'No Info', 'current', 'former', 'ever', 'not current'],\n",
       "      dtype=object)"
      ]
     },
     "execution_count": 4,
     "metadata": {},
     "output_type": "execute_result"
    }
   ],
   "source": [
    "diabetes['smoking_history'].unique()"
   ]
  },
  {
   "cell_type": "markdown",
   "metadata": {},
   "source": [
    "**3.2 Number Of Rows and Columns In DataFrame**"
   ]
  },
  {
   "cell_type": "code",
   "execution_count": 5,
   "metadata": {
    "execution": {
     "iopub.execute_input": "2021-09-27T15:09:54.308603Z",
     "iopub.status.busy": "2021-09-27T15:09:54.308262Z",
     "iopub.status.idle": "2021-09-27T15:09:54.314603Z",
     "shell.execute_reply": "2021-09-27T15:09:54.313390Z",
     "shell.execute_reply.started": "2021-09-27T15:09:54.308565Z"
    }
   },
   "outputs": [
    {
     "name": "stdout",
     "output_type": "stream",
     "text": [
      "Number of rows in dataframe are : 100000 \n",
      "Number of columns in dataframe are : 9 \n",
      "\n"
     ]
    }
   ],
   "source": [
    "print(f\"Number of rows in dataframe are : {diabetes.shape[0]} \\nNumber of columns in dataframe are : {diabetes.shape[1]} \\n\")"
   ]
  },
  {
   "cell_type": "markdown",
   "metadata": {},
   "source": [
    "**3.3 Examine DF**"
   ]
  },
  {
   "cell_type": "code",
   "execution_count": 6,
   "metadata": {
    "execution": {
     "iopub.execute_input": "2021-09-27T15:09:54.318747Z",
     "iopub.status.busy": "2021-09-27T15:09:54.318408Z",
     "iopub.status.idle": "2021-09-27T15:09:54.342586Z",
     "shell.execute_reply": "2021-09-27T15:09:54.341067Z",
     "shell.execute_reply.started": "2021-09-27T15:09:54.318707Z"
    }
   },
   "outputs": [
    {
     "name": "stdout",
     "output_type": "stream",
     "text": [
      "<class 'pandas.core.frame.DataFrame'>\n",
      "RangeIndex: 100000 entries, 0 to 99999\n",
      "Data columns (total 9 columns):\n",
      " #   Column               Non-Null Count   Dtype  \n",
      "---  ------               --------------   -----  \n",
      " 0   gender               100000 non-null  object \n",
      " 1   age                  100000 non-null  float64\n",
      " 2   hypertension         100000 non-null  int64  \n",
      " 3   heart_disease        100000 non-null  int64  \n",
      " 4   smoking_history      100000 non-null  object \n",
      " 5   bmi                  100000 non-null  float64\n",
      " 6   HbA1c_level          100000 non-null  float64\n",
      " 7   blood_glucose_level  100000 non-null  int64  \n",
      " 8   diabetes             100000 non-null  int64  \n",
      "dtypes: float64(3), int64(4), object(2)\n",
      "memory usage: 6.9+ MB\n"
     ]
    }
   ],
   "source": [
    "diabetes.info()"
   ]
  },
  {
   "cell_type": "markdown",
   "metadata": {},
   "source": [
    "> * 7 columns of type \"int\".\n",
    "> * 2 columns of type \"float\""
   ]
  },
  {
   "cell_type": "markdown",
   "metadata": {},
   "source": [
    "**3.4 Checking Statistical info of data**"
   ]
  },
  {
   "cell_type": "code",
   "execution_count": 7,
   "metadata": {
    "execution": {
     "iopub.execute_input": "2021-09-27T15:09:54.346097Z",
     "iopub.status.busy": "2021-09-27T15:09:54.345778Z",
     "iopub.status.idle": "2021-09-27T15:09:54.386391Z",
     "shell.execute_reply": "2021-09-27T15:09:54.385590Z",
     "shell.execute_reply.started": "2021-09-27T15:09:54.346067Z"
    }
   },
   "outputs": [
    {
     "data": {
      "text/html": [
       "<div>\n",
       "<style scoped>\n",
       "    .dataframe tbody tr th:only-of-type {\n",
       "        vertical-align: middle;\n",
       "    }\n",
       "\n",
       "    .dataframe tbody tr th {\n",
       "        vertical-align: top;\n",
       "    }\n",
       "\n",
       "    .dataframe thead th {\n",
       "        text-align: right;\n",
       "    }\n",
       "</style>\n",
       "<table border=\"1\" class=\"dataframe\">\n",
       "  <thead>\n",
       "    <tr style=\"text-align: right;\">\n",
       "      <th></th>\n",
       "      <th>age</th>\n",
       "      <th>hypertension</th>\n",
       "      <th>heart_disease</th>\n",
       "      <th>bmi</th>\n",
       "      <th>HbA1c_level</th>\n",
       "      <th>blood_glucose_level</th>\n",
       "      <th>diabetes</th>\n",
       "    </tr>\n",
       "  </thead>\n",
       "  <tbody>\n",
       "    <tr>\n",
       "      <th>count</th>\n",
       "      <td>100000.000000</td>\n",
       "      <td>100000.00000</td>\n",
       "      <td>100000.000000</td>\n",
       "      <td>100000.000000</td>\n",
       "      <td>100000.000000</td>\n",
       "      <td>100000.000000</td>\n",
       "      <td>100000.000000</td>\n",
       "    </tr>\n",
       "    <tr>\n",
       "      <th>mean</th>\n",
       "      <td>41.885856</td>\n",
       "      <td>0.07485</td>\n",
       "      <td>0.039420</td>\n",
       "      <td>27.320767</td>\n",
       "      <td>5.527507</td>\n",
       "      <td>138.058060</td>\n",
       "      <td>0.085000</td>\n",
       "    </tr>\n",
       "    <tr>\n",
       "      <th>std</th>\n",
       "      <td>22.516840</td>\n",
       "      <td>0.26315</td>\n",
       "      <td>0.194593</td>\n",
       "      <td>6.636783</td>\n",
       "      <td>1.070672</td>\n",
       "      <td>40.708136</td>\n",
       "      <td>0.278883</td>\n",
       "    </tr>\n",
       "    <tr>\n",
       "      <th>min</th>\n",
       "      <td>0.080000</td>\n",
       "      <td>0.00000</td>\n",
       "      <td>0.000000</td>\n",
       "      <td>10.010000</td>\n",
       "      <td>3.500000</td>\n",
       "      <td>80.000000</td>\n",
       "      <td>0.000000</td>\n",
       "    </tr>\n",
       "    <tr>\n",
       "      <th>25%</th>\n",
       "      <td>24.000000</td>\n",
       "      <td>0.00000</td>\n",
       "      <td>0.000000</td>\n",
       "      <td>23.630000</td>\n",
       "      <td>4.800000</td>\n",
       "      <td>100.000000</td>\n",
       "      <td>0.000000</td>\n",
       "    </tr>\n",
       "    <tr>\n",
       "      <th>50%</th>\n",
       "      <td>43.000000</td>\n",
       "      <td>0.00000</td>\n",
       "      <td>0.000000</td>\n",
       "      <td>27.320000</td>\n",
       "      <td>5.800000</td>\n",
       "      <td>140.000000</td>\n",
       "      <td>0.000000</td>\n",
       "    </tr>\n",
       "    <tr>\n",
       "      <th>75%</th>\n",
       "      <td>60.000000</td>\n",
       "      <td>0.00000</td>\n",
       "      <td>0.000000</td>\n",
       "      <td>29.580000</td>\n",
       "      <td>6.200000</td>\n",
       "      <td>159.000000</td>\n",
       "      <td>0.000000</td>\n",
       "    </tr>\n",
       "    <tr>\n",
       "      <th>max</th>\n",
       "      <td>80.000000</td>\n",
       "      <td>1.00000</td>\n",
       "      <td>1.000000</td>\n",
       "      <td>95.690000</td>\n",
       "      <td>9.000000</td>\n",
       "      <td>300.000000</td>\n",
       "      <td>1.000000</td>\n",
       "    </tr>\n",
       "  </tbody>\n",
       "</table>\n",
       "</div>"
      ],
      "text/plain": [
       "                 age  hypertension  heart_disease            bmi  \\\n",
       "count  100000.000000  100000.00000  100000.000000  100000.000000   \n",
       "mean       41.885856       0.07485       0.039420      27.320767   \n",
       "std        22.516840       0.26315       0.194593       6.636783   \n",
       "min         0.080000       0.00000       0.000000      10.010000   \n",
       "25%        24.000000       0.00000       0.000000      23.630000   \n",
       "50%        43.000000       0.00000       0.000000      27.320000   \n",
       "75%        60.000000       0.00000       0.000000      29.580000   \n",
       "max        80.000000       1.00000       1.000000      95.690000   \n",
       "\n",
       "         HbA1c_level  blood_glucose_level       diabetes  \n",
       "count  100000.000000        100000.000000  100000.000000  \n",
       "mean        5.527507           138.058060       0.085000  \n",
       "std         1.070672            40.708136       0.278883  \n",
       "min         3.500000            80.000000       0.000000  \n",
       "25%         4.800000           100.000000       0.000000  \n",
       "50%         5.800000           140.000000       0.000000  \n",
       "75%         6.200000           159.000000       0.000000  \n",
       "max         9.000000           300.000000       1.000000  "
      ]
     },
     "execution_count": 7,
     "metadata": {},
     "output_type": "execute_result"
    }
   ],
   "source": [
    "diabetes.describe()"
   ]
  },
  {
   "cell_type": "markdown",
   "metadata": {},
   "source": [
    "**3.5 Checking The Duplicate Rows**"
   ]
  },
  {
   "cell_type": "code",
   "execution_count": 8,
   "metadata": {
    "execution": {
     "iopub.execute_input": "2021-09-27T15:09:54.387815Z",
     "iopub.status.busy": "2021-09-27T15:09:54.387411Z",
     "iopub.status.idle": "2021-09-27T15:09:54.403347Z",
     "shell.execute_reply": "2021-09-27T15:09:54.402047Z",
     "shell.execute_reply.started": "2021-09-27T15:09:54.387778Z"
    }
   },
   "outputs": [
    {
     "data": {
      "text/html": [
       "<div>\n",
       "<style scoped>\n",
       "    .dataframe tbody tr th:only-of-type {\n",
       "        vertical-align: middle;\n",
       "    }\n",
       "\n",
       "    .dataframe tbody tr th {\n",
       "        vertical-align: top;\n",
       "    }\n",
       "\n",
       "    .dataframe thead th {\n",
       "        text-align: right;\n",
       "    }\n",
       "</style>\n",
       "<table border=\"1\" class=\"dataframe\">\n",
       "  <thead>\n",
       "    <tr style=\"text-align: right;\">\n",
       "      <th></th>\n",
       "      <th>gender</th>\n",
       "      <th>age</th>\n",
       "      <th>hypertension</th>\n",
       "      <th>heart_disease</th>\n",
       "      <th>smoking_history</th>\n",
       "      <th>bmi</th>\n",
       "      <th>HbA1c_level</th>\n",
       "      <th>blood_glucose_level</th>\n",
       "      <th>diabetes</th>\n",
       "    </tr>\n",
       "  </thead>\n",
       "  <tbody>\n",
       "    <tr>\n",
       "      <th>2756</th>\n",
       "      <td>Male</td>\n",
       "      <td>80.0</td>\n",
       "      <td>0</td>\n",
       "      <td>0</td>\n",
       "      <td>No Info</td>\n",
       "      <td>27.32</td>\n",
       "      <td>6.6</td>\n",
       "      <td>159</td>\n",
       "      <td>0</td>\n",
       "    </tr>\n",
       "    <tr>\n",
       "      <th>3272</th>\n",
       "      <td>Female</td>\n",
       "      <td>80.0</td>\n",
       "      <td>0</td>\n",
       "      <td>0</td>\n",
       "      <td>No Info</td>\n",
       "      <td>27.32</td>\n",
       "      <td>3.5</td>\n",
       "      <td>80</td>\n",
       "      <td>0</td>\n",
       "    </tr>\n",
       "    <tr>\n",
       "      <th>3418</th>\n",
       "      <td>Female</td>\n",
       "      <td>19.0</td>\n",
       "      <td>0</td>\n",
       "      <td>0</td>\n",
       "      <td>No Info</td>\n",
       "      <td>27.32</td>\n",
       "      <td>6.5</td>\n",
       "      <td>100</td>\n",
       "      <td>0</td>\n",
       "    </tr>\n",
       "    <tr>\n",
       "      <th>3939</th>\n",
       "      <td>Female</td>\n",
       "      <td>78.0</td>\n",
       "      <td>1</td>\n",
       "      <td>0</td>\n",
       "      <td>former</td>\n",
       "      <td>27.32</td>\n",
       "      <td>3.5</td>\n",
       "      <td>130</td>\n",
       "      <td>0</td>\n",
       "    </tr>\n",
       "    <tr>\n",
       "      <th>3960</th>\n",
       "      <td>Male</td>\n",
       "      <td>47.0</td>\n",
       "      <td>0</td>\n",
       "      <td>0</td>\n",
       "      <td>No Info</td>\n",
       "      <td>27.32</td>\n",
       "      <td>6.0</td>\n",
       "      <td>200</td>\n",
       "      <td>0</td>\n",
       "    </tr>\n",
       "    <tr>\n",
       "      <th>...</th>\n",
       "      <td>...</td>\n",
       "      <td>...</td>\n",
       "      <td>...</td>\n",
       "      <td>...</td>\n",
       "      <td>...</td>\n",
       "      <td>...</td>\n",
       "      <td>...</td>\n",
       "      <td>...</td>\n",
       "      <td>...</td>\n",
       "    </tr>\n",
       "    <tr>\n",
       "      <th>99980</th>\n",
       "      <td>Female</td>\n",
       "      <td>52.0</td>\n",
       "      <td>0</td>\n",
       "      <td>0</td>\n",
       "      <td>never</td>\n",
       "      <td>27.32</td>\n",
       "      <td>6.1</td>\n",
       "      <td>145</td>\n",
       "      <td>0</td>\n",
       "    </tr>\n",
       "    <tr>\n",
       "      <th>99985</th>\n",
       "      <td>Male</td>\n",
       "      <td>25.0</td>\n",
       "      <td>0</td>\n",
       "      <td>0</td>\n",
       "      <td>No Info</td>\n",
       "      <td>27.32</td>\n",
       "      <td>5.8</td>\n",
       "      <td>145</td>\n",
       "      <td>0</td>\n",
       "    </tr>\n",
       "    <tr>\n",
       "      <th>99989</th>\n",
       "      <td>Female</td>\n",
       "      <td>26.0</td>\n",
       "      <td>0</td>\n",
       "      <td>0</td>\n",
       "      <td>No Info</td>\n",
       "      <td>27.32</td>\n",
       "      <td>5.0</td>\n",
       "      <td>158</td>\n",
       "      <td>0</td>\n",
       "    </tr>\n",
       "    <tr>\n",
       "      <th>99990</th>\n",
       "      <td>Male</td>\n",
       "      <td>39.0</td>\n",
       "      <td>0</td>\n",
       "      <td>0</td>\n",
       "      <td>No Info</td>\n",
       "      <td>27.32</td>\n",
       "      <td>6.1</td>\n",
       "      <td>100</td>\n",
       "      <td>0</td>\n",
       "    </tr>\n",
       "    <tr>\n",
       "      <th>99995</th>\n",
       "      <td>Female</td>\n",
       "      <td>80.0</td>\n",
       "      <td>0</td>\n",
       "      <td>0</td>\n",
       "      <td>No Info</td>\n",
       "      <td>27.32</td>\n",
       "      <td>6.2</td>\n",
       "      <td>90</td>\n",
       "      <td>0</td>\n",
       "    </tr>\n",
       "  </tbody>\n",
       "</table>\n",
       "<p>3854 rows × 9 columns</p>\n",
       "</div>"
      ],
      "text/plain": [
       "       gender   age  hypertension  heart_disease smoking_history    bmi  \\\n",
       "2756     Male  80.0             0              0         No Info  27.32   \n",
       "3272   Female  80.0             0              0         No Info  27.32   \n",
       "3418   Female  19.0             0              0         No Info  27.32   \n",
       "3939   Female  78.0             1              0          former  27.32   \n",
       "3960     Male  47.0             0              0         No Info  27.32   \n",
       "...       ...   ...           ...            ...             ...    ...   \n",
       "99980  Female  52.0             0              0           never  27.32   \n",
       "99985    Male  25.0             0              0         No Info  27.32   \n",
       "99989  Female  26.0             0              0         No Info  27.32   \n",
       "99990    Male  39.0             0              0         No Info  27.32   \n",
       "99995  Female  80.0             0              0         No Info  27.32   \n",
       "\n",
       "       HbA1c_level  blood_glucose_level  diabetes  \n",
       "2756           6.6                  159         0  \n",
       "3272           3.5                   80         0  \n",
       "3418           6.5                  100         0  \n",
       "3939           3.5                  130         0  \n",
       "3960           6.0                  200         0  \n",
       "...            ...                  ...       ...  \n",
       "99980          6.1                  145         0  \n",
       "99985          5.8                  145         0  \n",
       "99989          5.0                  158         0  \n",
       "99990          6.1                  100         0  \n",
       "99995          6.2                   90         0  \n",
       "\n",
       "[3854 rows x 9 columns]"
      ]
     },
     "execution_count": 8,
     "metadata": {},
     "output_type": "execute_result"
    }
   ],
   "source": [
    "diabetes[diabetes.duplicated()]"
   ]
  },
  {
   "cell_type": "markdown",
   "metadata": {},
   "source": [
    "> **0** duplicate rows found in the dataframe."
   ]
  },
  {
   "cell_type": "markdown",
   "metadata": {},
   "source": [
    "**3.6 Inspect unique values in data**"
   ]
  },
  {
   "cell_type": "code",
   "execution_count": 9,
   "metadata": {
    "execution": {
     "iopub.execute_input": "2021-09-27T15:09:54.404810Z",
     "iopub.status.busy": "2021-09-27T15:09:54.404402Z",
     "iopub.status.idle": "2021-09-27T15:09:54.417265Z",
     "shell.execute_reply": "2021-09-27T15:09:54.415848Z",
     "shell.execute_reply.started": "2021-09-27T15:09:54.404779Z"
    }
   },
   "outputs": [
    {
     "data": {
      "text/plain": [
       "gender                    3\n",
       "age                     102\n",
       "hypertension              2\n",
       "heart_disease             2\n",
       "smoking_history           6\n",
       "bmi                    4247\n",
       "HbA1c_level              18\n",
       "blood_glucose_level      18\n",
       "diabetes                  2\n",
       "dtype: int64"
      ]
     },
     "execution_count": 9,
     "metadata": {},
     "output_type": "execute_result"
    }
   ],
   "source": [
    "diabetes.nunique()"
   ]
  },
  {
   "cell_type": "markdown",
   "metadata": {},
   "source": [
    "> * Highest number of unique values are in column bmi."
   ]
  },
  {
   "cell_type": "markdown",
   "metadata": {},
   "source": [
    "**3.7 Checking For The Null Values in DataFrame**"
   ]
  },
  {
   "cell_type": "code",
   "execution_count": 10,
   "metadata": {
    "execution": {
     "iopub.execute_input": "2021-09-27T15:09:54.420062Z",
     "iopub.status.busy": "2021-09-27T15:09:54.419562Z",
     "iopub.status.idle": "2021-09-27T15:09:54.429448Z",
     "shell.execute_reply": "2021-09-27T15:09:54.428362Z",
     "shell.execute_reply.started": "2021-09-27T15:09:54.420005Z"
    }
   },
   "outputs": [
    {
     "data": {
      "text/plain": [
       "gender                 0\n",
       "age                    0\n",
       "hypertension           0\n",
       "heart_disease          0\n",
       "smoking_history        0\n",
       "bmi                    0\n",
       "HbA1c_level            0\n",
       "blood_glucose_level    0\n",
       "diabetes               0\n",
       "dtype: int64"
      ]
     },
     "execution_count": 10,
     "metadata": {},
     "output_type": "execute_result"
    }
   ],
   "source": [
    "diabetes.isnull().sum()"
   ]
  },
  {
   "cell_type": "markdown",
   "metadata": {},
   "source": [
    "> **0** null values found"
   ]
  },
  {
   "cell_type": "markdown",
   "metadata": {},
   "source": [
    "**3.8 Checking Class Distribution**"
   ]
  },
  {
   "cell_type": "code",
   "execution_count": 11,
   "metadata": {
    "execution": {
     "iopub.execute_input": "2021-09-27T15:09:54.431481Z",
     "iopub.status.busy": "2021-09-27T15:09:54.431109Z",
     "iopub.status.idle": "2021-09-27T15:09:54.457636Z",
     "shell.execute_reply": "2021-09-27T15:09:54.456498Z",
     "shell.execute_reply.started": "2021-09-27T15:09:54.431441Z"
    }
   },
   "outputs": [
    {
     "name": "stdout",
     "output_type": "stream",
     "text": [
      "Number of samples for Outcome 0 are :  91500\n",
      "Number of samples for Outcome 1 are :  8500\n"
     ]
    }
   ],
   "source": [
    "print(\"Number of samples for Outcome 0 are : \",len(diabetes[diabetes['diabetes']==0]))\n",
    "print(\"Number of samples for Outcome 1 are : \",len(diabetes[diabetes['diabetes']==1]))\n"
   ]
  },
  {
   "cell_type": "markdown",
   "metadata": {},
   "source": [
    "> Classes are **imbalanced**.This may end up in biased data\n"
   ]
  },
  {
   "cell_type": "markdown",
   "metadata": {},
   "source": [
    "#  <p style=\"color:Blue;\">4. Data Visualization</p>"
   ]
  },
  {
   "cell_type": "code",
   "execution_count": 12,
   "metadata": {
    "execution": {
     "iopub.execute_input": "2021-09-27T15:09:54.459612Z",
     "iopub.status.busy": "2021-09-27T15:09:54.458948Z",
     "iopub.status.idle": "2021-09-27T15:09:54.468626Z",
     "shell.execute_reply": "2021-09-27T15:09:54.467095Z",
     "shell.execute_reply.started": "2021-09-27T15:09:54.459565Z"
    }
   },
   "outputs": [
    {
     "name": "stdout",
     "output_type": "stream",
     "text": [
      "Column names except for the target column are : ['gender', 'age', 'hypertension', 'heart_disease', 'smoking_history', 'bmi', 'HbA1c_level', 'blood_glucose_level']\n",
      "\n",
      "Colors for the graphs are : ['b', 'c', 'g', 'k', 'm', 'r', 'y', 'b']\n"
     ]
    }
   ],
   "source": [
    "# Add all column names to a list except for the target variable\n",
    "columns=diabetes.columns\n",
    "columns=list(columns)\n",
    "columns.pop()\n",
    "print(\"Column names except for the target column are :\",columns)\n",
    "\n",
    "#Graphs to be plotted with these colors\n",
    "colours=['b','c','g','k','m','r','y','b']\n",
    "print()\n",
    "print('Colors for the graphs are :',colours)"
   ]
  },
  {
   "cell_type": "code",
   "execution_count": 13,
   "metadata": {},
   "outputs": [
    {
     "data": {
      "text/plain": [
       "{}"
      ]
     },
     "execution_count": 13,
     "metadata": {},
     "output_type": "execute_result"
    }
   ],
   "source": [
    "## Identify categorical columns have same values for more than 80% of rows\n",
    "## jey\n",
    "#more_than_70_percent = (60/100)*pricing_data.count()[0]\n",
    "more_than_80_percent = (80/100)*diabetes.count()[0]\n",
    "col_in_cat = diabetes.select_dtypes(include='object')\n",
    "same_val_col= []\n",
    "count_val=[]\n",
    "dict1={}\n",
    "index=0\n",
    "for col in col_in_cat:\n",
    "    length = len(diabetes[col].value_counts())\n",
    "    for j in range(0,length):\n",
    "        if(diabetes[col].value_counts()[j] > more_than_80_percent):\n",
    "            same_val_col.append(col)\n",
    "            count_val.append(diabetes[col].value_counts()[j])\n",
    "index = 0\n",
    "for col in same_val_col:\n",
    "    dict1[col]=count_val[index]\n",
    "    index=index+1\n",
    "dict1"
   ]
  },
  {
   "cell_type": "code",
   "execution_count": 14,
   "metadata": {},
   "outputs": [],
   "source": [
    "def mapGenderToNumeric(x):\n",
    "    if(x == 'Male'):\n",
    "        return 1 \n",
    "    elif(x == 'Female'):\n",
    "        return 2\n",
    "    elif(x == 'Other'):\n",
    "        return 2"
   ]
  },
  {
   "cell_type": "code",
   "execution_count": 15,
   "metadata": {},
   "outputs": [],
   "source": [
    "col = ['gender']\n",
    "for c in col:\n",
    "    diabetes[c]=diabetes[c].apply(mapGenderToNumeric).astype(np.int64)"
   ]
  },
  {
   "cell_type": "code",
   "execution_count": 16,
   "metadata": {},
   "outputs": [],
   "source": [
    "def mapsmokingHistoryToNumeric(x):\n",
    "    if(x == 'ever'):\n",
    "        return 4    \n",
    "    elif(x == 'current'):\n",
    "        return 3\n",
    "    elif(x == 'former'):\n",
    "        return 1\n",
    "    elif(x == 'not current'):\n",
    "        return 1\n",
    "    elif(x == 'No Info' or x == 'never'):\n",
    "        return 0 "
   ]
  },
  {
   "cell_type": "code",
   "execution_count": 17,
   "metadata": {},
   "outputs": [],
   "source": [
    "col = ['smoking_history']\n",
    "for c in col:\n",
    "    diabetes[c]=diabetes[c].apply(mapsmokingHistoryToNumeric).astype(np.int64)"
   ]
  },
  {
   "cell_type": "code",
   "execution_count": 18,
   "metadata": {},
   "outputs": [
    {
     "name": "stdout",
     "output_type": "stream",
     "text": [
      "0        0\n",
      "1        0\n",
      "2        0\n",
      "3        3\n",
      "4        3\n",
      "        ..\n",
      "99995    0\n",
      "99996    0\n",
      "99997    1\n",
      "99998    0\n",
      "99999    3\n",
      "Name: smoking_history, Length: 100000, dtype: int64\n"
     ]
    }
   ],
   "source": [
    "print(diabetes['smoking_history'])"
   ]
  },
  {
   "cell_type": "markdown",
   "metadata": {},
   "source": [
    "**4.1 Distplot For Various Features**"
   ]
  },
  {
   "cell_type": "code",
   "execution_count": 19,
   "metadata": {
    "_kg_hide-input": true,
    "_kg_hide-output": false,
    "execution": {
     "iopub.execute_input": "2021-09-27T15:09:54.471238Z",
     "iopub.status.busy": "2021-09-27T15:09:54.470740Z",
     "iopub.status.idle": "2021-09-27T15:09:57.228585Z",
     "shell.execute_reply": "2021-09-27T15:09:57.225907Z",
     "shell.execute_reply.started": "2021-09-27T15:09:54.471192Z"
    }
   },
   "outputs": [
    {
     "data": {
      "image/png": "[encoded data removed]",
      "text/plain": [
       "<Figure size 1500x1700 with 8 Axes>"
      ]
     },
     "metadata": {},
     "output_type": "display_data"
    }
   ],
   "source": [
    "sns.set(rc={'figure.figsize':(15,17)})\n",
    "sns.set_style(style='white')\n",
    "for i in range(len(columns)):\n",
    "    \n",
    "    plt.subplot(4,2,i+1)\n",
    "    sns.distplot(diabetes[columns[i]], hist=True, rug=True, color=colours[i])"
   ]
  },
  {
   "cell_type": "markdown",
   "metadata": {},
   "source": [
    "None of the graphs here are following a normal distribution."
   ]
  },
  {
   "cell_type": "markdown",
   "metadata": {},
   "source": [
    "**4.2 ViolinPlot For Outcome Vs. Other Attributes**"
   ]
  },
  {
   "cell_type": "code",
   "execution_count": null,
   "metadata": {
    "_kg_hide-input": true,
    "execution": {
     "iopub.execute_input": "2021-09-27T15:09:57.231358Z",
     "iopub.status.busy": "2021-09-27T15:09:57.230889Z",
     "iopub.status.idle": "2021-09-27T15:10:10.709261Z",
     "shell.execute_reply": "2021-09-27T15:10:10.708215Z",
     "shell.execute_reply.started": "2021-09-27T15:09:57.231310Z"
    }
   },
   "outputs": [],
   "source": [
    "sns.set(rc={'figure.figsize':(15,17)})\n",
    "colors_list = ['#78C850', '#F08030']\n",
    "j=1\n",
    "sns.set_style(style='white')\n",
    "\n",
    "for i in (columns):\n",
    "    plt.subplot(4,2,j)\n",
    "    sns.violinplot(x=\"diabetes\", y=i,data=diabetes, kind=\"violin\", split=True, height=4, aspect=.7,palette=colors_list)       \n",
    "    sns.swarmplot(x='diabetes', y=i,data=diabetes, color=\"k\", alpha=0.8)  \n",
    "    j=j+1\n"
   ]
  },
  {
   "cell_type": "markdown",
   "metadata": {},
   "source": [
    "**4.3 ScatterPlot Of All Attributes Against Each Other**"
   ]
  },
  {
   "cell_type": "code",
   "execution_count": null,
   "metadata": {
    "_kg_hide-input": true,
    "execution": {
     "iopub.execute_input": "2021-09-27T15:10:10.710963Z",
     "iopub.status.busy": "2021-09-27T15:10:10.710672Z",
     "iopub.status.idle": "2021-09-27T15:10:18.940107Z",
     "shell.execute_reply": "2021-09-27T15:10:18.938745Z",
     "shell.execute_reply.started": "2021-09-27T15:10:10.710935Z"
    }
   },
   "outputs": [],
   "source": [
    "sns.set(rc={'figure.figsize':(20,150)})\n",
    "j=1\n",
    "\n",
    "sns.set_style(style='white')\n",
    "for i in range(len(columns)):\n",
    "    for k in range(i,len(columns)):\n",
    "        try:\n",
    "            if i==k:\n",
    "                continue\n",
    "            plt.subplot(18,2,j)\n",
    "            sns.scatterplot(x=diabetes[columns[i]],y=diabetes[columns[k]],hue=\"diabetes\",data=diabetes)\n",
    "            j=j+1\n",
    "        except:\n",
    "            break"
   ]
  },
  {
   "cell_type": "markdown",
   "metadata": {},
   "source": []
  },
  {
   "cell_type": "markdown",
   "metadata": {},
   "source": [
    "**4.4 Strip Plot Distribution Of Attributes Vs Outcome**"
   ]
  },
  {
   "cell_type": "code",
   "execution_count": null,
   "metadata": {
    "_kg_hide-input": true,
    "execution": {
     "iopub.execute_input": "2021-09-27T15:10:18.941614Z",
     "iopub.status.busy": "2021-09-27T15:10:18.941243Z",
     "iopub.status.idle": "2021-09-27T15:10:19.910568Z",
     "shell.execute_reply": "2021-09-27T15:10:19.909279Z",
     "shell.execute_reply.started": "2021-09-27T15:10:18.941582Z"
    }
   },
   "outputs": [],
   "source": [
    "sns.set(rc={'figure.figsize':(15,15)})\n",
    "j=1\n",
    "sns.set_style(style='white')\n",
    "for i in range(len(columns)):\n",
    "    plt.subplot(4,2,j)\n",
    "    sns.stripplot(x='diabetes', y=columns[i] , data=diabetes,hue=\"diabetes\")\n",
    "    j=j+1   \n"
   ]
  },
  {
   "cell_type": "markdown",
   "metadata": {},
   "source": [
    "**4.5 Plotting The Pair Plot**"
   ]
  },
  {
   "cell_type": "code",
   "execution_count": null,
   "metadata": {
    "_kg_hide-input": true,
    "execution": {
     "iopub.execute_input": "2021-09-27T15:10:19.912621Z",
     "iopub.status.busy": "2021-09-27T15:10:19.912173Z",
     "iopub.status.idle": "2021-09-27T15:10:37.796499Z",
     "shell.execute_reply": "2021-09-27T15:10:37.795367Z",
     "shell.execute_reply.started": "2021-09-27T15:10:19.912578Z"
    }
   },
   "outputs": [],
   "source": [
    "sns.set(rc={'figure.figsize':(30,250)})\n",
    "sns.set_style(style='white')\n",
    "sns.pairplot(diabetes, hue='diabetes')"
   ]
  },
  {
   "cell_type": "markdown",
   "metadata": {},
   "source": [
    "**4.6 HeatMap**"
   ]
  },
  {
   "cell_type": "code",
   "execution_count": null,
   "metadata": {
    "_kg_hide-input": true,
    "execution": {
     "iopub.execute_input": "2021-09-27T15:10:37.798704Z",
     "iopub.status.busy": "2021-09-27T15:10:37.798355Z",
     "iopub.status.idle": "2021-09-27T15:10:38.571083Z",
     "shell.execute_reply": "2021-09-27T15:10:38.570239Z",
     "shell.execute_reply.started": "2021-09-27T15:10:37.798670Z"
    }
   },
   "outputs": [],
   "source": [
    "plt.figure(figsize=(6,6))\n",
    "sns.light_palette(\"seagreen\", as_cmap=True)\n",
    "sns.heatmap(diabetes.corr(), annot=True)"
   ]
  },
  {
   "cell_type": "markdown",
   "metadata": {},
   "source": [
    "**4.7 Distribution Of Target Variable**"
   ]
  },
  {
   "cell_type": "code",
   "execution_count": null,
   "metadata": {
    "_kg_hide-input": true,
    "execution": {
     "iopub.execute_input": "2021-09-27T15:10:38.572902Z",
     "iopub.status.busy": "2021-09-27T15:10:38.572386Z",
     "iopub.status.idle": "2021-09-27T15:10:38.702912Z",
     "shell.execute_reply": "2021-09-27T15:10:38.702093Z",
     "shell.execute_reply.started": "2021-09-27T15:10:38.572868Z"
    }
   },
   "outputs": [],
   "source": [
    "plt.figure(figsize=(4,4))\n",
    "sns.set_style(style='white')\n",
    "sns.countplot(diabetes,x= 'diabetes')"
   ]
  },
  {
   "cell_type": "code",
   "execution_count": null,
   "metadata": {},
   "outputs": [],
   "source": []
  },
  {
   "cell_type": "markdown",
   "metadata": {},
   "source": [
    "### 4.8 KDEplot"
   ]
  },
  {
   "cell_type": "code",
   "execution_count": null,
   "metadata": {
    "execution": {
     "iopub.execute_input": "2021-09-27T15:10:38.704608Z",
     "iopub.status.busy": "2021-09-27T15:10:38.704123Z",
     "iopub.status.idle": "2021-09-27T15:10:39.929434Z",
     "shell.execute_reply": "2021-09-27T15:10:39.928586Z",
     "shell.execute_reply.started": "2021-09-27T15:10:38.704575Z"
    }
   },
   "outputs": [],
   "source": [
    "with sns.axes_style(\"white\"):\n",
    "    sns.set_palette(\"Set2\")\n",
    "    g2 = sns.jointplot(data=diabetes,x=\"Insulin\", y=\"BMI\",hue=\"diabetes\")\n"
   ]
  },
  {
   "cell_type": "markdown",
   "metadata": {},
   "source": [
    "#  <p style=\"color:Blue;\">5. Data PreProcessing</p>"
   ]
  },
  {
   "cell_type": "markdown",
   "metadata": {},
   "source": [
    "**5.1 Feature Engineering**"
   ]
  },
  {
   "cell_type": "code",
   "execution_count": null,
   "metadata": {
    "execution": {
     "iopub.execute_input": "2021-09-27T15:10:39.931094Z",
     "iopub.status.busy": "2021-09-27T15:10:39.930680Z",
     "iopub.status.idle": "2021-09-27T15:10:39.962939Z",
     "shell.execute_reply": "2021-09-27T15:10:39.961554Z",
     "shell.execute_reply.started": "2021-09-27T15:10:39.931064Z"
    }
   },
   "outputs": [],
   "source": []
  },
  {
   "cell_type": "code",
   "execution_count": null,
   "metadata": {},
   "outputs": [],
   "source": [
    "diabetes_with_preprocessing = diabetes"
   ]
  },
  {
   "cell_type": "code",
   "execution_count": null,
   "metadata": {},
   "outputs": [],
   "source": [
    "plt.figure(figsize=(4,4))\n",
    "\n",
    "sns.heatmap(diabetes_with_preprocessing.isnull(),yticklabels=False,cbar=False, cmap=\"viridis\")"
   ]
  },
  {
   "cell_type": "code",
   "execution_count": null,
   "metadata": {},
   "outputs": [],
   "source": [
    "#identify the numeric columns for skewness and kurtosis\n",
    "num_cols = diabetes_with_preprocessing.select_dtypes(include=['float64','int64']).columns.tolist()\n",
    "cols_to_analysed_skew = []\n",
    "for col in num_cols:\n",
    "    if((diabetes_with_preprocessing[col].skew() < -2) | (diabetes_with_preprocessing[col].skew() > 2)):\n",
    "        print(\"column\",col,\",skew:\",diabetes_with_preprocessing[col].skew())\n",
    "        cols_to_analysed_skew.append(col)\n",
    "print(cols_to_analysed_skew) \n",
    "\n",
    "cols_to_analysed_kur = []\n",
    "for col in num_cols:\n",
    "    if((diabetes_with_preprocessing[col].kurtosis() < -7) | (diabetes_with_preprocessing[col].kurtosis() > 7)):\n",
    "        print(\"column\",col,\",kurtosis:\",diabetes_with_preprocessing[col].kurtosis())\n",
    "        cols_to_analysed_kur.append(col)\n",
    "print(cols_to_analysed_kur) \n",
    "\n",
    "col_to_analysed = list(set(cols_to_analysed_skew + cols_to_analysed_kur))\n",
    "print(col_to_analysed)"
   ]
  },
  {
   "cell_type": "code",
   "execution_count": null,
   "metadata": {},
   "outputs": [],
   "source": [
    "plt.figure(figsize=(4,4))\n",
    "sns.distplot(diabetes_with_preprocessing['heart_disease'])\n",
    "print(\"Skew\", diabetes_with_preprocessing['heart_disease'].skew())\n",
    "print(\"Kurtosis\",diabetes_with_preprocessing['heart_disease'].kurtosis())"
   ]
  },
  {
   "cell_type": "code",
   "execution_count": null,
   "metadata": {},
   "outputs": [],
   "source": [
    "plt.figure(figsize=(4,4))\n",
    "sns.distplot(diabetes_with_preprocessing['hypertension'])\n",
    "print(\"Skew\", diabetes_with_preprocessing['hypertension'].skew())\n",
    "print(\"Kurtosis\",diabetes_with_preprocessing['hypertension'].kurtosis())"
   ]
  },
  {
   "cell_type": "code",
   "execution_count": null,
   "metadata": {},
   "outputs": [],
   "source": []
  },
  {
   "cell_type": "code",
   "execution_count": null,
   "metadata": {},
   "outputs": [],
   "source": [
    "diabetes_with_preprocessing['hypertension'] = np.where(diabetes_with_preprocessing['hypertension'] == 0, 0.000001, diabetes_with_preprocessing['hypertension'])\n",
    "col_need_data_transformation = ['hypertension']\n",
    "for col in col_need_data_transformation:\n",
    "    diabetes_with_preprocessing[col] =  np.log(diabetes_with_preprocessing[col])"
   ]
  },
  {
   "cell_type": "code",
   "execution_count": null,
   "metadata": {},
   "outputs": [],
   "source": [
    "diabetes_with_preprocessing['heart_disease'] = np.where(diabetes_with_preprocessing['heart_disease'] == 0, 0.000001, diabetes_with_preprocessing['heart_disease'])\n",
    "col_need_data_transformation = ['heart_disease']\n",
    "for col in col_need_data_transformation:\n",
    "    diabetes_with_preprocessing[col] =  np.log(diabetes_with_preprocessing[col])"
   ]
  },
  {
   "cell_type": "code",
   "execution_count": null,
   "metadata": {},
   "outputs": [],
   "source": [
    "## after log transformation Insuling\n",
    "#print(diabetes_with_preprocessing['Insulin'])\n",
    "plt.figure(figsize=(4,4))\n",
    "sns.distplot(diabetes_with_preprocessing['heart_disease'])\n",
    "print(\"Skew\", diabetes_with_preprocessing['heart_disease'].skew())\n",
    "print(\"Kurtosis\",diabetes_with_preprocessing['heart_disease'].kurtosis())"
   ]
  },
  {
   "cell_type": "code",
   "execution_count": null,
   "metadata": {},
   "outputs": [],
   "source": [
    "# Scaling those columns which have values greater than 1\n",
    "scaleIt = MinMaxScaler()\n",
    "columns_to_be_scaled = [c for c in diabetes.columns if diabetes[c].max() > 1]\n",
    "print(\"The columns which are to be scaled are :\",columns_to_be_scaled)\n",
    "\n",
    "scaled_columns = scaleIt.fit_transform(diabetes_with_preprocessing[columns_to_be_scaled])\n",
    "scaled_columns = pd.DataFrame(scaled_columns, columns=columns_to_be_scaled)\n",
    "scaled_columns['diabetes'] = diabetes['diabetes'] \n",
    "#copying the scaled DataFrame to original DataFrame\n",
    "\n",
    "diabetes_with_preprocessing=scaled_columns\n",
    "diabetes_with_preprocessing"
   ]
  },
  {
   "cell_type": "code",
   "execution_count": null,
   "metadata": {},
   "outputs": [],
   "source": [
    "diabetes_with_preprocessing.shape"
   ]
  },
  {
   "cell_type": "code",
   "execution_count": null,
   "metadata": {},
   "outputs": [],
   "source": [
    "diabetes_with_preprocessing[diabetes_with_preprocessing.duplicated()].shape"
   ]
  },
  {
   "cell_type": "code",
   "execution_count": null,
   "metadata": {},
   "outputs": [],
   "source": [
    "diabetes_with_preprocessing = diabetes_with_preprocessing[~diabetes_with_preprocessing.duplicated()]"
   ]
  },
  {
   "cell_type": "code",
   "execution_count": null,
   "metadata": {},
   "outputs": [],
   "source": [
    "diabetes_with_preprocessing.shape"
   ]
  },
  {
   "cell_type": "markdown",
   "metadata": {},
   "source": [
    "**5.2 Dividing The Data Into X And Y**"
   ]
  },
  {
   "cell_type": "code",
   "execution_count": null,
   "metadata": {
    "execution": {
     "iopub.execute_input": "2021-09-27T15:10:39.965243Z",
     "iopub.status.busy": "2021-09-27T15:10:39.964783Z",
     "iopub.status.idle": "2021-09-27T15:10:39.980570Z",
     "shell.execute_reply": "2021-09-27T15:10:39.979108Z",
     "shell.execute_reply.started": "2021-09-27T15:10:39.965197Z"
    }
   },
   "outputs": [],
   "source": [
    "x=diabetes.iloc[:,:-1]\n",
    "y=diabetes.iloc[:,-1:]\n",
    "x.head(5),y.head(5)"
   ]
  },
  {
   "cell_type": "code",
   "execution_count": null,
   "metadata": {},
   "outputs": [],
   "source": []
  },
  {
   "cell_type": "code",
   "execution_count": null,
   "metadata": {},
   "outputs": [],
   "source": []
  },
  {
   "cell_type": "code",
   "execution_count": null,
   "metadata": {},
   "outputs": [],
   "source": [
    "x_with_preprocessing=diabetes_with_preprocessing.iloc[:,:-1]\n",
    "y_with_preprocessing=diabetes_with_preprocessing.iloc[:,-1:]\n",
    "x_with_preprocessing.head(5),y_with_preprocessing.head(5)"
   ]
  },
  {
   "cell_type": "markdown",
   "metadata": {},
   "source": [
    "**5.3 Train Test Split**"
   ]
  },
  {
   "cell_type": "code",
   "execution_count": null,
   "metadata": {
    "execution": {
     "iopub.execute_input": "2021-09-27T15:10:39.982729Z",
     "iopub.status.busy": "2021-09-27T15:10:39.982264Z",
     "iopub.status.idle": "2021-09-27T15:10:39.993599Z",
     "shell.execute_reply": "2021-09-27T15:10:39.992046Z",
     "shell.execute_reply.started": "2021-09-27T15:10:39.982687Z"
    }
   },
   "outputs": [],
   "source": [
    "x_train, x_test, y_train, y_test = train_test_split(x,y, test_size = 0.2, random_state = 42)"
   ]
  },
  {
   "cell_type": "code",
   "execution_count": null,
   "metadata": {},
   "outputs": [],
   "source": [
    "print(\"Percentage of Positive Values in training data before Smote :\",y_train.value_counts(normalize=True)[1]/(y_train.value_counts(normalize=True)[0]+y_train.value_counts(normalize=True)[1])*100,\"%\")\n",
    "print(\"Percentage of Negative Values in training data before Smote :\",y_train.value_counts(normalize=True)[0]/(y_train.value_counts(normalize=True)[0]+y_train.value_counts(normalize=True)[1])*100,\"%\")\n",
    "\n",
    "print()\n",
    "print('Shape of x before applying SMOTE :', x_train.shape)\n",
    "\n",
    "\n",
    "smote = SMOTE()\n",
    "x_train,y_train = smote.fit_resample(x_train,y_train)\n",
    "\n",
    "print('Shape of x after applying SMOTE : ', x_train.shape)\n",
    "print()\n",
    "\n",
    "print(\"Percentage of Positive Values in training data after Smote :\",y_train.value_counts(normalize=True)[1]/(y_train.value_counts(normalize=True)[0]+y_train.value_counts(normalize=True)[1])*100,\"%\")\n",
    "print(\"Percentage of Negative Values in training data after Smote :\",y_train.value_counts(normalize=True)[0]/(y_train.value_counts(normalize=True)[0]+y_train.value_counts(normalize=True)[1])*100,\"%\")\n"
   ]
  },
  {
   "cell_type": "code",
   "execution_count": null,
   "metadata": {},
   "outputs": [],
   "source": [
    "x_train_with_pre, x_test_with_pre, y_train_with_pre, y_test_with_pre = train_test_split(x_with_preprocessing,y_with_preprocessing , test_size = 0.2, random_state = 42)"
   ]
  },
  {
   "cell_type": "markdown",
   "metadata": {},
   "source": [
    "**5.4 Using SMOTE To Handle Class Imbalance**\n"
   ]
  },
  {
   "cell_type": "code",
   "execution_count": null,
   "metadata": {
    "execution": {
     "iopub.execute_input": "2021-09-27T15:10:39.995627Z",
     "iopub.status.busy": "2021-09-27T15:10:39.995159Z",
     "iopub.status.idle": "2021-09-27T15:10:40.044782Z",
     "shell.execute_reply": "2021-09-27T15:10:40.043364Z",
     "shell.execute_reply.started": "2021-09-27T15:10:39.995580Z"
    }
   },
   "outputs": [],
   "source": [
    "print(\"Percentage of Positive Values in training data before Smote :\",y_train_with_pre.value_counts(normalize=True)[1]/(y_train.value_counts(normalize=True)[0]+y_train_with_pre.value_counts(normalize=True)[1])*100,\"%\")\n",
    "print(\"Percentage of Negative Values in training data before Smote :\",y_train_with_pre.value_counts(normalize=True)[0]/(y_train.value_counts(normalize=True)[0]+y_train_with_pre.value_counts(normalize=True)[1])*100,\"%\")\n",
    "\n",
    "print()\n",
    "print('Shape of x before applying SMOTE :', x_train_with_pre.shape)\n",
    "\n",
    "\n",
    "smote = SMOTE()\n",
    "x_train_with_pre,y_train_with_pre = smote.fit_resample(x_train_with_pre,y_train_with_pre)\n",
    "\n",
    "print('Shape of x after applying SMOTE : ', x_train_with_pre.shape)\n",
    "print()\n",
    "\n",
    "print(\"Percentage of Positive Values in training data after Smote :\",y_train_with_pre.value_counts(normalize=True)[1]/(y_train_with_pre.value_counts(normalize=True)[0]+y_train_with_pre.value_counts(normalize=True)[1])*100,\"%\")\n",
    "print(\"Percentage of Negative Values in training data after Smote :\",y_train_with_pre.value_counts(normalize=True)[0]/(y_train_with_pre.value_counts(normalize=True)[0]+y_train_with_pre.value_counts(normalize=True)[1])*100,\"%\")\n"
   ]
  },
  {
   "cell_type": "code",
   "execution_count": null,
   "metadata": {},
   "outputs": [],
   "source": [
    "accuracy_metrics = []\n",
    "precision_metrics =[]\n",
    "recall_metrics = []\n",
    "roc_auc_metrics= []"
   ]
  },
  {
   "cell_type": "markdown",
   "metadata": {},
   "source": [
    "#  <p style=\"color:Blue;\">6. Building The Models</p>"
   ]
  },
  {
   "cell_type": "markdown",
   "metadata": {},
   "source": [
    "**6.1 Logistic Regression**"
   ]
  },
  {
   "cell_type": "markdown",
   "metadata": {},
   "source": [
    "**6.1.1 Logistic Regression without preprocessing**"
   ]
  },
  {
   "cell_type": "code",
   "execution_count": null,
   "metadata": {
    "execution": {
     "iopub.execute_input": "2021-09-27T15:10:40.047038Z",
     "iopub.status.busy": "2021-09-27T15:10:40.046591Z",
     "iopub.status.idle": "2021-09-27T15:10:40.082070Z",
     "shell.execute_reply": "2021-09-27T15:10:40.081014Z",
     "shell.execute_reply.started": "2021-09-27T15:10:40.046982Z"
    }
   },
   "outputs": [],
   "source": [
    "model = LogisticRegression()\n",
    "model.fit(x_train, y_train)\n",
    "predicted=model.predict(x_test)\n",
    "conf = confusion_matrix(y_test, predicted)\n",
    "print (\"Confusion Matrix : \\n\", conf)\n",
    "print()\n",
    "print (\"The accuracy of Logistic Regression is : \", accuracy_score(y_test, predicted)*100, \"%\")\n",
    "accuracy_metrics.append(str(round(accuracy_score(y_test, predicted)*100,2)) + \"%\")\n",
    "print(\"Precision score for Logistic Regression is :\",precision_score(y_test, predicted,)*100, \"%\")\n",
    "precision_metrics.append(str(round(precision_score(y_test, predicted,)*100,2)) + \"%\")\n",
    "print()\n",
    "print(\"Recall score for Logistic Regression is :\",recall_score(y_test, predicted,)*100, \"%\")\n",
    "recall_metrics.append(str(round(recall_score(y_test, predicted,)*100,2)) + \"%\")\n",
    "#print(accuracy_metrics)"
   ]
  },
  {
   "cell_type": "code",
   "execution_count": null,
   "metadata": {},
   "outputs": [],
   "source": [
    "predictions = model.predict(x_test)\n",
    "predictions_prob = model.predict_proba(x_test)[:, 1]\n",
    "f1 = f1_score(y_test, predictions)\n",
    "fpr, tpr, thresholds = roc_curve(y_test, predictions_prob)\n",
    "plt.figure(figsize=(7,4))\n",
    "roc_auc = roc_auc_score(y_test, predictions_prob)\n",
    "# Plot ROC Curve\n",
    "plt.subplot(122)\n",
    "plt.plot(fpr, tpr, color='darkorange', lw=2, label='ROC curve (AUC = {:.2f})'.format(roc_auc))\n",
    "plt.plot([0, 1], [0, 1], color='navy', lw=2, linestyle='--')\n",
    "plt.xlim([0.0, 1.0])\n",
    "plt.ylim([0.0, 1.05])\n",
    "plt.xlabel('False Positive Rate')\n",
    "plt.ylabel('True Positive Rate')\n",
    "plt.title('LG ROC Curve without pre-processing')\n",
    "plt.legend(loc='lower right')\n",
    "plt.tight_layout()\n",
    "plt.show()\n",
    "roc_auc_metrics.append(roc_auc)"
   ]
  },
  {
   "cell_type": "markdown",
   "metadata": {},
   "source": [
    "**6.1.2 Logistic Regression with preprocessing**"
   ]
  },
  {
   "cell_type": "code",
   "execution_count": null,
   "metadata": {},
   "outputs": [],
   "source": [
    "model_with_pre = LogisticRegression()\n",
    "model_with_pre.fit(x_train_with_pre, y_train_with_pre)\n",
    "predicted=model_with_pre.predict(x_test_with_pre)\n",
    "conf_with_pre = confusion_matrix(y_test_with_pre, predicted)\n",
    "print (\"Confusion Matrix : \\n\", conf_with_pre)\n",
    "print (\"The accuracy of Logistic Regression is : \", accuracy_score(y_test_with_pre, predicted)*100, \"%\")\n",
    "print(\"Precision score for Logistic Regression is :\",precision_score(y_test_with_pre, predicted,)*100, \"%\")\n",
    "print(\"Recall score for Logistic Regression is :\",recall_score(y_test_with_pre, predicted,)*100, \"%\")\n",
    "accuracy_metrics.append(str(round(accuracy_score(y_test_with_pre, predicted)*100,2)) + \"%\")\n",
    "precision_metrics.append(str(round(precision_score(y_test_with_pre, predicted,)*100,2)) + \"%\")\n",
    "recall_metrics.append(str(round(recall_score(y_test_with_pre, predicted,)*100,2)) + \"%\")"
   ]
  },
  {
   "cell_type": "code",
   "execution_count": null,
   "metadata": {},
   "outputs": [],
   "source": [
    "predictions_prob = model_with_pre.predict_proba(x_test_with_pre)[:, 1]\n",
    "f1 = f1_score(y_test_with_pre, predicted)\n",
    "fpr, tpr, thresholds = roc_curve(y_test_with_pre, predictions_prob)\n",
    "plt.figure(figsize=(7,4))\n",
    "roc_auc = roc_auc_score(y_test_with_pre, predictions_prob)\n",
    "# Plot ROC Curve\n",
    "plt.subplot(122)\n",
    "plt.plot(fpr, tpr, color='darkorange', lw=2, label='ROC curve (AUC = {:.2f})'.format(roc_auc))\n",
    "plt.plot([0, 1], [0, 1], color='navy', lw=2, linestyle='--')\n",
    "plt.xlim([0.0, 1.0])\n",
    "plt.ylim([0.0, 1.05])\n",
    "plt.xlabel('False Positive Rate')\n",
    "plt.ylabel('True Positive Rate')\n",
    "plt.title('LG ROC Curve with pre-processing')\n",
    "plt.legend(loc='lower right')\n",
    "\n",
    "plt.tight_layout()\n",
    "plt.show()\n",
    "roc_auc_metrics.append(roc_auc)"
   ]
  },
  {
   "cell_type": "markdown",
   "metadata": {},
   "source": [
    "**6.2 Gaussian Naive Bayes**\n"
   ]
  },
  {
   "cell_type": "markdown",
   "metadata": {},
   "source": [
    "**6.2.1 Gaussian Naive Bayes without preprocessing**\n"
   ]
  },
  {
   "cell_type": "code",
   "execution_count": null,
   "metadata": {
    "execution": {
     "iopub.execute_input": "2021-09-27T15:10:40.083796Z",
     "iopub.status.busy": "2021-09-27T15:10:40.083484Z",
     "iopub.status.idle": "2021-09-27T15:10:40.111001Z",
     "shell.execute_reply": "2021-09-27T15:10:40.109668Z",
     "shell.execute_reply.started": "2021-09-27T15:10:40.083766Z"
    }
   },
   "outputs": [],
   "source": [
    "model = GaussianNB()\n",
    "model.fit(x_train, y_train)  \n",
    "predicted = model.predict(x_test)  \n",
    "conf = confusion_matrix(y_test, predicted)\n",
    "print (\"Confusion Matrix : \\n\", conf)\n",
    "print (\"The accuracy of Gaussian Naive Bayes is : \", accuracy_score(y_test, predicted)*100, \"%\")\n",
    "print(\"Precision score for Gaussian Naive Bayes is :\",precision_score(y_test, predicted,)*100, \"%\")\n",
    "print(\"Recall score for Gaussian Naive Bayes is :\",recall_score(y_test, predicted,)*100, \"%\")\n",
    "accuracy_metrics.append(str(round(accuracy_score(y_test, predicted)*100,2)) + \"%\")\n",
    "precision_metrics.append(str(round(precision_score(y_test, predicted,)*100,2)) + \"%\")\n",
    "recall_metrics.append(str(round(recall_score(y_test, predicted,)*100,2)) + \"%\")\n"
   ]
  },
  {
   "cell_type": "code",
   "execution_count": null,
   "metadata": {},
   "outputs": [],
   "source": [
    "predictions_prob = model.predict_proba(x_test)[:, 1]\n",
    "f1 = f1_score(y_test, predicted)\n",
    "fpr, tpr, thresholds = roc_curve(y_test, predictions_prob)\n",
    "plt.figure(figsize=(7,4))\n",
    "roc_auc = roc_auc_score(y_test, predictions_prob)\n",
    "# Plot ROC Curve\n",
    "plt.subplot(122)\n",
    "plt.plot(fpr, tpr, color='darkorange', lw=2, label='ROC curve (AUC = {:.2f})'.format(roc_auc))\n",
    "plt.plot([0, 1], [0, 1], color='navy', lw=2, linestyle='--')\n",
    "plt.xlim([0.0, 1.0])\n",
    "plt.ylim([0.0, 1.05])\n",
    "plt.xlabel('False Positive Rate')\n",
    "plt.ylabel('True Positive Rate')\n",
    "plt.title('GNB ROC Curve without preprocessing')\n",
    "plt.legend(loc='lower right')\n",
    "plt.tight_layout()\n",
    "plt.show()\n",
    "roc_auc_metrics.append(roc_auc)"
   ]
  },
  {
   "cell_type": "markdown",
   "metadata": {},
   "source": [
    "**6.2.2 Gaussian Naive Bayes with preprocessing**\n"
   ]
  },
  {
   "cell_type": "code",
   "execution_count": null,
   "metadata": {},
   "outputs": [],
   "source": [
    "model_with_pre = GaussianNB()\n",
    "model_with_pre.fit(x_train_with_pre, y_train_with_pre)\n",
    "  \n",
    "predicted = model_with_pre.predict(x_test_with_pre)\n",
    "  \n",
    "conf_with_pre = confusion_matrix(y_test_with_pre, predicted)\n",
    "print (\"Confusion Matrix : \\n\", conf_with_pre)\n",
    "print (\"The accuracy of Gaussian Naive Bayes is : \", accuracy_score(y_test_with_pre, predicted)*100, \"%\")\n",
    "print(\"Precision score for Gaussian Naive Bayes is :\",precision_score(y_test_with_pre, predicted,)*100, \"%\")\n",
    "print(\"Recall score for Gaussian Naive Bayes is :\",recall_score(y_test_with_pre, predicted,)*100, \"%\")\n",
    "accuracy_metrics.append(str(round(accuracy_score(y_test_with_pre, predicted)*100,2)) + \"%\")\n",
    "precision_metrics.append(str(round(precision_score(y_test_with_pre, predicted,)*100,2)) + \"%\")\n",
    "recall_metrics.append(str(round(recall_score(y_test_with_pre, predicted,)*100,2)) + \"%\")"
   ]
  },
  {
   "cell_type": "code",
   "execution_count": null,
   "metadata": {},
   "outputs": [],
   "source": [
    "predictions_prob = model_with_pre.predict_proba(x_test_with_pre)[:, 1]\n",
    "f1 = f1_score(y_test_with_pre, predicted)\n",
    "fpr, tpr, thresholds = roc_curve(y_test_with_pre, predictions_prob)\n",
    "plt.figure(figsize=(7,4))\n",
    "roc_auc = roc_auc_score(y_test_with_pre, predictions_prob)\n",
    "# Plot ROC Curve\n",
    "plt.subplot(122)\n",
    "plt.plot(fpr, tpr, color='darkorange', lw=2, label='ROC curve (AUC = {:.2f})'.format(roc_auc))\n",
    "plt.plot([0, 1], [0, 1], color='navy', lw=2, linestyle='--')\n",
    "plt.xlim([0.0, 1.0])\n",
    "plt.ylim([0.0, 1.05])\n",
    "plt.xlabel('False Positive Rate')\n",
    "plt.ylabel('True Positive Rate')\n",
    "plt.title('GNB ROC Curve with preprocessing')\n",
    "plt.legend(loc='lower right')\n",
    "plt.tight_layout()\n",
    "plt.show()\n",
    "roc_auc_metrics.append(roc_auc)"
   ]
  },
  {
   "cell_type": "markdown",
   "metadata": {},
   "source": [
    "**6.3 Bernoulli Naive Bayes**\n"
   ]
  },
  {
   "cell_type": "markdown",
   "metadata": {},
   "source": [
    "**6.3.1 Bernoulli Naive Bayes without preprocessing**\n"
   ]
  },
  {
   "cell_type": "code",
   "execution_count": null,
   "metadata": {
    "execution": {
     "iopub.execute_input": "2021-09-27T15:10:40.113197Z",
     "iopub.status.busy": "2021-09-27T15:10:40.112772Z",
     "iopub.status.idle": "2021-09-27T15:10:40.135927Z",
     "shell.execute_reply": "2021-09-27T15:10:40.134922Z",
     "shell.execute_reply.started": "2021-09-27T15:10:40.113152Z"
    }
   },
   "outputs": [],
   "source": [
    "model = BernoulliNB()\n",
    "model.fit(x_train, y_train)  \n",
    "predicted = model.predict(x_test)\n",
    "conf = confusion_matrix(y_test, predicted)\n",
    "print (\"Confusion Matrix : \\n\", conf)\n",
    "print()\n",
    "print (\"The accuracy of Bernoulli Naive Bayes is : \", accuracy_score(y_test, predicted)*100, \"%\")\n",
    "print()\n",
    "print(\"Precision score for Bernoulli Naive Bayes is :\",precision_score(y_test, predicted,)*100, \"%\")\n",
    "print()\n",
    "print(\"Recall score for Bernoulli Naive Bayes is :\",recall_score(y_test, predicted,)*100, \"%\")\n",
    "accuracy_metrics.append(str(round(accuracy_score(y_test, predicted)*100,2)) + \"%\")\n",
    "precision_metrics.append(str(round(precision_score(y_test, predicted,)*100,2)) + \"%\")\n",
    "recall_metrics.append(str(round(recall_score(y_test, predicted,)*100,2)) + \"%\")"
   ]
  },
  {
   "cell_type": "code",
   "execution_count": null,
   "metadata": {},
   "outputs": [],
   "source": [
    "predictions_prob = model.predict_proba(x_test)[:, 1]\n",
    "f1 = f1_score(y_test, predicted)\n",
    "fpr, tpr, thresholds = roc_curve(y_test, predictions_prob)\n",
    "plt.figure(figsize=(7,4))\n",
    "roc_auc = roc_auc_score(y_test, predictions_prob)\n",
    "# Plot ROC Curve\n",
    "plt.subplot(122)\n",
    "plt.plot(fpr, tpr, color='darkorange', lw=2, label='ROC curve (AUC = {:.2f})'.format(roc_auc))\n",
    "plt.plot([0, 1], [0, 1], color='navy', lw=2, linestyle='--')\n",
    "plt.xlim([0.0, 1.0])\n",
    "plt.ylim([0.0, 1.05])\n",
    "plt.xlabel('False Positive Rate')\n",
    "plt.ylabel('True Positive Rate')\n",
    "plt.title('BNB ROC Curve without preprocessing')\n",
    "plt.legend(loc='lower right')\n",
    "plt.tight_layout()\n",
    "plt.show()\n",
    "roc_auc_metrics.append(roc_auc)"
   ]
  },
  {
   "cell_type": "markdown",
   "metadata": {},
   "source": [
    "**6.3.2 Bernoulli Naive Bayes with preprocessing**\n"
   ]
  },
  {
   "cell_type": "code",
   "execution_count": null,
   "metadata": {},
   "outputs": [],
   "source": [
    "model = BernoulliNB()\n",
    "model.fit(x_train_with_pre, y_train_with_pre)\n",
    "  \n",
    "predicted = model.predict(x_test_with_pre)\n",
    "conf = confusion_matrix(y_test_with_pre, predicted)\n",
    "print (\"Confusion Matrix : \\n\", conf)\n",
    "print()\n",
    "print (\"The accuracy of Bernoulli Naive Bayes is : \", accuracy_score(y_test_with_pre, predicted)*100, \"%\")\n",
    "print()\n",
    "print(\"Precision score for Bernoulli Naive Bayes is :\",precision_score(y_test_with_pre, predicted,)*100, \"%\")\n",
    "print()\n",
    "print(\"Recall score for Bernoulli Naive Bayes is :\",recall_score(y_test_with_pre, predicted,)*100, \"%\")\n",
    "accuracy_metrics.append(str(round(accuracy_score(y_test_with_pre, predicted)*100,2)) + \"%\")\n",
    "precision_metrics.append(str(round(precision_score(y_test_with_pre, predicted,)*100,2)) + \"%\")\n",
    "recall_metrics.append(str(round(recall_score(y_test_with_pre, predicted,)*100,2)) + \"%\")"
   ]
  },
  {
   "cell_type": "code",
   "execution_count": null,
   "metadata": {},
   "outputs": [],
   "source": [
    "predictions_prob = model.predict_proba(x_test_with_pre)[:, 1]\n",
    "f1 = f1_score(y_test_with_pre, predicted)\n",
    "fpr, tpr, thresholds = roc_curve(y_test_with_pre, predictions_prob)\n",
    "plt.figure(figsize=(7,4))\n",
    "roc_auc = roc_auc_score(y_test_with_pre, predictions_prob)\n",
    "# Plot ROC Curve\n",
    "plt.subplot(122)\n",
    "plt.plot(fpr, tpr, color='darkorange', lw=2, label='ROC curve (AUC = {:.2f})'.format(roc_auc))\n",
    "plt.plot([0, 1], [0, 1], color='navy', lw=2, linestyle='--')\n",
    "plt.xlim([0.0, 1.0])\n",
    "plt.ylim([0.0, 1.05])\n",
    "plt.xlabel('False Positive Rate')\n",
    "plt.ylabel('True Positive Rate')\n",
    "plt.title('BNB ROC Curve without preprocessing')\n",
    "plt.legend(loc='lower right')\n",
    "plt.tight_layout()\n",
    "plt.show()\n",
    "roc_auc_metrics.append(roc_auc)"
   ]
  },
  {
   "cell_type": "markdown",
   "metadata": {},
   "source": [
    "**6.4 Support Vector Machine**\n"
   ]
  },
  {
   "cell_type": "markdown",
   "metadata": {},
   "source": [
    "**6.4.1 Support Vector Machine without preprocessing**\n"
   ]
  },
  {
   "cell_type": "code",
   "execution_count": null,
   "metadata": {
    "execution": {
     "iopub.execute_input": "2021-09-27T15:10:40.137608Z",
     "iopub.status.busy": "2021-09-27T15:10:40.137331Z",
     "iopub.status.idle": "2021-09-27T15:10:40.186714Z",
     "shell.execute_reply": "2021-09-27T15:10:40.185451Z",
     "shell.execute_reply.started": "2021-09-27T15:10:40.137581Z"
    }
   },
   "outputs": [],
   "source": [
    "model = SVC()\n",
    "model.fit(x_train, y_train)\n",
    "predicted = model.predict(x_test)\n",
    "\n",
    "conf = confusion_matrix(y_test, predicted)\n",
    "print (\"Confusion Matrix : \\n\", conf)\n",
    "print (\"The accuracy of SVM is : \", accuracy_score(y_test, predicted)*100, \"%\")\n",
    "print(\"Precision score for SVM is :\",precision_score(y_test, predicted,)*100, \"%\")\n",
    "print(\"Recall score for SVM is :\",recall_score(y_test, predicted,)*100, \"%\")\n",
    "accuracy_metrics.append(str(round(accuracy_score(y_test, predicted)*100,2)) + \"%\")\n",
    "precision_metrics.append(str(round(precision_score(y_test, predicted,)*100,2)) + \"%\")\n",
    "recall_metrics.append(str(round(recall_score(y_test, predicted,)*100,2)) + \"%\")"
   ]
  },
  {
   "cell_type": "code",
   "execution_count": null,
   "metadata": {},
   "outputs": [],
   "source": [
    "print(\"area under curve (auc): \", metrics.roc_auc_score(y_test, predicted))\n",
    "roc_auc_metrics.append( metrics.roc_auc_score(y_test, predicted))\n"
   ]
  },
  {
   "cell_type": "markdown",
   "metadata": {},
   "source": [
    "**6.4.2 Support Vector Machine with preprocessing**\n"
   ]
  },
  {
   "cell_type": "code",
   "execution_count": null,
   "metadata": {},
   "outputs": [],
   "source": [
    "model = SVC()\n",
    "model.fit(x_train_with_pre, y_train_with_pre)\n",
    "predicted = model.predict(x_test_with_pre)\n",
    "\n",
    "conf = confusion_matrix(y_test_with_pre, predicted)\n",
    "print (\"Confusion Matrix : \\n\", conf)\n",
    "print()\n",
    "print (\"The accuracy of SVM is : \", accuracy_score(y_test_with_pre, predicted)*100, \"%\")\n",
    "print()\n",
    "print(\"Precision score for SVM is :\",precision_score(y_test_with_pre, predicted,)*100, \"%\")\n",
    "print()\n",
    "print(\"Recall score for SVM is :\",recall_score(y_test_with_pre, predicted,)*100, \"%\")\n",
    "accuracy_metrics.append(str(round(accuracy_score(y_test_with_pre, predicted)*100,2)) + \"%\")\n",
    "precision_metrics.append(str(round(precision_score(y_test_with_pre, predicted,)*100,2)) + \"%\")\n",
    "recall_metrics.append(str(round(recall_score(y_test_with_pre, predicted,)*100,2)) + \"%\")"
   ]
  },
  {
   "cell_type": "code",
   "execution_count": null,
   "metadata": {},
   "outputs": [],
   "source": [
    "print(\"area under curve (auc): \", metrics.roc_auc_score(y_test_with_pre, predicted))\n",
    "roc_auc_metrics.append( metrics.roc_auc_score(y_test_with_pre, predicted))"
   ]
  },
  {
   "cell_type": "markdown",
   "metadata": {},
   "source": [
    "**6.5 K Nearest Neighbours**"
   ]
  },
  {
   "cell_type": "markdown",
   "metadata": {},
   "source": [
    "**6.5.1 K Nearest Neighbours without preprocessing**"
   ]
  },
  {
   "cell_type": "code",
   "execution_count": null,
   "metadata": {
    "execution": {
     "iopub.execute_input": "2021-09-27T15:10:40.188646Z",
     "iopub.status.busy": "2021-09-27T15:10:40.188327Z",
     "iopub.status.idle": "2021-09-27T15:10:40.216999Z",
     "shell.execute_reply": "2021-09-27T15:10:40.215719Z",
     "shell.execute_reply.started": "2021-09-27T15:10:40.188615Z"
    }
   },
   "outputs": [],
   "source": [
    "model = KNeighborsClassifier(n_neighbors = 1)  \n",
    "model.fit(x_train, y_train)\n",
    "predicted = model.predict(x_test)\n",
    "conf = confusion_matrix(y_test, predicted)\n",
    "print (\"Confusion Matrix : \\n\", conf)\n",
    "\n",
    "print()\n",
    "print (\"The accuracy of KNN is : \", accuracy_score(y_test, predicted)*100, \"%\")\n",
    "print()\n",
    "print(\"Precision score for KNN is :\",precision_score(y_test, predicted,)*100, \"%\")\n",
    "print()\n",
    "print(\"Recall score for KNN is :\",recall_score(y_test, predicted,)*100, \"%\")\n",
    "accuracy_metrics.append(str(round(accuracy_score(y_test, predicted)*100,2)) + \"%\")\n",
    "precision_metrics.append(str(round(precision_score(y_test, predicted,)*100,2)) + \"%\")\n",
    "recall_metrics.append(str(round(recall_score(y_test, predicted,)*100,2)) + \"%\")"
   ]
  },
  {
   "cell_type": "code",
   "execution_count": null,
   "metadata": {},
   "outputs": [],
   "source": [
    "predictions_prob = model.predict_proba(x_test)[:, 1]\n",
    "f1 = f1_score(y_test, predicted)\n",
    "fpr, tpr, thresholds = roc_curve(y_test, predictions_prob)\n",
    "plt.figure(figsize=(7,4))\n",
    "roc_auc = roc_auc_score(y_test, predictions_prob)\n",
    "# Plot ROC Curve\n",
    "plt.subplot(122)\n",
    "plt.plot(fpr, tpr, color='darkorange', lw=2, label='ROC curve (AUC = {:.2f})'.format(roc_auc))\n",
    "plt.plot([0, 1], [0, 1], color='navy', lw=2, linestyle='--')\n",
    "plt.xlim([0.0, 1.0])\n",
    "plt.ylim([0.0, 1.05])\n",
    "plt.xlabel('False Positive Rate')\n",
    "plt.ylabel('True Positive Rate')\n",
    "plt.title('KNN ROC Curve without preprocessing')\n",
    "plt.legend(loc='lower right')\n",
    "plt.tight_layout()\n",
    "plt.show()\n",
    "roc_auc_metrics.append(roc_auc)"
   ]
  },
  {
   "cell_type": "markdown",
   "metadata": {},
   "source": [
    "**6.5.2 K Nearest Neighbours with preprocessing**"
   ]
  },
  {
   "cell_type": "code",
   "execution_count": null,
   "metadata": {},
   "outputs": [],
   "source": [
    "model_with_pre = KNeighborsClassifier(n_neighbors = 1)  \n",
    "model_with_pre.fit(x_train_with_pre, y_train_with_pre)\n",
    "predicted = model_with_pre.predict(x_test_with_pre)\n",
    "conf = confusion_matrix(y_test_with_pre, predicted)\n",
    "print (\"Confusion Matrix : \\n\", conf)\n",
    "\n",
    "print()\n",
    "print (\"The accuracy of KNN is : \", accuracy_score(y_test_with_pre, predicted)*100, \"%\")\n",
    "print()\n",
    "print(\"Precision score for KNN is :\",precision_score(y_test_with_pre, predicted,)*100, \"%\")\n",
    "print()\n",
    "print(\"Recall score for KNN is :\",recall_score(y_test_with_pre, predicted,)*100, \"%\")\n",
    "accuracy_metrics.append(str(round(accuracy_score(y_test_with_pre, predicted)*100,2)) + \"%\")\n",
    "precision_metrics.append(str(round(precision_score(y_test_with_pre, predicted,)*100,2)) + \"%\")\n",
    "recall_metrics.append(str(round(recall_score(y_test_with_pre, predicted,)*100,2)) + \"%\")"
   ]
  },
  {
   "cell_type": "code",
   "execution_count": null,
   "metadata": {},
   "outputs": [],
   "source": [
    "predictions_prob = model_with_pre.predict_proba(x_test_with_pre)[:, 1]\n",
    "f1 = f1_score(y_test_with_pre, predicted)\n",
    "fpr, tpr, thresholds = roc_curve(y_test_with_pre, predictions_prob)\n",
    "plt.figure(figsize=(7,4))\n",
    "roc_auc = roc_auc_score(y_test_with_pre, predictions_prob)\n",
    "# Plot ROC Curve\n",
    "plt.subplot(122)\n",
    "plt.plot(fpr, tpr, color='darkorange', lw=2, label='ROC curve (AUC = {:.2f})'.format(roc_auc))\n",
    "plt.plot([0, 1], [0, 1], color='navy', lw=2, linestyle='--')\n",
    "plt.xlim([0.0, 1.0])\n",
    "plt.ylim([0.0, 1.05])\n",
    "plt.xlabel('False Positive Rate')\n",
    "plt.ylabel('True Positive Rate')\n",
    "plt.title('KNN ROC Curve with preprocessing')\n",
    "plt.legend(loc='lower right')\n",
    "plt.tight_layout()\n",
    "plt.show()\n",
    "roc_auc_metrics.append(roc_auc)"
   ]
  },
  {
   "cell_type": "markdown",
   "metadata": {},
   "source": [
    "**6.6 X Gradient Boosting**"
   ]
  },
  {
   "cell_type": "markdown",
   "metadata": {},
   "source": [
    "**6.6.1 X Gradient Boosting without preprocessing**"
   ]
  },
  {
   "cell_type": "code",
   "execution_count": null,
   "metadata": {
    "execution": {
     "iopub.execute_input": "2021-09-27T15:10:40.219130Z",
     "iopub.status.busy": "2021-09-27T15:10:40.218710Z",
     "iopub.status.idle": "2021-09-27T15:10:40.362467Z",
     "shell.execute_reply": "2021-09-27T15:10:40.361148Z",
     "shell.execute_reply.started": "2021-09-27T15:10:40.219077Z"
    }
   },
   "outputs": [],
   "source": [
    "model = xgb.XGBClassifier(use_label_encoder=False)\n",
    "model.fit(x_train, y_train)\n",
    "predicted = model.predict(x_test)\n",
    "\n",
    "conf = confusion_matrix(y_test, predicted)\n",
    "print (\"Confusion Matrix : \\n\", conf)\n",
    "\n",
    "print()\n",
    "print (\"The accuracy of XGBoost is : \", accuracy_score(y_test, predicted)*100, \"%\")\n",
    "print()\n",
    "print(\"Precision score for XGBoost is :\",precision_score(y_test, predicted,)*100, \"%\")\n",
    "print()\n",
    "print(\"Recall score for XGBoost is :\",recall_score(y_test, predicted,)*100, \"%\")\n",
    "accuracy_metrics.append(str(round(accuracy_score(y_test, predicted)*100,2)) + \"%\")\n",
    "precision_metrics.append(str(round(precision_score(y_test, predicted,)*100,2)) + \"%\")\n",
    "recall_metrics.append(str(round(recall_score(y_test, predicted,)*100,2)) + \"%\")"
   ]
  },
  {
   "cell_type": "code",
   "execution_count": null,
   "metadata": {},
   "outputs": [],
   "source": [
    "predictions_prob = model.predict_proba(x_test)[:, 1]\n",
    "f1 = f1_score(y_test, predicted)\n",
    "fpr, tpr, thresholds = roc_curve(y_test, predictions_prob)\n",
    "plt.figure(figsize=(7,4))\n",
    "roc_auc = roc_auc_score(y_test, predictions_prob)\n",
    "# Plot ROC Curve\n",
    "plt.subplot(122)\n",
    "plt.plot(fpr, tpr, color='darkorange', lw=2, label='ROC curve (AUC = {:.2f})'.format(roc_auc))\n",
    "plt.plot([0, 1], [0, 1], color='navy', lw=2, linestyle='--')\n",
    "plt.xlim([0.0, 1.0])\n",
    "plt.ylim([0.0, 1.05])\n",
    "plt.xlabel('False Positive Rate')\n",
    "plt.ylabel('True Positive Rate')\n",
    "plt.title('GB ROC Curve without preprocessing')\n",
    "plt.legend(loc='lower right')\n",
    "plt.tight_layout()\n",
    "plt.show()\n",
    "roc_auc_metrics.append(roc_auc)"
   ]
  },
  {
   "cell_type": "markdown",
   "metadata": {},
   "source": [
    "**6.6.1 X Gradient Boosting with preprocessing**"
   ]
  },
  {
   "cell_type": "code",
   "execution_count": null,
   "metadata": {},
   "outputs": [],
   "source": [
    "model = xgb.XGBClassifier(use_label_encoder=False)\n",
    "model.fit(x_train_with_pre, y_train_with_pre)\n",
    "predicted = model.predict(x_test_with_pre)\n",
    "\n",
    "conf = confusion_matrix(y_test_with_pre, predicted)\n",
    "print (\"Confusion Matrix : \\n\", conf)\n",
    "\n",
    "print()\n",
    "print (\"The accuracy of XGBoost is : \", accuracy_score(y_test_with_pre, predicted)*100, \"%\")\n",
    "print()\n",
    "print(\"Precision score for XGBoost is :\",precision_score(y_test_with_pre, predicted,)*100, \"%\")\n",
    "print()\n",
    "print(\"Recall score for XGBoost is :\",recall_score(y_test_with_pre, predicted,)*100, \"%\")\n",
    "accuracy_metrics.append(str(round(accuracy_score(y_test_with_pre, predicted)*100,2)) + \"%\")\n",
    "precision_metrics.append(str(round(precision_score(y_test_with_pre, predicted,)*100,2)) + \"%\")\n",
    "recall_metrics.append(str(round(recall_score(y_test_with_pre, predicted,)*100,2)) + \"%\")"
   ]
  },
  {
   "cell_type": "code",
   "execution_count": null,
   "metadata": {},
   "outputs": [],
   "source": [
    "predictions_prob = model.predict_proba(x_test_with_pre)[:, 1]\n",
    "f1 = f1_score(y_test_with_pre, predicted)\n",
    "fpr, tpr, thresholds = roc_curve(y_test_with_pre, predictions_prob)\n",
    "plt.figure(figsize=(7,4))\n",
    "roc_auc = roc_auc_score(y_test_with_pre, predictions_prob)\n",
    "# Plot ROC Curve\n",
    "plt.subplot(122)\n",
    "plt.plot(fpr, tpr, color='darkorange', lw=2, label='ROC curve (AUC = {:.2f})'.format(roc_auc))\n",
    "plt.plot([0, 1], [0, 1], color='navy', lw=2, linestyle='--')\n",
    "plt.xlim([0.0, 1.0])\n",
    "plt.ylim([0.0, 1.05])\n",
    "plt.xlabel('False Positive Rate')\n",
    "plt.ylabel('True Positive Rate')\n",
    "plt.title('GB ROC Curve without preprocessing')\n",
    "plt.legend(loc='lower right')\n",
    "plt.tight_layout()\n",
    "plt.show()\n",
    "roc_auc_metrics.append(roc_auc)"
   ]
  },
  {
   "cell_type": "code",
   "execution_count": null,
   "metadata": {},
   "outputs": [],
   "source": [
    "print(\"area under curve (auc): \", metrics.roc_auc_score(y_test_with_pre, predicted))"
   ]
  },
  {
   "cell_type": "code",
   "execution_count": null,
   "metadata": {},
   "outputs": [],
   "source": [
    "#Fitting The Random Forest Classifier model to the Traning Set\n",
    "from sklearn.ensemble import RandomForestClassifier\n",
    "RF = RandomForestClassifier(n_estimators = 10,criterion = 'entropy',random_state = 0)\n",
    "RF.fit(x_train, y_train)\n",
    "RF_y_pred = RF.predict(x_test)\n",
    "conf = confusion_matrix(y_test, RF_y_pred)\n",
    "print (\"Confusion Matrix : \\n\", conf)\n",
    "\n",
    "print()\n",
    "print (\"The accuracy of RF is : \", accuracy_score(y_test, RF_y_pred)*100, \"%\")\n",
    "print()\n",
    "print(\"Precision score for RF is :\",precision_score(y_test, RF_y_pred,)*100, \"%\")\n",
    "print()\n",
    "print(\"Recall score for RF is :\",recall_score(y_test, RF_y_pred,)*100, \"%\")\n",
    "accuracy_metrics.append(str(round(accuracy_score(y_test, RF_y_pred)*100,2)) + \"%\")\n",
    "precision_metrics.append(str(round(precision_score(y_test, RF_y_pred,)*100,2)) + \"%\")\n",
    "recall_metrics.append(str(round(recall_score(y_test, RF_y_pred,)*100,2)) + \"%\")"
   ]
  },
  {
   "cell_type": "code",
   "execution_count": null,
   "metadata": {},
   "outputs": [],
   "source": [
    "predictions_prob = RF.predict_proba(x_test)[:, 1]\n",
    "f1 = f1_score(y_test, RF_y_pred)\n",
    "fpr, tpr, thresholds = roc_curve(y_test, predictions_prob)\n",
    "plt.figure(figsize=(7,4))\n",
    "roc_auc = roc_auc_score(y_test, predictions_prob)\n",
    "# Plot ROC Curve\n",
    "plt.subplot(122)\n",
    "plt.plot(fpr, tpr, color='darkorange', lw=2, label='ROC curve (AUC = {:.2f})'.format(roc_auc))\n",
    "plt.plot([0, 1], [0, 1], color='navy', lw=2, linestyle='--')\n",
    "plt.xlim([0.0, 1.0])\n",
    "plt.ylim([0.0, 1.05])\n",
    "plt.xlabel('False Positive Rate')\n",
    "plt.ylabel('True Positive Rate')\n",
    "plt.title('RF ROC Curve without preprocessing')\n",
    "plt.legend(loc='lower right')\n",
    "plt.tight_layout()\n",
    "plt.show()\n",
    "roc_auc_metrics.append(roc_auc)"
   ]
  },
  {
   "cell_type": "code",
   "execution_count": null,
   "metadata": {},
   "outputs": [],
   "source": [
    "RF_with_pre = RandomForestClassifier(n_estimators = 10,criterion = 'entropy',random_state = 0)\n",
    "RF_with_pre.fit(x_train_with_pre, y_train_with_pre)\n",
    "RF_y_pred = RF_with_pre.predict(x_test_with_pre)\n",
    "conf = confusion_matrix(y_test_with_pre, RF_y_pred)\n",
    "print (\"Confusion Matrix : \\n\", conf)\n",
    "\n",
    "print()\n",
    "print (\"The accuracy of RF is : \", accuracy_score(y_test_with_pre, RF_y_pred)*100, \"%\")\n",
    "print()\n",
    "print(\"Precision score for RF is :\",precision_score(y_test_with_pre, RF_y_pred,)*100, \"%\")\n",
    "print()\n",
    "print(\"Recall score for RF is :\",recall_score(y_test_with_pre, RF_y_pred,)*100, \"%\")\n",
    "accuracy_metrics.append(str(round(accuracy_score(y_test_with_pre, predicted)*100,2)) + \"%\")\n",
    "precision_metrics.append(str(round(precision_score(y_test_with_pre, predicted,)*100,2)) + \"%\")\n",
    "recall_metrics.append(str(round(recall_score(y_test_with_pre, predicted,)*100,2)) + \"%\")"
   ]
  },
  {
   "cell_type": "code",
   "execution_count": null,
   "metadata": {},
   "outputs": [],
   "source": [
    "predictions_prob = RF_with_pre.predict_proba(x_test_with_pre)[:, 1]\n",
    "f1 = f1_score(y_test_with_pre, predicted)\n",
    "fpr, tpr, thresholds = roc_curve(y_test_with_pre, predictions_prob)\n",
    "plt.figure(figsize=(7,4))\n",
    "roc_auc = roc_auc_score(y_test_with_pre, predictions_prob)\n",
    "# Plot ROC Curve\n",
    "plt.subplot(122)\n",
    "plt.plot(fpr, tpr, color='darkorange', lw=2, label='ROC curve (AUC = {:.2f})'.format(roc_auc))\n",
    "plt.plot([0, 1], [0, 1], color='navy', lw=2, linestyle='--')\n",
    "plt.xlim([0.0, 1.0])\n",
    "plt.ylim([0.0, 1.05])\n",
    "plt.xlabel('False Positive Rate')\n",
    "plt.ylabel('True Positive Rate')\n",
    "plt.title('RF ROC Curve with preprocessing')\n",
    "plt.legend(loc='lower right')\n",
    "plt.tight_layout()\n",
    "plt.show()\n",
    "roc_auc_metrics.append(roc_auc)"
   ]
  },
  {
   "cell_type": "code",
   "execution_count": null,
   "metadata": {},
   "outputs": [],
   "source": [
    "#Fitting The Decision Tree Classifier model to the Traning Set\n",
    "from sklearn.tree import DecisionTreeClassifier\n",
    "DT = DecisionTreeClassifier()\n",
    "DT.fit(x_train,y_train)\n",
    "DT_y_pred = DT.predict(x_test)\n",
    "conf = confusion_matrix(y_test, DT_y_pred)\n",
    "print (\"Confusion Matrix : \\n\", conf)\n",
    "\n",
    "print()\n",
    "print (\"The accuracy of DT is : \", accuracy_score(y_test, DT_y_pred)*100, \"%\")\n",
    "print()\n",
    "print(\"Precision score for DT is :\",precision_score(y_test, DT_y_pred,)*100, \"%\")\n",
    "print()\n",
    "print(\"Recall score for DT is :\",recall_score(y_test, DT_y_pred,)*100, \"%\")\n",
    "accuracy_metrics.append(str(round(accuracy_score(y_test, DT_y_pred)*100,2)) + \"%\")\n",
    "precision_metrics.append(str(round(precision_score(y_test, DT_y_pred)*100,2)) + \"%\")\n",
    "recall_metrics.append(str(round(recall_score(y_test, DT_y_pred)*100,2)) + \"%\")"
   ]
  },
  {
   "cell_type": "code",
   "execution_count": null,
   "metadata": {},
   "outputs": [],
   "source": [
    "predictions_prob = DT.predict_proba(x_test)[:, 1]\n",
    "f1 = f1_score(y_test, DT_y_pred)\n",
    "fpr, tpr, thresholds = roc_curve(y_test, predictions_prob)\n",
    "plt.figure(figsize=(7,4))\n",
    "roc_auc = roc_auc_score(y_test, predictions_prob)\n",
    "# Plot ROC Curve\n",
    "plt.subplot(122)\n",
    "plt.plot(fpr, tpr, color='darkorange', lw=2, label='ROC curve (AUC = {:.2f})'.format(roc_auc))\n",
    "plt.plot([0, 1], [0, 1], color='navy', lw=2, linestyle='--')\n",
    "plt.xlim([0.0, 1.0])\n",
    "plt.ylim([0.0, 1.05])\n",
    "plt.xlabel('False Positive Rate')\n",
    "plt.ylabel('True Positive Rate')\n",
    "plt.title('DT ROC Curve without preprocessing')\n",
    "plt.legend(loc='lower right')\n",
    "plt.tight_layout()\n",
    "plt.show()\n",
    "roc_auc_metrics.append(roc_auc)"
   ]
  },
  {
   "cell_type": "code",
   "execution_count": null,
   "metadata": {},
   "outputs": [],
   "source": [
    "#Fitting The Decision Tree Classifier model to the Traning Set\n",
    "from sklearn.tree import DecisionTreeClassifier\n",
    "DT_with_pre = DecisionTreeClassifier()\n",
    "DT_with_pre.fit(x_train_with_pre,y_train_with_pre)\n",
    "DT_y_pred = DT_with_pre.predict(x_test_with_pre)\n",
    "conf = confusion_matrix(y_test_with_pre, DT_y_pred)\n",
    "print (\"Confusion Matrix : \\n\", conf)\n",
    "\n",
    "print()\n",
    "print (\"The accuracy of DT is : \", accuracy_score(y_test_with_pre, DT_y_pred)*100, \"%\")\n",
    "print()\n",
    "print(\"Precision score for DT is :\",precision_score(y_test_with_pre, DT_y_pred,)*100, \"%\")\n",
    "print()\n",
    "print(\"Recall score for DT is :\",recall_score(y_test_with_pre, DT_y_pred,)*100, \"%\")\n",
    "accuracy_metrics.append(str(round(accuracy_score(y_test_with_pre, DT_y_pred)*100,2)) + \"%\")\n",
    "precision_metrics.append(str(round(precision_score(y_test_with_pre, DT_y_pred)*100,2)) + \"%\")\n",
    "recall_metrics.append(str(round(recall_score(y_test_with_pre, DT_y_pred,)*100,2)) + \"%\")"
   ]
  },
  {
   "cell_type": "code",
   "execution_count": null,
   "metadata": {},
   "outputs": [],
   "source": [
    "predictions_prob = DT_with_pre.predict_proba(x_test_with_pre)[:, 1]\n",
    "f1 = f1_score(y_test_with_pre, DT_y_pred)\n",
    "fpr, tpr, thresholds = roc_curve(y_test_with_pre, predictions_prob)\n",
    "plt.figure(figsize=(7,4))\n",
    "roc_auc = roc_auc_score(y_test_with_pre, predictions_prob)\n",
    "# Plot ROC Curve\n",
    "plt.subplot(122)\n",
    "plt.plot(fpr, tpr, color='darkorange', lw=2, label='ROC curve (AUC = {:.2f})'.format(roc_auc))\n",
    "plt.plot([0, 1], [0, 1], color='navy', lw=2, linestyle='--')\n",
    "plt.xlim([0.0, 1.0])\n",
    "plt.ylim([0.0, 1.05])\n",
    "plt.xlabel('False Positive Rate')\n",
    "plt.ylabel('True Positive Rate')\n",
    "plt.title('DT ROC Curve with preprocessing')\n",
    "plt.legend(loc='lower right')\n",
    "plt.tight_layout()\n",
    "plt.show()\n",
    "roc_auc_metrics.append(roc_auc)"
   ]
  },
  {
   "cell_type": "code",
   "execution_count": null,
   "metadata": {},
   "outputs": [],
   "source": [
    "sum_table = {'ML Algorithm': ['LR without PreProcessing','LR with PreProcessing','GNB without PreProcessing','GNB with PreProcessing',\n",
    "                       'BNB without PreProcessing','BNB with PreProcessing','SVM without preprecessing','SVM with preprocessing',\n",
    "                            'KNN without preproccessing','KNN with preprocessing','GB without preprocessing','GB with preprocessing',\n",
    "                            'RF without preprocessing','RF with preprocessing','DT without preprocessing','DT with preprocessing'], \n",
    "        'Accuracy': accuracy_metrics\n",
    "        }\n",
    "accuracy_sum_metric = pd.DataFrame(sum_table ,columns = ['ML Algorithm', 'Accuracy'] )\n",
    "pre_sum_metric = pd.Series(precision_metrics, name = 'Precision') \n",
    "recall_sum_metric = pd.Series(recall_metrics, name = 'Recall')\n",
    "roc_sum_metric = pd.Series(roc_auc_metrics, name = 'ROC AUC Score')\n",
    "\n",
    "final_metric = pd.concat([accuracy_sum_metric,pre_sum_metric, recall_sum_metric, roc_sum_metric], axis = 1)\n",
    "\n",
    "final_metric"
   ]
  },
  {
   "cell_type": "markdown",
   "metadata": {},
   "source": [
    "### Alogrithm Results Table :\n",
    "\n",
    "\n",
    "|Sr. No.|ML Algorithm|Accuracy|Precision|Recall|ROC AUC Score|\n",
    "|-|-|-|-|-|-|\n",
    "|1|LR without PreProcessing|74.6%|63.7%|67.02%|0.81\n",
    "|2|LR with PreProcessing|70.77%|57.14%|72.72%|0.82\n",
    "|3|GNB without PreProcessing|76.62%|66.10%|70.90%|0.83\n",
    "|4|GNB with PreProcessing|74.67%|61.76%|76.36%|0.83\n",
    "|5|BNB without PreProcessing|65.58%|75%|5.45%|0.49\n",
    "|6|BNB with PreProcessing|46.10%|38.7%|87.27%|0.54\n",
    "|5|SVM without PreProcessing|76.62%|72.09%|56.36%|0.72\n",
    "|6|SVM with PreProcessing|71.42%|57.74%|74.54%|0.72\n",
    "|7|KNN without PreProcessing|67.53%|53.96%|61.81%|0.66\n",
    "|8|KNN with PreProcessing|71.41%|57.74%|74.54%|0.66\n",
    "|9|GB without PreProcessing|70.77%|58.06%|65.45%|0.77\n",
    "|10|GB with PreProcessing|71.42%|57.74%|74.54%|0.77\n",
    "|11|RF without PreProcessing|75.32%|68.88%|56.36%|0.79\n",
    "|12|RF with PreProcessing|71.42%|58.73%|67.72%|0.75\n",
    "|13|DT without PreProcessing|74.67%|62.90%|70.90%|0.73\n",
    "|14|DT with PreProcessing|71.42%|59.01%|65.45%|0.70"
   ]
  },
  {
   "cell_type": "markdown",
   "metadata": {},
   "source": [
    "#  <p style=\"color:Blue;\">7. Conclusion</p>\n",
    "1. Comparisions made for 6 algorithms with preprocessing vs without preprocessing and found metrics were improving for with processing \n",
    "2. Gaussian Naive bayes is performing the best in context of precision and recall where it is identifying 115 cases correct among total 154 predictions"
   ]
  }
 ],
 "metadata": {
  "kernelspec": {
   "display_name": "Python 3 (ipykernel)",
   "language": "python",
   "name": "python3"
  },
  "language_info": {
   "codemirror_mode": {
    "name": "ipython",
    "version": 3
   },
   "file_extension": ".py",
   "mimetype": "text/x-python",
   "name": "python",
   "nbconvert_exporter": "python",
   "pygments_lexer": "ipython3",
   "version": "3.11.5"
  }
 },
 "nbformat": 4,
 "nbformat_minor": 4
}
