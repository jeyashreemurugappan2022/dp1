{
 "cells": [
  {
   "cell_type": "markdown",
   "metadata": {
    "execution": {
     "iopub.execute_input": "2021-09-27T15:09:52.356677Z",
     "iopub.status.busy": "2021-09-27T15:09:52.355998Z",
     "iopub.status.idle": "2021-09-27T15:09:54.239706Z",
     "shell.execute_reply": "2021-09-27T15:09:54.238583Z",
     "shell.execute_reply.started": "2021-09-27T15:09:52.356570Z"
    }
   },
   "source": [
    "#  <p style=\"color:Black;\">1.Importing DS. </p>"
   ]
  },
  {
   "cell_type": "code",
   "execution_count": 1,
   "metadata": {},
   "outputs": [],
   "source": [
    "import numpy as np \n",
    "import pandas as pd\n",
    "import os\n",
    "import seaborn as sns\n",
    "import matplotlib.pyplot as plt\n",
    "import warnings\n",
    "from sklearn.preprocessing import MinMaxScaler\n",
    "from imblearn.over_sampling import SMOTE \n",
    "from sklearn.model_selection import train_test_split\n",
    "from sklearn.preprocessing import StandardScaler \n",
    "from sklearn.svm import SVC\n",
    "from sklearn.linear_model import LogisticRegression\n",
    "import xgboost as xgb\n",
    "from sklearn.neighbors import KNeighborsClassifier  \n",
    "from sklearn.ensemble import RandomForestRegressor\n",
    "from sklearn.neighbors import KNeighborsClassifier\n",
    "from sklearn.naive_bayes import BernoulliNB\n",
    "from sklearn.naive_bayes import GaussianNB\n",
    "from sklearn.metrics import accuracy_score, f1_score, precision_score, recall_score, classification_report, confusion_matrix,f1_score, roc_curve, roc_auc_score\n",
    "from sklearn import metrics\n",
    "import tensorflow as tf\n",
    "from sklearn.impute import KNNImputer\n",
    "\n",
    "warnings.filterwarnings(\"ignore\")"
   ]
  },
  {
   "cell_type": "markdown",
   "metadata": {},
   "source": [
    "[](https://www.google.com/imgres?imgurl=https%3A%2F%2Fcdn-prod.medicalnewstoday.com%2Fcontent%2Fimages%2Farticles%2F323%2F323627%2Fdiabetes.jpg&imgrefurl=https%3A%2F%2Fwww.medicalnewstoday.com%2Farticles%2F323627&tbnid=8Uh9XWHpI-PPHM&vet=12ahUKEwi3k7u7ppHwAhXnDLcAHYrgCNIQMygAegUIARDQAQ..i&docid=F90ufqoDOf6rXM&w=1100&h=734&q=diabetes&ved=2ahUKEwi3k7u7ppHwAhXnDLcAHYrgCNIQMygAegUIARDQAQ)"
   ]
  },
  {
   "cell_type": "markdown",
   "metadata": {},
   "source": [
    "#  <p style=\"color:Black;\">2. Reading The Dataset and Creating DataFrame. </p>"
   ]
  },
  {
   "cell_type": "code",
   "execution_count": 2,
   "metadata": {
    "_kg_hide-output": true,
    "execution": {
     "iopub.execute_input": "2021-09-27T15:09:54.242437Z",
     "iopub.status.busy": "2021-09-27T15:09:54.242076Z",
     "iopub.status.idle": "2021-09-27T15:09:54.269335Z",
     "shell.execute_reply": "2021-09-27T15:09:54.268351Z",
     "shell.execute_reply.started": "2021-09-27T15:09:54.242402Z"
    }
   },
   "outputs": [],
   "source": [
    "diabetes = pd.read_csv('./diabetes.csv')"
   ]
  },
  {
   "cell_type": "markdown",
   "metadata": {},
   "source": [
    "#  <p style=\"color:Black;\">3. Data Analysis </p>"
   ]
  },
  {
   "cell_type": "markdown",
   "metadata": {
    "execution": {
     "iopub.execute_input": "2021-09-27T15:09:54.270891Z",
     "iopub.status.busy": "2021-09-27T15:09:54.270583Z",
     "iopub.status.idle": "2021-09-27T15:09:54.306723Z",
     "shell.execute_reply": "2021-09-27T15:09:54.305641Z",
     "shell.execute_reply.started": "2021-09-27T15:09:54.270861Z"
    }
   },
   "source": [
    "**3.1 Examinning data**"
   ]
  },
  {
   "cell_type": "code",
   "execution_count": 3,
   "metadata": {},
   "outputs": [
    {
     "data": {
      "text/html": [
       "<div>\n",
       "<style scoped>\n",
       "    .dataframe tbody tr th:only-of-type {\n",
       "        vertical-align: middle;\n",
       "    }\n",
       "\n",
       "    .dataframe tbody tr th {\n",
       "        vertical-align: top;\n",
       "    }\n",
       "\n",
       "    .dataframe thead th {\n",
       "        text-align: right;\n",
       "    }\n",
       "</style>\n",
       "<table border=\"1\" class=\"dataframe\">\n",
       "  <thead>\n",
       "    <tr style=\"text-align: right;\">\n",
       "      <th></th>\n",
       "      <th>PatientID</th>\n",
       "      <th>Pregnancies</th>\n",
       "      <th>PlasmaGlucose</th>\n",
       "      <th>DiastolicBloodPressure</th>\n",
       "      <th>TricepsThickness</th>\n",
       "      <th>SerumInsulin</th>\n",
       "      <th>BMI</th>\n",
       "      <th>DiabetesPedigree</th>\n",
       "      <th>Age</th>\n",
       "      <th>Diabetic</th>\n",
       "    </tr>\n",
       "  </thead>\n",
       "  <tbody>\n",
       "    <tr>\n",
       "      <th>0</th>\n",
       "      <td>1354778</td>\n",
       "      <td>0</td>\n",
       "      <td>171</td>\n",
       "      <td>80</td>\n",
       "      <td>34</td>\n",
       "      <td>23</td>\n",
       "      <td>43.509726</td>\n",
       "      <td>1.213191</td>\n",
       "      <td>21</td>\n",
       "      <td>0</td>\n",
       "    </tr>\n",
       "    <tr>\n",
       "      <th>1</th>\n",
       "      <td>1147438</td>\n",
       "      <td>8</td>\n",
       "      <td>92</td>\n",
       "      <td>93</td>\n",
       "      <td>47</td>\n",
       "      <td>36</td>\n",
       "      <td>21.240576</td>\n",
       "      <td>0.158365</td>\n",
       "      <td>23</td>\n",
       "      <td>0</td>\n",
       "    </tr>\n",
       "    <tr>\n",
       "      <th>2</th>\n",
       "      <td>1640031</td>\n",
       "      <td>7</td>\n",
       "      <td>115</td>\n",
       "      <td>47</td>\n",
       "      <td>52</td>\n",
       "      <td>35</td>\n",
       "      <td>41.511523</td>\n",
       "      <td>0.079019</td>\n",
       "      <td>23</td>\n",
       "      <td>0</td>\n",
       "    </tr>\n",
       "    <tr>\n",
       "      <th>3</th>\n",
       "      <td>1883350</td>\n",
       "      <td>9</td>\n",
       "      <td>103</td>\n",
       "      <td>78</td>\n",
       "      <td>25</td>\n",
       "      <td>304</td>\n",
       "      <td>29.582192</td>\n",
       "      <td>1.282870</td>\n",
       "      <td>43</td>\n",
       "      <td>1</td>\n",
       "    </tr>\n",
       "    <tr>\n",
       "      <th>4</th>\n",
       "      <td>1424119</td>\n",
       "      <td>1</td>\n",
       "      <td>85</td>\n",
       "      <td>59</td>\n",
       "      <td>27</td>\n",
       "      <td>35</td>\n",
       "      <td>42.604536</td>\n",
       "      <td>0.549542</td>\n",
       "      <td>22</td>\n",
       "      <td>0</td>\n",
       "    </tr>\n",
       "    <tr>\n",
       "      <th>5</th>\n",
       "      <td>1619297</td>\n",
       "      <td>0</td>\n",
       "      <td>82</td>\n",
       "      <td>92</td>\n",
       "      <td>9</td>\n",
       "      <td>253</td>\n",
       "      <td>19.724160</td>\n",
       "      <td>0.103424</td>\n",
       "      <td>26</td>\n",
       "      <td>0</td>\n",
       "    </tr>\n",
       "    <tr>\n",
       "      <th>6</th>\n",
       "      <td>1660149</td>\n",
       "      <td>0</td>\n",
       "      <td>133</td>\n",
       "      <td>47</td>\n",
       "      <td>19</td>\n",
       "      <td>227</td>\n",
       "      <td>21.941357</td>\n",
       "      <td>0.174160</td>\n",
       "      <td>21</td>\n",
       "      <td>0</td>\n",
       "    </tr>\n",
       "    <tr>\n",
       "      <th>7</th>\n",
       "      <td>1458769</td>\n",
       "      <td>0</td>\n",
       "      <td>67</td>\n",
       "      <td>87</td>\n",
       "      <td>43</td>\n",
       "      <td>36</td>\n",
       "      <td>18.277723</td>\n",
       "      <td>0.236165</td>\n",
       "      <td>26</td>\n",
       "      <td>0</td>\n",
       "    </tr>\n",
       "    <tr>\n",
       "      <th>8</th>\n",
       "      <td>1201647</td>\n",
       "      <td>8</td>\n",
       "      <td>80</td>\n",
       "      <td>95</td>\n",
       "      <td>33</td>\n",
       "      <td>24</td>\n",
       "      <td>26.624929</td>\n",
       "      <td>0.443947</td>\n",
       "      <td>53</td>\n",
       "      <td>1</td>\n",
       "    </tr>\n",
       "    <tr>\n",
       "      <th>9</th>\n",
       "      <td>1403912</td>\n",
       "      <td>1</td>\n",
       "      <td>72</td>\n",
       "      <td>31</td>\n",
       "      <td>40</td>\n",
       "      <td>42</td>\n",
       "      <td>36.889576</td>\n",
       "      <td>0.103944</td>\n",
       "      <td>26</td>\n",
       "      <td>0</td>\n",
       "    </tr>\n",
       "  </tbody>\n",
       "</table>\n",
       "</div>"
      ],
      "text/plain": [
       "   PatientID  Pregnancies  PlasmaGlucose  DiastolicBloodPressure  \\\n",
       "0    1354778            0            171                      80   \n",
       "1    1147438            8             92                      93   \n",
       "2    1640031            7            115                      47   \n",
       "3    1883350            9            103                      78   \n",
       "4    1424119            1             85                      59   \n",
       "5    1619297            0             82                      92   \n",
       "6    1660149            0            133                      47   \n",
       "7    1458769            0             67                      87   \n",
       "8    1201647            8             80                      95   \n",
       "9    1403912            1             72                      31   \n",
       "\n",
       "   TricepsThickness  SerumInsulin        BMI  DiabetesPedigree  Age  Diabetic  \n",
       "0                34            23  43.509726          1.213191   21         0  \n",
       "1                47            36  21.240576          0.158365   23         0  \n",
       "2                52            35  41.511523          0.079019   23         0  \n",
       "3                25           304  29.582192          1.282870   43         1  \n",
       "4                27            35  42.604536          0.549542   22         0  \n",
       "5                 9           253  19.724160          0.103424   26         0  \n",
       "6                19           227  21.941357          0.174160   21         0  \n",
       "7                43            36  18.277723          0.236165   26         0  \n",
       "8                33            24  26.624929          0.443947   53         1  \n",
       "9                40            42  36.889576          0.103944   26         0  "
      ]
     },
     "execution_count": 3,
     "metadata": {},
     "output_type": "execute_result"
    }
   ],
   "source": [
    "diabetes.head(10)"
   ]
  },
  {
   "cell_type": "code",
   "execution_count": 4,
   "metadata": {},
   "outputs": [],
   "source": [
    "#patient id is not going to be useful hence dropping it\n",
    "diabetes = diabetes.drop(['PatientID'], axis=1)"
   ]
  },
  {
   "cell_type": "code",
   "execution_count": 5,
   "metadata": {},
   "outputs": [
    {
     "data": {
      "text/html": [
       "<div>\n",
       "<style scoped>\n",
       "    .dataframe tbody tr th:only-of-type {\n",
       "        vertical-align: middle;\n",
       "    }\n",
       "\n",
       "    .dataframe tbody tr th {\n",
       "        vertical-align: top;\n",
       "    }\n",
       "\n",
       "    .dataframe thead th {\n",
       "        text-align: right;\n",
       "    }\n",
       "</style>\n",
       "<table border=\"1\" class=\"dataframe\">\n",
       "  <thead>\n",
       "    <tr style=\"text-align: right;\">\n",
       "      <th></th>\n",
       "      <th>Pregnancies</th>\n",
       "      <th>PlasmaGlucose</th>\n",
       "      <th>DiastolicBloodPressure</th>\n",
       "      <th>TricepsThickness</th>\n",
       "      <th>SerumInsulin</th>\n",
       "      <th>BMI</th>\n",
       "      <th>DiabetesPedigree</th>\n",
       "      <th>Age</th>\n",
       "      <th>Diabetic</th>\n",
       "    </tr>\n",
       "  </thead>\n",
       "  <tbody>\n",
       "    <tr>\n",
       "      <th>0</th>\n",
       "      <td>0</td>\n",
       "      <td>171</td>\n",
       "      <td>80</td>\n",
       "      <td>34</td>\n",
       "      <td>23</td>\n",
       "      <td>43.509726</td>\n",
       "      <td>1.213191</td>\n",
       "      <td>21</td>\n",
       "      <td>0</td>\n",
       "    </tr>\n",
       "    <tr>\n",
       "      <th>1</th>\n",
       "      <td>8</td>\n",
       "      <td>92</td>\n",
       "      <td>93</td>\n",
       "      <td>47</td>\n",
       "      <td>36</td>\n",
       "      <td>21.240576</td>\n",
       "      <td>0.158365</td>\n",
       "      <td>23</td>\n",
       "      <td>0</td>\n",
       "    </tr>\n",
       "    <tr>\n",
       "      <th>2</th>\n",
       "      <td>7</td>\n",
       "      <td>115</td>\n",
       "      <td>47</td>\n",
       "      <td>52</td>\n",
       "      <td>35</td>\n",
       "      <td>41.511523</td>\n",
       "      <td>0.079019</td>\n",
       "      <td>23</td>\n",
       "      <td>0</td>\n",
       "    </tr>\n",
       "    <tr>\n",
       "      <th>3</th>\n",
       "      <td>9</td>\n",
       "      <td>103</td>\n",
       "      <td>78</td>\n",
       "      <td>25</td>\n",
       "      <td>304</td>\n",
       "      <td>29.582192</td>\n",
       "      <td>1.282870</td>\n",
       "      <td>43</td>\n",
       "      <td>1</td>\n",
       "    </tr>\n",
       "    <tr>\n",
       "      <th>4</th>\n",
       "      <td>1</td>\n",
       "      <td>85</td>\n",
       "      <td>59</td>\n",
       "      <td>27</td>\n",
       "      <td>35</td>\n",
       "      <td>42.604536</td>\n",
       "      <td>0.549542</td>\n",
       "      <td>22</td>\n",
       "      <td>0</td>\n",
       "    </tr>\n",
       "    <tr>\n",
       "      <th>5</th>\n",
       "      <td>0</td>\n",
       "      <td>82</td>\n",
       "      <td>92</td>\n",
       "      <td>9</td>\n",
       "      <td>253</td>\n",
       "      <td>19.724160</td>\n",
       "      <td>0.103424</td>\n",
       "      <td>26</td>\n",
       "      <td>0</td>\n",
       "    </tr>\n",
       "    <tr>\n",
       "      <th>6</th>\n",
       "      <td>0</td>\n",
       "      <td>133</td>\n",
       "      <td>47</td>\n",
       "      <td>19</td>\n",
       "      <td>227</td>\n",
       "      <td>21.941357</td>\n",
       "      <td>0.174160</td>\n",
       "      <td>21</td>\n",
       "      <td>0</td>\n",
       "    </tr>\n",
       "    <tr>\n",
       "      <th>7</th>\n",
       "      <td>0</td>\n",
       "      <td>67</td>\n",
       "      <td>87</td>\n",
       "      <td>43</td>\n",
       "      <td>36</td>\n",
       "      <td>18.277723</td>\n",
       "      <td>0.236165</td>\n",
       "      <td>26</td>\n",
       "      <td>0</td>\n",
       "    </tr>\n",
       "    <tr>\n",
       "      <th>8</th>\n",
       "      <td>8</td>\n",
       "      <td>80</td>\n",
       "      <td>95</td>\n",
       "      <td>33</td>\n",
       "      <td>24</td>\n",
       "      <td>26.624929</td>\n",
       "      <td>0.443947</td>\n",
       "      <td>53</td>\n",
       "      <td>1</td>\n",
       "    </tr>\n",
       "    <tr>\n",
       "      <th>9</th>\n",
       "      <td>1</td>\n",
       "      <td>72</td>\n",
       "      <td>31</td>\n",
       "      <td>40</td>\n",
       "      <td>42</td>\n",
       "      <td>36.889576</td>\n",
       "      <td>0.103944</td>\n",
       "      <td>26</td>\n",
       "      <td>0</td>\n",
       "    </tr>\n",
       "  </tbody>\n",
       "</table>\n",
       "</div>"
      ],
      "text/plain": [
       "   Pregnancies  PlasmaGlucose  DiastolicBloodPressure  TricepsThickness  \\\n",
       "0            0            171                      80                34   \n",
       "1            8             92                      93                47   \n",
       "2            7            115                      47                52   \n",
       "3            9            103                      78                25   \n",
       "4            1             85                      59                27   \n",
       "5            0             82                      92                 9   \n",
       "6            0            133                      47                19   \n",
       "7            0             67                      87                43   \n",
       "8            8             80                      95                33   \n",
       "9            1             72                      31                40   \n",
       "\n",
       "   SerumInsulin        BMI  DiabetesPedigree  Age  Diabetic  \n",
       "0            23  43.509726          1.213191   21         0  \n",
       "1            36  21.240576          0.158365   23         0  \n",
       "2            35  41.511523          0.079019   23         0  \n",
       "3           304  29.582192          1.282870   43         1  \n",
       "4            35  42.604536          0.549542   22         0  \n",
       "5           253  19.724160          0.103424   26         0  \n",
       "6           227  21.941357          0.174160   21         0  \n",
       "7            36  18.277723          0.236165   26         0  \n",
       "8            24  26.624929          0.443947   53         1  \n",
       "9            42  36.889576          0.103944   26         0  "
      ]
     },
     "execution_count": 5,
     "metadata": {},
     "output_type": "execute_result"
    }
   ],
   "source": [
    "diabetes.head(10)"
   ]
  },
  {
   "cell_type": "code",
   "execution_count": null,
   "metadata": {},
   "outputs": [],
   "source": []
  },
  {
   "cell_type": "markdown",
   "metadata": {},
   "source": [
    "**3.2 Number Of Rows and Columns In DataFrame**"
   ]
  },
  {
   "cell_type": "code",
   "execution_count": 6,
   "metadata": {
    "execution": {
     "iopub.execute_input": "2021-09-27T15:09:54.308603Z",
     "iopub.status.busy": "2021-09-27T15:09:54.308262Z",
     "iopub.status.idle": "2021-09-27T15:09:54.314603Z",
     "shell.execute_reply": "2021-09-27T15:09:54.313390Z",
     "shell.execute_reply.started": "2021-09-27T15:09:54.308565Z"
    }
   },
   "outputs": [
    {
     "name": "stdout",
     "output_type": "stream",
     "text": [
      "Number of rows in dataframe are : 15000 \n",
      "Number of columns in dataframe are : 9 \n",
      "\n"
     ]
    }
   ],
   "source": [
    "print(f\"Number of rows in dataframe are : {diabetes.shape[0]} \\nNumber of columns in dataframe are : {diabetes.shape[1]} \\n\")"
   ]
  },
  {
   "cell_type": "markdown",
   "metadata": {},
   "source": [
    "**3.3 Examine DF**"
   ]
  },
  {
   "cell_type": "code",
   "execution_count": 7,
   "metadata": {
    "execution": {
     "iopub.execute_input": "2021-09-27T15:09:54.318747Z",
     "iopub.status.busy": "2021-09-27T15:09:54.318408Z",
     "iopub.status.idle": "2021-09-27T15:09:54.342586Z",
     "shell.execute_reply": "2021-09-27T15:09:54.341067Z",
     "shell.execute_reply.started": "2021-09-27T15:09:54.318707Z"
    }
   },
   "outputs": [
    {
     "name": "stdout",
     "output_type": "stream",
     "text": [
      "<class 'pandas.core.frame.DataFrame'>\n",
      "RangeIndex: 15000 entries, 0 to 14999\n",
      "Data columns (total 9 columns):\n",
      " #   Column                  Non-Null Count  Dtype  \n",
      "---  ------                  --------------  -----  \n",
      " 0   Pregnancies             15000 non-null  int64  \n",
      " 1   PlasmaGlucose           15000 non-null  int64  \n",
      " 2   DiastolicBloodPressure  15000 non-null  int64  \n",
      " 3   TricepsThickness        15000 non-null  int64  \n",
      " 4   SerumInsulin            15000 non-null  int64  \n",
      " 5   BMI                     15000 non-null  float64\n",
      " 6   DiabetesPedigree        15000 non-null  float64\n",
      " 7   Age                     15000 non-null  int64  \n",
      " 8   Diabetic                15000 non-null  int64  \n",
      "dtypes: float64(2), int64(7)\n",
      "memory usage: 1.0 MB\n"
     ]
    }
   ],
   "source": [
    "diabetes.info()"
   ]
  },
  {
   "cell_type": "markdown",
   "metadata": {},
   "source": [
    "> * 7 columns of type \"int\".\n",
    "> * 2 columns of type \"float\""
   ]
  },
  {
   "cell_type": "markdown",
   "metadata": {},
   "source": [
    "**3.4 Checking Statistical info of data**"
   ]
  },
  {
   "cell_type": "code",
   "execution_count": 8,
   "metadata": {
    "execution": {
     "iopub.execute_input": "2021-09-27T15:09:54.346097Z",
     "iopub.status.busy": "2021-09-27T15:09:54.345778Z",
     "iopub.status.idle": "2021-09-27T15:09:54.386391Z",
     "shell.execute_reply": "2021-09-27T15:09:54.385590Z",
     "shell.execute_reply.started": "2021-09-27T15:09:54.346067Z"
    }
   },
   "outputs": [
    {
     "data": {
      "text/html": [
       "<div>\n",
       "<style scoped>\n",
       "    .dataframe tbody tr th:only-of-type {\n",
       "        vertical-align: middle;\n",
       "    }\n",
       "\n",
       "    .dataframe tbody tr th {\n",
       "        vertical-align: top;\n",
       "    }\n",
       "\n",
       "    .dataframe thead th {\n",
       "        text-align: right;\n",
       "    }\n",
       "</style>\n",
       "<table border=\"1\" class=\"dataframe\">\n",
       "  <thead>\n",
       "    <tr style=\"text-align: right;\">\n",
       "      <th></th>\n",
       "      <th>Pregnancies</th>\n",
       "      <th>PlasmaGlucose</th>\n",
       "      <th>DiastolicBloodPressure</th>\n",
       "      <th>TricepsThickness</th>\n",
       "      <th>SerumInsulin</th>\n",
       "      <th>BMI</th>\n",
       "      <th>DiabetesPedigree</th>\n",
       "      <th>Age</th>\n",
       "      <th>Diabetic</th>\n",
       "    </tr>\n",
       "  </thead>\n",
       "  <tbody>\n",
       "    <tr>\n",
       "      <th>count</th>\n",
       "      <td>15000.000000</td>\n",
       "      <td>15000.000000</td>\n",
       "      <td>15000.000000</td>\n",
       "      <td>15000.000000</td>\n",
       "      <td>15000.000000</td>\n",
       "      <td>15000.000000</td>\n",
       "      <td>15000.000000</td>\n",
       "      <td>15000.000000</td>\n",
       "      <td>15000.000000</td>\n",
       "    </tr>\n",
       "    <tr>\n",
       "      <th>mean</th>\n",
       "      <td>3.224533</td>\n",
       "      <td>107.856867</td>\n",
       "      <td>71.220667</td>\n",
       "      <td>28.814000</td>\n",
       "      <td>137.852133</td>\n",
       "      <td>31.509646</td>\n",
       "      <td>0.398968</td>\n",
       "      <td>30.137733</td>\n",
       "      <td>0.333333</td>\n",
       "    </tr>\n",
       "    <tr>\n",
       "      <th>std</th>\n",
       "      <td>3.391020</td>\n",
       "      <td>31.981975</td>\n",
       "      <td>16.758716</td>\n",
       "      <td>14.555716</td>\n",
       "      <td>133.068252</td>\n",
       "      <td>9.759000</td>\n",
       "      <td>0.377944</td>\n",
       "      <td>12.089703</td>\n",
       "      <td>0.471420</td>\n",
       "    </tr>\n",
       "    <tr>\n",
       "      <th>min</th>\n",
       "      <td>0.000000</td>\n",
       "      <td>44.000000</td>\n",
       "      <td>24.000000</td>\n",
       "      <td>7.000000</td>\n",
       "      <td>14.000000</td>\n",
       "      <td>18.200512</td>\n",
       "      <td>0.078044</td>\n",
       "      <td>21.000000</td>\n",
       "      <td>0.000000</td>\n",
       "    </tr>\n",
       "    <tr>\n",
       "      <th>25%</th>\n",
       "      <td>0.000000</td>\n",
       "      <td>84.000000</td>\n",
       "      <td>58.000000</td>\n",
       "      <td>15.000000</td>\n",
       "      <td>39.000000</td>\n",
       "      <td>21.259887</td>\n",
       "      <td>0.137743</td>\n",
       "      <td>22.000000</td>\n",
       "      <td>0.000000</td>\n",
       "    </tr>\n",
       "    <tr>\n",
       "      <th>50%</th>\n",
       "      <td>2.000000</td>\n",
       "      <td>104.000000</td>\n",
       "      <td>72.000000</td>\n",
       "      <td>31.000000</td>\n",
       "      <td>83.000000</td>\n",
       "      <td>31.767940</td>\n",
       "      <td>0.200297</td>\n",
       "      <td>24.000000</td>\n",
       "      <td>0.000000</td>\n",
       "    </tr>\n",
       "    <tr>\n",
       "      <th>75%</th>\n",
       "      <td>6.000000</td>\n",
       "      <td>129.000000</td>\n",
       "      <td>85.000000</td>\n",
       "      <td>41.000000</td>\n",
       "      <td>195.000000</td>\n",
       "      <td>39.259692</td>\n",
       "      <td>0.616285</td>\n",
       "      <td>35.000000</td>\n",
       "      <td>1.000000</td>\n",
       "    </tr>\n",
       "    <tr>\n",
       "      <th>max</th>\n",
       "      <td>14.000000</td>\n",
       "      <td>192.000000</td>\n",
       "      <td>117.000000</td>\n",
       "      <td>93.000000</td>\n",
       "      <td>799.000000</td>\n",
       "      <td>56.034628</td>\n",
       "      <td>2.301594</td>\n",
       "      <td>77.000000</td>\n",
       "      <td>1.000000</td>\n",
       "    </tr>\n",
       "  </tbody>\n",
       "</table>\n",
       "</div>"
      ],
      "text/plain": [
       "        Pregnancies  PlasmaGlucose  DiastolicBloodPressure  TricepsThickness  \\\n",
       "count  15000.000000   15000.000000            15000.000000      15000.000000   \n",
       "mean       3.224533     107.856867               71.220667         28.814000   \n",
       "std        3.391020      31.981975               16.758716         14.555716   \n",
       "min        0.000000      44.000000               24.000000          7.000000   \n",
       "25%        0.000000      84.000000               58.000000         15.000000   \n",
       "50%        2.000000     104.000000               72.000000         31.000000   \n",
       "75%        6.000000     129.000000               85.000000         41.000000   \n",
       "max       14.000000     192.000000              117.000000         93.000000   \n",
       "\n",
       "       SerumInsulin           BMI  DiabetesPedigree           Age  \\\n",
       "count  15000.000000  15000.000000      15000.000000  15000.000000   \n",
       "mean     137.852133     31.509646          0.398968     30.137733   \n",
       "std      133.068252      9.759000          0.377944     12.089703   \n",
       "min       14.000000     18.200512          0.078044     21.000000   \n",
       "25%       39.000000     21.259887          0.137743     22.000000   \n",
       "50%       83.000000     31.767940          0.200297     24.000000   \n",
       "75%      195.000000     39.259692          0.616285     35.000000   \n",
       "max      799.000000     56.034628          2.301594     77.000000   \n",
       "\n",
       "           Diabetic  \n",
       "count  15000.000000  \n",
       "mean       0.333333  \n",
       "std        0.471420  \n",
       "min        0.000000  \n",
       "25%        0.000000  \n",
       "50%        0.000000  \n",
       "75%        1.000000  \n",
       "max        1.000000  "
      ]
     },
     "execution_count": 8,
     "metadata": {},
     "output_type": "execute_result"
    }
   ],
   "source": [
    "diabetes.describe()"
   ]
  },
  {
   "cell_type": "markdown",
   "metadata": {},
   "source": [
    "**3.5 Checking The Duplicate Rows**"
   ]
  },
  {
   "cell_type": "code",
   "execution_count": 9,
   "metadata": {
    "execution": {
     "iopub.execute_input": "2021-09-27T15:09:54.387815Z",
     "iopub.status.busy": "2021-09-27T15:09:54.387411Z",
     "iopub.status.idle": "2021-09-27T15:09:54.403347Z",
     "shell.execute_reply": "2021-09-27T15:09:54.402047Z",
     "shell.execute_reply.started": "2021-09-27T15:09:54.387778Z"
    }
   },
   "outputs": [
    {
     "data": {
      "text/html": [
       "<div>\n",
       "<style scoped>\n",
       "    .dataframe tbody tr th:only-of-type {\n",
       "        vertical-align: middle;\n",
       "    }\n",
       "\n",
       "    .dataframe tbody tr th {\n",
       "        vertical-align: top;\n",
       "    }\n",
       "\n",
       "    .dataframe thead th {\n",
       "        text-align: right;\n",
       "    }\n",
       "</style>\n",
       "<table border=\"1\" class=\"dataframe\">\n",
       "  <thead>\n",
       "    <tr style=\"text-align: right;\">\n",
       "      <th></th>\n",
       "      <th>Pregnancies</th>\n",
       "      <th>PlasmaGlucose</th>\n",
       "      <th>DiastolicBloodPressure</th>\n",
       "      <th>TricepsThickness</th>\n",
       "      <th>SerumInsulin</th>\n",
       "      <th>BMI</th>\n",
       "      <th>DiabetesPedigree</th>\n",
       "      <th>Age</th>\n",
       "      <th>Diabetic</th>\n",
       "    </tr>\n",
       "  </thead>\n",
       "  <tbody>\n",
       "  </tbody>\n",
       "</table>\n",
       "</div>"
      ],
      "text/plain": [
       "Empty DataFrame\n",
       "Columns: [Pregnancies, PlasmaGlucose, DiastolicBloodPressure, TricepsThickness, SerumInsulin, BMI, DiabetesPedigree, Age, Diabetic]\n",
       "Index: []"
      ]
     },
     "execution_count": 9,
     "metadata": {},
     "output_type": "execute_result"
    }
   ],
   "source": [
    "diabetes[diabetes.duplicated()]"
   ]
  },
  {
   "cell_type": "markdown",
   "metadata": {},
   "source": [
    "> **0** duplicate rows found in the dataframe."
   ]
  },
  {
   "cell_type": "markdown",
   "metadata": {},
   "source": [
    "**3.6 Inspect unique values in data**"
   ]
  },
  {
   "cell_type": "code",
   "execution_count": 10,
   "metadata": {
    "execution": {
     "iopub.execute_input": "2021-09-27T15:09:54.404810Z",
     "iopub.status.busy": "2021-09-27T15:09:54.404402Z",
     "iopub.status.idle": "2021-09-27T15:09:54.417265Z",
     "shell.execute_reply": "2021-09-27T15:09:54.415848Z",
     "shell.execute_reply.started": "2021-09-27T15:09:54.404779Z"
    }
   },
   "outputs": [
    {
     "data": {
      "text/plain": [
       "Pregnancies                  15\n",
       "PlasmaGlucose               149\n",
       "DiastolicBloodPressure       90\n",
       "TricepsThickness             69\n",
       "SerumInsulin                663\n",
       "BMI                       15000\n",
       "DiabetesPedigree          14999\n",
       "Age                          56\n",
       "Diabetic                      2\n",
       "dtype: int64"
      ]
     },
     "execution_count": 10,
     "metadata": {},
     "output_type": "execute_result"
    }
   ],
   "source": [
    "diabetes.nunique()"
   ]
  },
  {
   "cell_type": "markdown",
   "metadata": {},
   "source": [
    "> * Highest number of unique values are in column bmi."
   ]
  },
  {
   "cell_type": "markdown",
   "metadata": {},
   "source": [
    "**3.7 Checking For The Null Values in DataFrame**"
   ]
  },
  {
   "cell_type": "code",
   "execution_count": 11,
   "metadata": {
    "execution": {
     "iopub.execute_input": "2021-09-27T15:09:54.420062Z",
     "iopub.status.busy": "2021-09-27T15:09:54.419562Z",
     "iopub.status.idle": "2021-09-27T15:09:54.429448Z",
     "shell.execute_reply": "2021-09-27T15:09:54.428362Z",
     "shell.execute_reply.started": "2021-09-27T15:09:54.420005Z"
    }
   },
   "outputs": [
    {
     "data": {
      "text/plain": [
       "Pregnancies               0\n",
       "PlasmaGlucose             0\n",
       "DiastolicBloodPressure    0\n",
       "TricepsThickness          0\n",
       "SerumInsulin              0\n",
       "BMI                       0\n",
       "DiabetesPedigree          0\n",
       "Age                       0\n",
       "Diabetic                  0\n",
       "dtype: int64"
      ]
     },
     "execution_count": 11,
     "metadata": {},
     "output_type": "execute_result"
    }
   ],
   "source": [
    "diabetes.isnull().sum()"
   ]
  },
  {
   "cell_type": "code",
   "execution_count": 12,
   "metadata": {},
   "outputs": [],
   "source": [
    "diabetes.rename(columns = {'Diabetic':'diabetes'}, inplace = True) "
   ]
  },
  {
   "cell_type": "markdown",
   "metadata": {},
   "source": [
    "> **0** null values found"
   ]
  },
  {
   "cell_type": "markdown",
   "metadata": {},
   "source": [
    "**3.8 Checking Class Distribution**"
   ]
  },
  {
   "cell_type": "code",
   "execution_count": 13,
   "metadata": {
    "execution": {
     "iopub.execute_input": "2021-09-27T15:09:54.431481Z",
     "iopub.status.busy": "2021-09-27T15:09:54.431109Z",
     "iopub.status.idle": "2021-09-27T15:09:54.457636Z",
     "shell.execute_reply": "2021-09-27T15:09:54.456498Z",
     "shell.execute_reply.started": "2021-09-27T15:09:54.431441Z"
    }
   },
   "outputs": [
    {
     "name": "stdout",
     "output_type": "stream",
     "text": [
      "Number of samples for Outcome 0 are :  10000\n",
      "Number of samples for Outcome 1 are :  5000\n"
     ]
    }
   ],
   "source": [
    "print(\"Number of samples for Outcome 0 are : \",len(diabetes[diabetes['diabetes']==0]))\n",
    "print(\"Number of samples for Outcome 1 are : \",len(diabetes[diabetes['diabetes']==1]))\n"
   ]
  },
  {
   "cell_type": "markdown",
   "metadata": {},
   "source": [
    "> Classes are **imbalanced**.This may end up in biased data\n"
   ]
  },
  {
   "cell_type": "markdown",
   "metadata": {},
   "source": [
    "#  <p style=\"color:Blue;\">4. Data Visualization</p>"
   ]
  },
  {
   "cell_type": "code",
   "execution_count": 14,
   "metadata": {
    "execution": {
     "iopub.execute_input": "2021-09-27T15:09:54.459612Z",
     "iopub.status.busy": "2021-09-27T15:09:54.458948Z",
     "iopub.status.idle": "2021-09-27T15:09:54.468626Z",
     "shell.execute_reply": "2021-09-27T15:09:54.467095Z",
     "shell.execute_reply.started": "2021-09-27T15:09:54.459565Z"
    }
   },
   "outputs": [
    {
     "name": "stdout",
     "output_type": "stream",
     "text": [
      "Column names except for the target column are : ['Pregnancies', 'PlasmaGlucose', 'DiastolicBloodPressure', 'TricepsThickness', 'SerumInsulin', 'BMI', 'DiabetesPedigree', 'Age']\n",
      "\n",
      "Colors for the graphs are : ['b', 'c', 'g', 'k', 'm', 'r', 'y', 'b']\n"
     ]
    }
   ],
   "source": [
    "# Add all column names to a list except for the target variable\n",
    "columns=diabetes.columns\n",
    "columns=list(columns)\n",
    "columns.pop()\n",
    "print(\"Column names except for the target column are :\",columns)\n",
    "\n",
    "#Graphs to be plotted with these colors\n",
    "colours=['b','c','g','k','m','r','y','b']\n",
    "print()\n",
    "print('Colors for the graphs are :',colours)"
   ]
  },
  {
   "cell_type": "code",
   "execution_count": 15,
   "metadata": {},
   "outputs": [
    {
     "data": {
      "text/plain": [
       "{}"
      ]
     },
     "execution_count": 15,
     "metadata": {},
     "output_type": "execute_result"
    }
   ],
   "source": [
    "## Identify categorical columns have same values for more than 80% of rows\n",
    "## jey\n",
    "#more_than_70_percent = (60/100)*pricing_data.count()[0]\n",
    "more_than_80_percent = (80/100)*diabetes.count()[0]\n",
    "col_in_cat = diabetes.select_dtypes(include='object')\n",
    "same_val_col= []\n",
    "count_val=[]\n",
    "dict1={}\n",
    "index=0\n",
    "for col in col_in_cat:\n",
    "    length = len(diabetes[col].value_counts())\n",
    "    for j in range(0,length):\n",
    "        if(diabetes[col].value_counts()[j] > more_than_80_percent):\n",
    "            same_val_col.append(col)\n",
    "            count_val.append(diabetes[col].value_counts()[j])\n",
    "index = 0\n",
    "for col in same_val_col:\n",
    "    dict1[col]=count_val[index]\n",
    "    index=index+1\n",
    "dict1"
   ]
  },
  {
   "cell_type": "code",
   "execution_count": null,
   "metadata": {},
   "outputs": [],
   "source": []
  },
  {
   "cell_type": "code",
   "execution_count": null,
   "metadata": {},
   "outputs": [],
   "source": []
  },
  {
   "cell_type": "code",
   "execution_count": null,
   "metadata": {},
   "outputs": [],
   "source": []
  },
  {
   "cell_type": "code",
   "execution_count": null,
   "metadata": {},
   "outputs": [],
   "source": []
  },
  {
   "cell_type": "code",
   "execution_count": null,
   "metadata": {},
   "outputs": [],
   "source": []
  },
  {
   "cell_type": "markdown",
   "metadata": {},
   "source": [
    "**4.1 Distplot For Various Features**"
   ]
  },
  {
   "cell_type": "code",
   "execution_count": 16,
   "metadata": {
    "_kg_hide-input": true,
    "_kg_hide-output": false,
    "execution": {
     "iopub.execute_input": "2021-09-27T15:09:54.471238Z",
     "iopub.status.busy": "2021-09-27T15:09:54.470740Z",
     "iopub.status.idle": "2021-09-27T15:09:57.228585Z",
     "shell.execute_reply": "2021-09-27T15:09:57.225907Z",
     "shell.execute_reply.started": "2021-09-27T15:09:54.471192Z"
    }
   },
   "outputs": [
    {
     "data": {
      "image/png": "[encoded data removed]",
      "text/plain": [
       "<Figure size 1500x1700 with 8 Axes>"
      ]
     },
     "metadata": {},
     "output_type": "display_data"
    }
   ],
   "source": [
    "sns.set(rc={'figure.figsize':(15,17)})\n",
    "sns.set_style(style='white')\n",
    "for i in range(len(columns)):\n",
    "    \n",
    "    plt.subplot(4,2,i+1)\n",
    "    sns.distplot(diabetes[columns[i]], hist=True, rug=True, color=colours[i])"
   ]
  },
  {
   "cell_type": "markdown",
   "metadata": {},
   "source": [
    "None of the graphs here are following a normal distribution."
   ]
  },
  {
   "cell_type": "markdown",
   "metadata": {},
   "source": [
    "**4.2 ViolinPlot For Outcome Vs. Other Attributes**"
   ]
  },
  {
   "cell_type": "code",
   "execution_count": null,
   "metadata": {
    "_kg_hide-input": true,
    "execution": {
     "iopub.execute_input": "2021-09-27T15:09:57.231358Z",
     "iopub.status.busy": "2021-09-27T15:09:57.230889Z",
     "iopub.status.idle": "2021-09-27T15:10:10.709261Z",
     "shell.execute_reply": "2021-09-27T15:10:10.708215Z",
     "shell.execute_reply.started": "2021-09-27T15:09:57.231310Z"
    }
   },
   "outputs": [],
   "source": [
    "sns.set(rc={'figure.figsize':(15,17)})\n",
    "colors_list = ['#78C850', '#F08030']\n",
    "j=1\n",
    "sns.set_style(style='white')\n",
    "\n",
    "for i in (columns):\n",
    "    plt.subplot(4,2,j)\n",
    "    sns.violinplot(x=\"diabetes\", y=i,data=diabetes, kind=\"violin\", split=True, height=4, aspect=.7,palette=colors_list)       \n",
    "    sns.swarmplot(x='diabetes', y=i,data=diabetes, color=\"k\", alpha=0.8)  \n",
    "    j=j+1\n"
   ]
  },
  {
   "cell_type": "markdown",
   "metadata": {},
   "source": [
    "**4.3 ScatterPlot Of All Attributes Against Each Other**"
   ]
  },
  {
   "cell_type": "code",
   "execution_count": null,
   "metadata": {
    "_kg_hide-input": true,
    "execution": {
     "iopub.execute_input": "2021-09-27T15:10:10.710963Z",
     "iopub.status.busy": "2021-09-27T15:10:10.710672Z",
     "iopub.status.idle": "2021-09-27T15:10:18.940107Z",
     "shell.execute_reply": "2021-09-27T15:10:18.938745Z",
     "shell.execute_reply.started": "2021-09-27T15:10:10.710935Z"
    }
   },
   "outputs": [],
   "source": [
    "sns.set(rc={'figure.figsize':(20,150)})\n",
    "j=1\n",
    "\n",
    "sns.set_style(style='white')\n",
    "for i in range(len(columns)):\n",
    "    for k in range(i,len(columns)):\n",
    "        try:\n",
    "            if i==k:\n",
    "                continue\n",
    "            plt.subplot(18,2,j)\n",
    "            sns.scatterplot(x=diabetes[columns[i]],y=diabetes[columns[k]],hue=\"diabetes\",data=diabetes)\n",
    "            j=j+1\n",
    "        except:\n",
    "            break"
   ]
  },
  {
   "cell_type": "markdown",
   "metadata": {},
   "source": []
  },
  {
   "cell_type": "markdown",
   "metadata": {},
   "source": [
    "**4.4 Strip Plot Distribution Of Attributes Vs Outcome**"
   ]
  },
  {
   "cell_type": "code",
   "execution_count": null,
   "metadata": {
    "_kg_hide-input": true,
    "execution": {
     "iopub.execute_input": "2021-09-27T15:10:18.941614Z",
     "iopub.status.busy": "2021-09-27T15:10:18.941243Z",
     "iopub.status.idle": "2021-09-27T15:10:19.910568Z",
     "shell.execute_reply": "2021-09-27T15:10:19.909279Z",
     "shell.execute_reply.started": "2021-09-27T15:10:18.941582Z"
    }
   },
   "outputs": [],
   "source": [
    "sns.set(rc={'figure.figsize':(15,15)})\n",
    "j=1\n",
    "sns.set_style(style='white')\n",
    "for i in range(len(columns)):\n",
    "    plt.subplot(4,2,j)\n",
    "    sns.stripplot(x='diabetes', y=columns[i] , data=diabetes,hue=\"diabetes\")\n",
    "    j=j+1   \n"
   ]
  },
  {
   "cell_type": "markdown",
   "metadata": {},
   "source": [
    "**4.5 Plotting The Pair Plot**"
   ]
  },
  {
   "cell_type": "code",
   "execution_count": null,
   "metadata": {
    "_kg_hide-input": true,
    "execution": {
     "iopub.execute_input": "2021-09-27T15:10:19.912621Z",
     "iopub.status.busy": "2021-09-27T15:10:19.912173Z",
     "iopub.status.idle": "2021-09-27T15:10:37.796499Z",
     "shell.execute_reply": "2021-09-27T15:10:37.795367Z",
     "shell.execute_reply.started": "2021-09-27T15:10:19.912578Z"
    }
   },
   "outputs": [],
   "source": [
    "sns.set(rc={'figure.figsize':(30,250)})\n",
    "sns.set_style(style='white')\n",
    "sns.pairplot(diabetes, hue='diabetes')"
   ]
  },
  {
   "cell_type": "markdown",
   "metadata": {},
   "source": [
    "**4.6 HeatMap**"
   ]
  },
  {
   "cell_type": "code",
   "execution_count": null,
   "metadata": {
    "_kg_hide-input": true,
    "execution": {
     "iopub.execute_input": "2021-09-27T15:10:37.798704Z",
     "iopub.status.busy": "2021-09-27T15:10:37.798355Z",
     "iopub.status.idle": "2021-09-27T15:10:38.571083Z",
     "shell.execute_reply": "2021-09-27T15:10:38.570239Z",
     "shell.execute_reply.started": "2021-09-27T15:10:37.798670Z"
    }
   },
   "outputs": [],
   "source": [
    "plt.figure(figsize=(6,6))\n",
    "sns.light_palette(\"seagreen\", as_cmap=True)\n",
    "sns.heatmap(diabetes.corr(), annot=True)"
   ]
  },
  {
   "cell_type": "markdown",
   "metadata": {},
   "source": [
    "**4.7 Distribution Of Target Variable**"
   ]
  },
  {
   "cell_type": "code",
   "execution_count": null,
   "metadata": {
    "_kg_hide-input": true,
    "execution": {
     "iopub.execute_input": "2021-09-27T15:10:38.572902Z",
     "iopub.status.busy": "2021-09-27T15:10:38.572386Z",
     "iopub.status.idle": "2021-09-27T15:10:38.702912Z",
     "shell.execute_reply": "2021-09-27T15:10:38.702093Z",
     "shell.execute_reply.started": "2021-09-27T15:10:38.572868Z"
    }
   },
   "outputs": [],
   "source": [
    "plt.figure(figsize=(4,4))\n",
    "sns.set_style(style='white')\n",
    "sns.countplot(diabetes,x= 'diabetes')"
   ]
  },
  {
   "cell_type": "code",
   "execution_count": null,
   "metadata": {},
   "outputs": [],
   "source": []
  },
  {
   "cell_type": "markdown",
   "metadata": {},
   "source": [
    "### 4.8 KDEplot"
   ]
  },
  {
   "cell_type": "code",
   "execution_count": null,
   "metadata": {
    "execution": {
     "iopub.execute_input": "2021-09-27T15:10:38.704608Z",
     "iopub.status.busy": "2021-09-27T15:10:38.704123Z",
     "iopub.status.idle": "2021-09-27T15:10:39.929434Z",
     "shell.execute_reply": "2021-09-27T15:10:39.928586Z",
     "shell.execute_reply.started": "2021-09-27T15:10:38.704575Z"
    }
   },
   "outputs": [],
   "source": [
    "with sns.axes_style(\"white\"):\n",
    "    sns.set_palette(\"Set2\")\n",
    "    g2 = sns.jointplot(data=diabetes,x=\"Insulin\", y=\"BMI\",hue=\"diabetes\")\n"
   ]
  },
  {
   "cell_type": "markdown",
   "metadata": {},
   "source": [
    "#  <p style=\"color:Blue;\">5. Data PreProcessing</p>"
   ]
  },
  {
   "cell_type": "markdown",
   "metadata": {},
   "source": [
    "**5.1 Feature Engineering**"
   ]
  },
  {
   "cell_type": "code",
   "execution_count": null,
   "metadata": {
    "execution": {
     "iopub.execute_input": "2021-09-27T15:10:39.931094Z",
     "iopub.status.busy": "2021-09-27T15:10:39.930680Z",
     "iopub.status.idle": "2021-09-27T15:10:39.962939Z",
     "shell.execute_reply": "2021-09-27T15:10:39.961554Z",
     "shell.execute_reply.started": "2021-09-27T15:10:39.931064Z"
    }
   },
   "outputs": [],
   "source": []
  },
  {
   "cell_type": "code",
   "execution_count": null,
   "metadata": {},
   "outputs": [],
   "source": [
    "diabetes_with_preprocessing = diabetes"
   ]
  },
  {
   "cell_type": "code",
   "execution_count": null,
   "metadata": {},
   "outputs": [],
   "source": [
    "plt.figure(figsize=(4,4))\n",
    "\n",
    "sns.heatmap(diabetes_with_preprocessing.isnull(),yticklabels=False,cbar=False, cmap=\"viridis\")"
   ]
  },
  {
   "cell_type": "code",
   "execution_count": null,
   "metadata": {},
   "outputs": [],
   "source": [
    "#identify the numeric columns for skewness and kurtosis\n",
    "num_cols = diabetes_with_preprocessing.select_dtypes(include=['float64','int64']).columns.tolist()\n",
    "cols_to_analysed_skew = []\n",
    "for col in num_cols:\n",
    "    if((diabetes_with_preprocessing[col].skew() < -2) | (diabetes_with_preprocessing[col].skew() > 2)):\n",
    "        print(\"column\",col,\",skew:\",diabetes_with_preprocessing[col].skew())\n",
    "        cols_to_analysed_skew.append(col)\n",
    "print(cols_to_analysed_skew) \n",
    "\n",
    "cols_to_analysed_kur = []\n",
    "for col in num_cols:\n",
    "    if((diabetes_with_preprocessing[col].kurtosis() < -7) | (diabetes_with_preprocessing[col].kurtosis() > 7)):\n",
    "        print(\"column\",col,\",kurtosis:\",diabetes_with_preprocessing[col].kurtosis())\n",
    "        cols_to_analysed_kur.append(col)\n",
    "print(cols_to_analysed_kur) \n",
    "\n",
    "col_to_analysed = list(set(cols_to_analysed_skew + cols_to_analysed_kur))\n",
    "print(col_to_analysed)"
   ]
  },
  {
   "cell_type": "code",
   "execution_count": null,
   "metadata": {},
   "outputs": [],
   "source": []
  },
  {
   "cell_type": "code",
   "execution_count": null,
   "metadata": {},
   "outputs": [],
   "source": []
  },
  {
   "cell_type": "code",
   "execution_count": null,
   "metadata": {},
   "outputs": [],
   "source": []
  },
  {
   "cell_type": "code",
   "execution_count": null,
   "metadata": {},
   "outputs": [],
   "source": []
  },
  {
   "cell_type": "code",
   "execution_count": null,
   "metadata": {},
   "outputs": [],
   "source": []
  },
  {
   "cell_type": "code",
   "execution_count": null,
   "metadata": {},
   "outputs": [],
   "source": []
  },
  {
   "cell_type": "code",
   "execution_count": null,
   "metadata": {},
   "outputs": [],
   "source": [
    "# Scaling those columns which have values greater than 1\n",
    "scaleIt = MinMaxScaler()\n",
    "columns_to_be_scaled = [c for c in diabetes.columns if diabetes[c].max() > 1]\n",
    "print(\"The columns which are to be scaled are :\",columns_to_be_scaled)\n",
    "\n",
    "scaled_columns = scaleIt.fit_transform(diabetes_with_preprocessing[columns_to_be_scaled])\n",
    "scaled_columns = pd.DataFrame(scaled_columns, columns=columns_to_be_scaled)\n",
    "scaled_columns['diabetes'] = diabetes['diabetes'] \n",
    "#copying the scaled DataFrame to original DataFrame\n",
    "\n",
    "diabetes_with_preprocessing=scaled_columns\n",
    "diabetes_with_preprocessing"
   ]
  },
  {
   "cell_type": "code",
   "execution_count": null,
   "metadata": {},
   "outputs": [],
   "source": [
    "diabetes_with_preprocessing.shape"
   ]
  },
  {
   "cell_type": "code",
   "execution_count": null,
   "metadata": {},
   "outputs": [],
   "source": [
    "diabetes_with_preprocessing[diabetes_with_preprocessing.duplicated()].shape"
   ]
  },
  {
   "cell_type": "code",
   "execution_count": null,
   "metadata": {},
   "outputs": [],
   "source": [
    "diabetes_with_preprocessing = diabetes_with_preprocessing[~diabetes_with_preprocessing.duplicated()]"
   ]
  },
  {
   "cell_type": "code",
   "execution_count": null,
   "metadata": {},
   "outputs": [],
   "source": [
    "diabetes_with_preprocessing.shape"
   ]
  },
  {
   "cell_type": "code",
   "execution_count": null,
   "metadata": {},
   "outputs": [],
   "source": []
  },
  {
   "cell_type": "code",
   "execution_count": null,
   "metadata": {},
   "outputs": [],
   "source": []
  },
  {
   "cell_type": "code",
   "execution_count": null,
   "metadata": {},
   "outputs": [],
   "source": []
  },
  {
   "cell_type": "code",
   "execution_count": null,
   "metadata": {},
   "outputs": [],
   "source": []
  },
  {
   "cell_type": "code",
   "execution_count": null,
   "metadata": {},
   "outputs": [],
   "source": []
  },
  {
   "cell_type": "code",
   "execution_count": null,
   "metadata": {},
   "outputs": [],
   "source": []
  },
  {
   "cell_type": "markdown",
   "metadata": {},
   "source": [
    "**5.2 Dividing The Data Into X And Y**"
   ]
  },
  {
   "cell_type": "code",
   "execution_count": null,
   "metadata": {
    "execution": {
     "iopub.execute_input": "2021-09-27T15:10:39.965243Z",
     "iopub.status.busy": "2021-09-27T15:10:39.964783Z",
     "iopub.status.idle": "2021-09-27T15:10:39.980570Z",
     "shell.execute_reply": "2021-09-27T15:10:39.979108Z",
     "shell.execute_reply.started": "2021-09-27T15:10:39.965197Z"
    }
   },
   "outputs": [],
   "source": [
    "x=diabetes.iloc[:,:-1]\n",
    "y=diabetes.iloc[:,-1:]\n",
    "x.head(5),y.head(5)"
   ]
  },
  {
   "cell_type": "code",
   "execution_count": null,
   "metadata": {},
   "outputs": [],
   "source": []
  },
  {
   "cell_type": "code",
   "execution_count": null,
   "metadata": {},
   "outputs": [],
   "source": []
  },
  {
   "cell_type": "code",
   "execution_count": null,
   "metadata": {},
   "outputs": [],
   "source": [
    "x_with_preprocessing=diabetes_with_preprocessing.iloc[:,:-1]\n",
    "y_with_preprocessing=diabetes_with_preprocessing.iloc[:,-1:]\n",
    "x_with_preprocessing.head(5),y_with_preprocessing.head(5)"
   ]
  },
  {
   "cell_type": "markdown",
   "metadata": {},
   "source": [
    "**5.3 Train Test Split**"
   ]
  },
  {
   "cell_type": "code",
   "execution_count": null,
   "metadata": {
    "execution": {
     "iopub.execute_input": "2021-09-27T15:10:39.982729Z",
     "iopub.status.busy": "2021-09-27T15:10:39.982264Z",
     "iopub.status.idle": "2021-09-27T15:10:39.993599Z",
     "shell.execute_reply": "2021-09-27T15:10:39.992046Z",
     "shell.execute_reply.started": "2021-09-27T15:10:39.982687Z"
    }
   },
   "outputs": [],
   "source": [
    "x_train, x_test, y_train, y_test = train_test_split(x,y, test_size = 0.2, random_state = 42)"
   ]
  },
  {
   "cell_type": "code",
   "execution_count": null,
   "metadata": {},
   "outputs": [],
   "source": [
    "print(\"Percentage of Positive Values in training data before Smote :\",y_train.value_counts(normalize=True)[1]/(y_train.value_counts(normalize=True)[0]+y_train.value_counts(normalize=True)[1])*100,\"%\")\n",
    "print(\"Percentage of Negative Values in training data before Smote :\",y_train.value_counts(normalize=True)[0]/(y_train.value_counts(normalize=True)[0]+y_train.value_counts(normalize=True)[1])*100,\"%\")\n",
    "\n",
    "print()\n",
    "print('Shape of x before applying SMOTE :', x_train.shape)\n",
    "\n",
    "\n",
    "smote = SMOTE()\n",
    "x_train,y_train = smote.fit_resample(x_train,y_train)\n",
    "\n",
    "print('Shape of x after applying SMOTE : ', x_train.shape)\n",
    "print()\n",
    "\n",
    "print(\"Percentage of Positive Values in training data after Smote :\",y_train.value_counts(normalize=True)[1]/(y_train.value_counts(normalize=True)[0]+y_train.value_counts(normalize=True)[1])*100,\"%\")\n",
    "print(\"Percentage of Negative Values in training data after Smote :\",y_train.value_counts(normalize=True)[0]/(y_train.value_counts(normalize=True)[0]+y_train.value_counts(normalize=True)[1])*100,\"%\")\n"
   ]
  },
  {
   "cell_type": "code",
   "execution_count": null,
   "metadata": {},
   "outputs": [],
   "source": [
    "x_train_with_pre, x_test_with_pre, y_train_with_pre, y_test_with_pre = train_test_split(x_with_preprocessing,y_with_preprocessing , test_size = 0.2, random_state = 42)"
   ]
  },
  {
   "cell_type": "markdown",
   "metadata": {},
   "source": [
    "**5.4 Using SMOTE To Handle Class Imbalance**\n"
   ]
  },
  {
   "cell_type": "code",
   "execution_count": null,
   "metadata": {
    "execution": {
     "iopub.execute_input": "2021-09-27T15:10:39.995627Z",
     "iopub.status.busy": "2021-09-27T15:10:39.995159Z",
     "iopub.status.idle": "2021-09-27T15:10:40.044782Z",
     "shell.execute_reply": "2021-09-27T15:10:40.043364Z",
     "shell.execute_reply.started": "2021-09-27T15:10:39.995580Z"
    }
   },
   "outputs": [],
   "source": [
    "print(\"Percentage of Positive Values in training data before Smote :\",y_train_with_pre.value_counts(normalize=True)[1]/(y_train.value_counts(normalize=True)[0]+y_train_with_pre.value_counts(normalize=True)[1])*100,\"%\")\n",
    "print(\"Percentage of Negative Values in training data before Smote :\",y_train_with_pre.value_counts(normalize=True)[0]/(y_train.value_counts(normalize=True)[0]+y_train_with_pre.value_counts(normalize=True)[1])*100,\"%\")\n",
    "\n",
    "print()\n",
    "print('Shape of x before applying SMOTE :', x_train_with_pre.shape)\n",
    "\n",
    "\n",
    "smote = SMOTE()\n",
    "x_train_with_pre,y_train_with_pre = smote.fit_resample(x_train_with_pre,y_train_with_pre)\n",
    "\n",
    "print('Shape of x after applying SMOTE : ', x_train_with_pre.shape)\n",
    "print()\n",
    "\n",
    "print(\"Percentage of Positive Values in training data after Smote :\",y_train_with_pre.value_counts(normalize=True)[1]/(y_train_with_pre.value_counts(normalize=True)[0]+y_train_with_pre.value_counts(normalize=True)[1])*100,\"%\")\n",
    "print(\"Percentage of Negative Values in training data after Smote :\",y_train_with_pre.value_counts(normalize=True)[0]/(y_train_with_pre.value_counts(normalize=True)[0]+y_train_with_pre.value_counts(normalize=True)[1])*100,\"%\")\n"
   ]
  },
  {
   "cell_type": "code",
   "execution_count": null,
   "metadata": {},
   "outputs": [],
   "source": [
    "accuracy_metrics = []\n",
    "precision_metrics =[]\n",
    "recall_metrics = []\n",
    "roc_auc_metrics= []"
   ]
  },
  {
   "cell_type": "markdown",
   "metadata": {},
   "source": [
    "#  <p style=\"color:Blue;\">6. Building The Models</p>"
   ]
  },
  {
   "cell_type": "markdown",
   "metadata": {},
   "source": [
    "**6.1 Logistic Regression**"
   ]
  },
  {
   "cell_type": "markdown",
   "metadata": {},
   "source": [
    "**6.1.1 Logistic Regression without preprocessing**"
   ]
  },
  {
   "cell_type": "code",
   "execution_count": null,
   "metadata": {
    "execution": {
     "iopub.execute_input": "2021-09-27T15:10:40.047038Z",
     "iopub.status.busy": "2021-09-27T15:10:40.046591Z",
     "iopub.status.idle": "2021-09-27T15:10:40.082070Z",
     "shell.execute_reply": "2021-09-27T15:10:40.081014Z",
     "shell.execute_reply.started": "2021-09-27T15:10:40.046982Z"
    }
   },
   "outputs": [],
   "source": [
    "model = LogisticRegression()\n",
    "model.fit(x_train, y_train)\n",
    "predicted=model.predict(x_test)\n",
    "conf = confusion_matrix(y_test, predicted)\n",
    "print (\"Confusion Matrix : \\n\", conf)\n",
    "print()\n",
    "print (\"The accuracy of Logistic Regression is : \", accuracy_score(y_test, predicted)*100, \"%\")\n",
    "accuracy_metrics.append(str(round(accuracy_score(y_test, predicted)*100,2)) + \"%\")\n",
    "print(\"Precision score for Logistic Regression is :\",precision_score(y_test, predicted,)*100, \"%\")\n",
    "precision_metrics.append(str(round(precision_score(y_test, predicted,)*100,2)) + \"%\")\n",
    "print()\n",
    "print(\"Recall score for Logistic Regression is :\",recall_score(y_test, predicted,)*100, \"%\")\n",
    "recall_metrics.append(str(round(recall_score(y_test, predicted,)*100,2)) + \"%\")\n",
    "#print(accuracy_metrics)"
   ]
  },
  {
   "cell_type": "code",
   "execution_count": null,
   "metadata": {},
   "outputs": [],
   "source": [
    "predictions = model.predict(x_test)\n",
    "predictions_prob = model.predict_proba(x_test)[:, 1]\n",
    "f1 = f1_score(y_test, predictions)\n",
    "fpr, tpr, thresholds = roc_curve(y_test, predictions_prob)\n",
    "plt.figure(figsize=(7,4))\n",
    "roc_auc = roc_auc_score(y_test, predictions_prob)\n",
    "# Plot ROC Curve\n",
    "plt.subplot(122)\n",
    "plt.plot(fpr, tpr, color='darkorange', lw=2, label='ROC curve (AUC = {:.2f})'.format(roc_auc))\n",
    "plt.plot([0, 1], [0, 1], color='navy', lw=2, linestyle='--')\n",
    "plt.xlim([0.0, 1.0])\n",
    "plt.ylim([0.0, 1.05])\n",
    "plt.xlabel('False Positive Rate')\n",
    "plt.ylabel('True Positive Rate')\n",
    "plt.title('LG ROC Curve without pre-processing')\n",
    "plt.legend(loc='lower right')\n",
    "plt.tight_layout()\n",
    "plt.show()\n",
    "roc_auc_metrics.append(roc_auc)"
   ]
  },
  {
   "cell_type": "markdown",
   "metadata": {},
   "source": [
    "**6.1.2 Logistic Regression with preprocessing**"
   ]
  },
  {
   "cell_type": "code",
   "execution_count": null,
   "metadata": {},
   "outputs": [],
   "source": [
    "model_with_pre = LogisticRegression()\n",
    "model_with_pre.fit(x_train_with_pre, y_train_with_pre)\n",
    "predicted=model_with_pre.predict(x_test_with_pre)\n",
    "conf_with_pre = confusion_matrix(y_test_with_pre, predicted)\n",
    "print (\"Confusion Matrix : \\n\", conf_with_pre)\n",
    "print (\"The accuracy of Logistic Regression is : \", accuracy_score(y_test_with_pre, predicted)*100, \"%\")\n",
    "print(\"Precision score for Logistic Regression is :\",precision_score(y_test_with_pre, predicted,)*100, \"%\")\n",
    "print(\"Recall score for Logistic Regression is :\",recall_score(y_test_with_pre, predicted,)*100, \"%\")\n",
    "accuracy_metrics.append(str(round(accuracy_score(y_test_with_pre, predicted)*100,2)) + \"%\")\n",
    "precision_metrics.append(str(round(precision_score(y_test_with_pre, predicted,)*100,2)) + \"%\")\n",
    "recall_metrics.append(str(round(recall_score(y_test_with_pre, predicted,)*100,2)) + \"%\")"
   ]
  },
  {
   "cell_type": "code",
   "execution_count": null,
   "metadata": {},
   "outputs": [],
   "source": [
    "predictions_prob = model_with_pre.predict_proba(x_test_with_pre)[:, 1]\n",
    "f1 = f1_score(y_test_with_pre, predicted)\n",
    "fpr, tpr, thresholds = roc_curve(y_test_with_pre, predictions_prob)\n",
    "plt.figure(figsize=(7,4))\n",
    "roc_auc = roc_auc_score(y_test_with_pre, predictions_prob)\n",
    "# Plot ROC Curve\n",
    "plt.subplot(122)\n",
    "plt.plot(fpr, tpr, color='darkorange', lw=2, label='ROC curve (AUC = {:.2f})'.format(roc_auc))\n",
    "plt.plot([0, 1], [0, 1], color='navy', lw=2, linestyle='--')\n",
    "plt.xlim([0.0, 1.0])\n",
    "plt.ylim([0.0, 1.05])\n",
    "plt.xlabel('False Positive Rate')\n",
    "plt.ylabel('True Positive Rate')\n",
    "plt.title('LG ROC Curve with pre-processing')\n",
    "plt.legend(loc='lower right')\n",
    "\n",
    "plt.tight_layout()\n",
    "plt.show()\n",
    "roc_auc_metrics.append(roc_auc)"
   ]
  },
  {
   "cell_type": "markdown",
   "metadata": {},
   "source": [
    "**6.2 Gaussian Naive Bayes**\n"
   ]
  },
  {
   "cell_type": "markdown",
   "metadata": {},
   "source": [
    "**6.2.1 Gaussian Naive Bayes without preprocessing**\n"
   ]
  },
  {
   "cell_type": "code",
   "execution_count": null,
   "metadata": {
    "execution": {
     "iopub.execute_input": "2021-09-27T15:10:40.083796Z",
     "iopub.status.busy": "2021-09-27T15:10:40.083484Z",
     "iopub.status.idle": "2021-09-27T15:10:40.111001Z",
     "shell.execute_reply": "2021-09-27T15:10:40.109668Z",
     "shell.execute_reply.started": "2021-09-27T15:10:40.083766Z"
    }
   },
   "outputs": [],
   "source": [
    "model = GaussianNB()\n",
    "model.fit(x_train, y_train)  \n",
    "predicted = model.predict(x_test)  \n",
    "conf = confusion_matrix(y_test, predicted)\n",
    "print (\"Confusion Matrix : \\n\", conf)\n",
    "print (\"The accuracy of Gaussian Naive Bayes is : \", accuracy_score(y_test, predicted)*100, \"%\")\n",
    "print(\"Precision score for Gaussian Naive Bayes is :\",precision_score(y_test, predicted,)*100, \"%\")\n",
    "print(\"Recall score for Gaussian Naive Bayes is :\",recall_score(y_test, predicted,)*100, \"%\")\n",
    "accuracy_metrics.append(str(round(accuracy_score(y_test, predicted)*100,2)) + \"%\")\n",
    "precision_metrics.append(str(round(precision_score(y_test, predicted,)*100,2)) + \"%\")\n",
    "recall_metrics.append(str(round(recall_score(y_test, predicted,)*100,2)) + \"%\")\n"
   ]
  },
  {
   "cell_type": "code",
   "execution_count": null,
   "metadata": {},
   "outputs": [],
   "source": [
    "predictions_prob = model.predict_proba(x_test)[:, 1]\n",
    "f1 = f1_score(y_test, predicted)\n",
    "fpr, tpr, thresholds = roc_curve(y_test, predictions_prob)\n",
    "plt.figure(figsize=(7,4))\n",
    "roc_auc = roc_auc_score(y_test, predictions_prob)\n",
    "# Plot ROC Curve\n",
    "plt.subplot(122)\n",
    "plt.plot(fpr, tpr, color='darkorange', lw=2, label='ROC curve (AUC = {:.2f})'.format(roc_auc))\n",
    "plt.plot([0, 1], [0, 1], color='navy', lw=2, linestyle='--')\n",
    "plt.xlim([0.0, 1.0])\n",
    "plt.ylim([0.0, 1.05])\n",
    "plt.xlabel('False Positive Rate')\n",
    "plt.ylabel('True Positive Rate')\n",
    "plt.title('GNB ROC Curve without preprocessing')\n",
    "plt.legend(loc='lower right')\n",
    "plt.tight_layout()\n",
    "plt.show()\n",
    "roc_auc_metrics.append(roc_auc)"
   ]
  },
  {
   "cell_type": "markdown",
   "metadata": {},
   "source": [
    "**6.2.2 Gaussian Naive Bayes with preprocessing**\n"
   ]
  },
  {
   "cell_type": "code",
   "execution_count": null,
   "metadata": {},
   "outputs": [],
   "source": [
    "model_with_pre = GaussianNB()\n",
    "model_with_pre.fit(x_train_with_pre, y_train_with_pre)\n",
    "  \n",
    "predicted = model_with_pre.predict(x_test_with_pre)\n",
    "  \n",
    "conf_with_pre = confusion_matrix(y_test_with_pre, predicted)\n",
    "print (\"Confusion Matrix : \\n\", conf_with_pre)\n",
    "print (\"The accuracy of Gaussian Naive Bayes is : \", accuracy_score(y_test_with_pre, predicted)*100, \"%\")\n",
    "print(\"Precision score for Gaussian Naive Bayes is :\",precision_score(y_test_with_pre, predicted,)*100, \"%\")\n",
    "print(\"Recall score for Gaussian Naive Bayes is :\",recall_score(y_test_with_pre, predicted,)*100, \"%\")\n",
    "accuracy_metrics.append(str(round(accuracy_score(y_test_with_pre, predicted)*100,2)) + \"%\")\n",
    "precision_metrics.append(str(round(precision_score(y_test_with_pre, predicted,)*100,2)) + \"%\")\n",
    "recall_metrics.append(str(round(recall_score(y_test_with_pre, predicted,)*100,2)) + \"%\")"
   ]
  },
  {
   "cell_type": "code",
   "execution_count": null,
   "metadata": {},
   "outputs": [],
   "source": [
    "predictions_prob = model_with_pre.predict_proba(x_test_with_pre)[:, 1]\n",
    "f1 = f1_score(y_test_with_pre, predicted)\n",
    "fpr, tpr, thresholds = roc_curve(y_test_with_pre, predictions_prob)\n",
    "plt.figure(figsize=(7,4))\n",
    "roc_auc = roc_auc_score(y_test_with_pre, predictions_prob)\n",
    "# Plot ROC Curve\n",
    "plt.subplot(122)\n",
    "plt.plot(fpr, tpr, color='darkorange', lw=2, label='ROC curve (AUC = {:.2f})'.format(roc_auc))\n",
    "plt.plot([0, 1], [0, 1], color='navy', lw=2, linestyle='--')\n",
    "plt.xlim([0.0, 1.0])\n",
    "plt.ylim([0.0, 1.05])\n",
    "plt.xlabel('False Positive Rate')\n",
    "plt.ylabel('True Positive Rate')\n",
    "plt.title('GNB ROC Curve with preprocessing')\n",
    "plt.legend(loc='lower right')\n",
    "plt.tight_layout()\n",
    "plt.show()\n",
    "roc_auc_metrics.append(roc_auc)"
   ]
  },
  {
   "cell_type": "markdown",
   "metadata": {},
   "source": [
    "**6.3 Bernoulli Naive Bayes**\n"
   ]
  },
  {
   "cell_type": "markdown",
   "metadata": {},
   "source": [
    "**6.3.1 Bernoulli Naive Bayes without preprocessing**\n"
   ]
  },
  {
   "cell_type": "code",
   "execution_count": null,
   "metadata": {
    "execution": {
     "iopub.execute_input": "2021-09-27T15:10:40.113197Z",
     "iopub.status.busy": "2021-09-27T15:10:40.112772Z",
     "iopub.status.idle": "2021-09-27T15:10:40.135927Z",
     "shell.execute_reply": "2021-09-27T15:10:40.134922Z",
     "shell.execute_reply.started": "2021-09-27T15:10:40.113152Z"
    }
   },
   "outputs": [],
   "source": [
    "model = BernoulliNB()\n",
    "model.fit(x_train, y_train)  \n",
    "predicted = model.predict(x_test)\n",
    "conf = confusion_matrix(y_test, predicted)\n",
    "print (\"Confusion Matrix : \\n\", conf)\n",
    "print()\n",
    "print (\"The accuracy of Bernoulli Naive Bayes is : \", accuracy_score(y_test, predicted)*100, \"%\")\n",
    "print()\n",
    "print(\"Precision score for Bernoulli Naive Bayes is :\",precision_score(y_test, predicted,)*100, \"%\")\n",
    "print()\n",
    "print(\"Recall score for Bernoulli Naive Bayes is :\",recall_score(y_test, predicted,)*100, \"%\")\n",
    "accuracy_metrics.append(str(round(accuracy_score(y_test, predicted)*100,2)) + \"%\")\n",
    "precision_metrics.append(str(round(precision_score(y_test, predicted,)*100,2)) + \"%\")\n",
    "recall_metrics.append(str(round(recall_score(y_test, predicted,)*100,2)) + \"%\")"
   ]
  },
  {
   "cell_type": "code",
   "execution_count": null,
   "metadata": {},
   "outputs": [],
   "source": [
    "predictions_prob = model.predict_proba(x_test)[:, 1]\n",
    "f1 = f1_score(y_test, predicted)\n",
    "fpr, tpr, thresholds = roc_curve(y_test, predictions_prob)\n",
    "plt.figure(figsize=(7,4))\n",
    "roc_auc = roc_auc_score(y_test, predictions_prob)\n",
    "# Plot ROC Curve\n",
    "plt.subplot(122)\n",
    "plt.plot(fpr, tpr, color='darkorange', lw=2, label='ROC curve (AUC = {:.2f})'.format(roc_auc))\n",
    "plt.plot([0, 1], [0, 1], color='navy', lw=2, linestyle='--')\n",
    "plt.xlim([0.0, 1.0])\n",
    "plt.ylim([0.0, 1.05])\n",
    "plt.xlabel('False Positive Rate')\n",
    "plt.ylabel('True Positive Rate')\n",
    "plt.title('BNB ROC Curve without preprocessing')\n",
    "plt.legend(loc='lower right')\n",
    "plt.tight_layout()\n",
    "plt.show()\n",
    "roc_auc_metrics.append(roc_auc)"
   ]
  },
  {
   "cell_type": "markdown",
   "metadata": {},
   "source": [
    "**6.3.2 Bernoulli Naive Bayes with preprocessing**\n"
   ]
  },
  {
   "cell_type": "code",
   "execution_count": null,
   "metadata": {},
   "outputs": [],
   "source": [
    "model = BernoulliNB()\n",
    "model.fit(x_train_with_pre, y_train_with_pre)\n",
    "  \n",
    "predicted = model.predict(x_test_with_pre)\n",
    "conf = confusion_matrix(y_test_with_pre, predicted)\n",
    "print (\"Confusion Matrix : \\n\", conf)\n",
    "print()\n",
    "print (\"The accuracy of Bernoulli Naive Bayes is : \", accuracy_score(y_test_with_pre, predicted)*100, \"%\")\n",
    "print()\n",
    "print(\"Precision score for Bernoulli Naive Bayes is :\",precision_score(y_test_with_pre, predicted,)*100, \"%\")\n",
    "print()\n",
    "print(\"Recall score for Bernoulli Naive Bayes is :\",recall_score(y_test_with_pre, predicted,)*100, \"%\")\n",
    "accuracy_metrics.append(str(round(accuracy_score(y_test_with_pre, predicted)*100,2)) + \"%\")\n",
    "precision_metrics.append(str(round(precision_score(y_test_with_pre, predicted,)*100,2)) + \"%\")\n",
    "recall_metrics.append(str(round(recall_score(y_test_with_pre, predicted,)*100,2)) + \"%\")"
   ]
  },
  {
   "cell_type": "code",
   "execution_count": null,
   "metadata": {},
   "outputs": [],
   "source": [
    "predictions_prob = model.predict_proba(x_test_with_pre)[:, 1]\n",
    "f1 = f1_score(y_test_with_pre, predicted)\n",
    "fpr, tpr, thresholds = roc_curve(y_test_with_pre, predictions_prob)\n",
    "plt.figure(figsize=(7,4))\n",
    "roc_auc = roc_auc_score(y_test_with_pre, predictions_prob)\n",
    "# Plot ROC Curve\n",
    "plt.subplot(122)\n",
    "plt.plot(fpr, tpr, color='darkorange', lw=2, label='ROC curve (AUC = {:.2f})'.format(roc_auc))\n",
    "plt.plot([0, 1], [0, 1], color='navy', lw=2, linestyle='--')\n",
    "plt.xlim([0.0, 1.0])\n",
    "plt.ylim([0.0, 1.05])\n",
    "plt.xlabel('False Positive Rate')\n",
    "plt.ylabel('True Positive Rate')\n",
    "plt.title('BNB ROC Curve without preprocessing')\n",
    "plt.legend(loc='lower right')\n",
    "plt.tight_layout()\n",
    "plt.show()\n",
    "roc_auc_metrics.append(roc_auc)"
   ]
  },
  {
   "cell_type": "markdown",
   "metadata": {},
   "source": [
    "**6.4 Support Vector Machine**\n"
   ]
  },
  {
   "cell_type": "markdown",
   "metadata": {},
   "source": [
    "**6.4.1 Support Vector Machine without preprocessing**\n"
   ]
  },
  {
   "cell_type": "code",
   "execution_count": null,
   "metadata": {
    "execution": {
     "iopub.execute_input": "2021-09-27T15:10:40.137608Z",
     "iopub.status.busy": "2021-09-27T15:10:40.137331Z",
     "iopub.status.idle": "2021-09-27T15:10:40.186714Z",
     "shell.execute_reply": "2021-09-27T15:10:40.185451Z",
     "shell.execute_reply.started": "2021-09-27T15:10:40.137581Z"
    }
   },
   "outputs": [],
   "source": [
    "model = SVC()\n",
    "model.fit(x_train, y_train)\n",
    "predicted = model.predict(x_test)\n",
    "\n",
    "conf = confusion_matrix(y_test, predicted)\n",
    "print (\"Confusion Matrix : \\n\", conf)\n",
    "print (\"The accuracy of SVM is : \", accuracy_score(y_test, predicted)*100, \"%\")\n",
    "print(\"Precision score for SVM is :\",precision_score(y_test, predicted,)*100, \"%\")\n",
    "print(\"Recall score for SVM is :\",recall_score(y_test, predicted,)*100, \"%\")\n",
    "accuracy_metrics.append(str(round(accuracy_score(y_test, predicted)*100,2)) + \"%\")\n",
    "precision_metrics.append(str(round(precision_score(y_test, predicted,)*100,2)) + \"%\")\n",
    "recall_metrics.append(str(round(recall_score(y_test, predicted,)*100,2)) + \"%\")"
   ]
  },
  {
   "cell_type": "code",
   "execution_count": null,
   "metadata": {},
   "outputs": [],
   "source": [
    "print(\"area under curve (auc): \", metrics.roc_auc_score(y_test, predicted))\n",
    "roc_auc_metrics.append( metrics.roc_auc_score(y_test, predicted))\n"
   ]
  },
  {
   "cell_type": "markdown",
   "metadata": {},
   "source": [
    "**6.4.2 Support Vector Machine with preprocessing**\n"
   ]
  },
  {
   "cell_type": "code",
   "execution_count": null,
   "metadata": {},
   "outputs": [],
   "source": [
    "model = SVC()\n",
    "model.fit(x_train_with_pre, y_train_with_pre)\n",
    "predicted = model.predict(x_test_with_pre)\n",
    "\n",
    "conf = confusion_matrix(y_test_with_pre, predicted)\n",
    "print (\"Confusion Matrix : \\n\", conf)\n",
    "print()\n",
    "print (\"The accuracy of SVM is : \", accuracy_score(y_test_with_pre, predicted)*100, \"%\")\n",
    "print()\n",
    "print(\"Precision score for SVM is :\",precision_score(y_test_with_pre, predicted,)*100, \"%\")\n",
    "print()\n",
    "print(\"Recall score for SVM is :\",recall_score(y_test_with_pre, predicted,)*100, \"%\")\n",
    "accuracy_metrics.append(str(round(accuracy_score(y_test_with_pre, predicted)*100,2)) + \"%\")\n",
    "precision_metrics.append(str(round(precision_score(y_test_with_pre, predicted,)*100,2)) + \"%\")\n",
    "recall_metrics.append(str(round(recall_score(y_test_with_pre, predicted,)*100,2)) + \"%\")"
   ]
  },
  {
   "cell_type": "code",
   "execution_count": null,
   "metadata": {},
   "outputs": [],
   "source": [
    "print(\"area under curve (auc): \", metrics.roc_auc_score(y_test_with_pre, predicted))\n",
    "roc_auc_metrics.append( metrics.roc_auc_score(y_test_with_pre, predicted))"
   ]
  },
  {
   "cell_type": "markdown",
   "metadata": {},
   "source": [
    "**6.5 K Nearest Neighbours**"
   ]
  },
  {
   "cell_type": "markdown",
   "metadata": {},
   "source": [
    "**6.5.1 K Nearest Neighbours without preprocessing**"
   ]
  },
  {
   "cell_type": "code",
   "execution_count": null,
   "metadata": {
    "execution": {
     "iopub.execute_input": "2021-09-27T15:10:40.188646Z",
     "iopub.status.busy": "2021-09-27T15:10:40.188327Z",
     "iopub.status.idle": "2021-09-27T15:10:40.216999Z",
     "shell.execute_reply": "2021-09-27T15:10:40.215719Z",
     "shell.execute_reply.started": "2021-09-27T15:10:40.188615Z"
    }
   },
   "outputs": [],
   "source": [
    "model = KNeighborsClassifier(n_neighbors = 1)  \n",
    "model.fit(x_train, y_train)\n",
    "predicted = model.predict(x_test)\n",
    "conf = confusion_matrix(y_test, predicted)\n",
    "print (\"Confusion Matrix : \\n\", conf)\n",
    "\n",
    "print()\n",
    "print (\"The accuracy of KNN is : \", accuracy_score(y_test, predicted)*100, \"%\")\n",
    "print()\n",
    "print(\"Precision score for KNN is :\",precision_score(y_test, predicted,)*100, \"%\")\n",
    "print()\n",
    "print(\"Recall score for KNN is :\",recall_score(y_test, predicted,)*100, \"%\")\n",
    "accuracy_metrics.append(str(round(accuracy_score(y_test, predicted)*100,2)) + \"%\")\n",
    "precision_metrics.append(str(round(precision_score(y_test, predicted,)*100,2)) + \"%\")\n",
    "recall_metrics.append(str(round(recall_score(y_test, predicted,)*100,2)) + \"%\")"
   ]
  },
  {
   "cell_type": "code",
   "execution_count": null,
   "metadata": {},
   "outputs": [],
   "source": [
    "predictions_prob = model.predict_proba(x_test)[:, 1]\n",
    "f1 = f1_score(y_test, predicted)\n",
    "fpr, tpr, thresholds = roc_curve(y_test, predictions_prob)\n",
    "plt.figure(figsize=(7,4))\n",
    "roc_auc = roc_auc_score(y_test, predictions_prob)\n",
    "# Plot ROC Curve\n",
    "plt.subplot(122)\n",
    "plt.plot(fpr, tpr, color='darkorange', lw=2, label='ROC curve (AUC = {:.2f})'.format(roc_auc))\n",
    "plt.plot([0, 1], [0, 1], color='navy', lw=2, linestyle='--')\n",
    "plt.xlim([0.0, 1.0])\n",
    "plt.ylim([0.0, 1.05])\n",
    "plt.xlabel('False Positive Rate')\n",
    "plt.ylabel('True Positive Rate')\n",
    "plt.title('KNN ROC Curve without preprocessing')\n",
    "plt.legend(loc='lower right')\n",
    "plt.tight_layout()\n",
    "plt.show()\n",
    "roc_auc_metrics.append(roc_auc)"
   ]
  },
  {
   "cell_type": "markdown",
   "metadata": {},
   "source": [
    "**6.5.2 K Nearest Neighbours with preprocessing**"
   ]
  },
  {
   "cell_type": "code",
   "execution_count": null,
   "metadata": {},
   "outputs": [],
   "source": [
    "model_with_pre = KNeighborsClassifier(n_neighbors = 1)  \n",
    "model_with_pre.fit(x_train_with_pre, y_train_with_pre)\n",
    "predicted = model_with_pre.predict(x_test_with_pre)\n",
    "conf = confusion_matrix(y_test_with_pre, predicted)\n",
    "print (\"Confusion Matrix : \\n\", conf)\n",
    "\n",
    "print()\n",
    "print (\"The accuracy of KNN is : \", accuracy_score(y_test_with_pre, predicted)*100, \"%\")\n",
    "print()\n",
    "print(\"Precision score for KNN is :\",precision_score(y_test_with_pre, predicted,)*100, \"%\")\n",
    "print()\n",
    "print(\"Recall score for KNN is :\",recall_score(y_test_with_pre, predicted,)*100, \"%\")\n",
    "accuracy_metrics.append(str(round(accuracy_score(y_test_with_pre, predicted)*100,2)) + \"%\")\n",
    "precision_metrics.append(str(round(precision_score(y_test_with_pre, predicted,)*100,2)) + \"%\")\n",
    "recall_metrics.append(str(round(recall_score(y_test_with_pre, predicted,)*100,2)) + \"%\")"
   ]
  },
  {
   "cell_type": "code",
   "execution_count": null,
   "metadata": {},
   "outputs": [],
   "source": [
    "predictions_prob = model_with_pre.predict_proba(x_test_with_pre)[:, 1]\n",
    "f1 = f1_score(y_test_with_pre, predicted)\n",
    "fpr, tpr, thresholds = roc_curve(y_test_with_pre, predictions_prob)\n",
    "plt.figure(figsize=(7,4))\n",
    "roc_auc = roc_auc_score(y_test_with_pre, predictions_prob)\n",
    "# Plot ROC Curve\n",
    "plt.subplot(122)\n",
    "plt.plot(fpr, tpr, color='darkorange', lw=2, label='ROC curve (AUC = {:.2f})'.format(roc_auc))\n",
    "plt.plot([0, 1], [0, 1], color='navy', lw=2, linestyle='--')\n",
    "plt.xlim([0.0, 1.0])\n",
    "plt.ylim([0.0, 1.05])\n",
    "plt.xlabel('False Positive Rate')\n",
    "plt.ylabel('True Positive Rate')\n",
    "plt.title('KNN ROC Curve with preprocessing')\n",
    "plt.legend(loc='lower right')\n",
    "plt.tight_layout()\n",
    "plt.show()\n",
    "roc_auc_metrics.append(roc_auc)"
   ]
  },
  {
   "cell_type": "markdown",
   "metadata": {},
   "source": [
    "**6.6 X Gradient Boosting**"
   ]
  },
  {
   "cell_type": "markdown",
   "metadata": {},
   "source": [
    "**6.6.1 X Gradient Boosting without preprocessing**"
   ]
  },
  {
   "cell_type": "code",
   "execution_count": null,
   "metadata": {
    "execution": {
     "iopub.execute_input": "2021-09-27T15:10:40.219130Z",
     "iopub.status.busy": "2021-09-27T15:10:40.218710Z",
     "iopub.status.idle": "2021-09-27T15:10:40.362467Z",
     "shell.execute_reply": "2021-09-27T15:10:40.361148Z",
     "shell.execute_reply.started": "2021-09-27T15:10:40.219077Z"
    }
   },
   "outputs": [],
   "source": [
    "model = xgb.XGBClassifier(use_label_encoder=False)\n",
    "model.fit(x_train, y_train)\n",
    "predicted = model.predict(x_test)\n",
    "\n",
    "conf = confusion_matrix(y_test, predicted)\n",
    "print (\"Confusion Matrix : \\n\", conf)\n",
    "\n",
    "print()\n",
    "print (\"The accuracy of XGBoost is : \", accuracy_score(y_test, predicted)*100, \"%\")\n",
    "print()\n",
    "print(\"Precision score for XGBoost is :\",precision_score(y_test, predicted,)*100, \"%\")\n",
    "print()\n",
    "print(\"Recall score for XGBoost is :\",recall_score(y_test, predicted,)*100, \"%\")\n",
    "accuracy_metrics.append(str(round(accuracy_score(y_test, predicted)*100,2)) + \"%\")\n",
    "precision_metrics.append(str(round(precision_score(y_test, predicted,)*100,2)) + \"%\")\n",
    "recall_metrics.append(str(round(recall_score(y_test, predicted,)*100,2)) + \"%\")"
   ]
  },
  {
   "cell_type": "code",
   "execution_count": null,
   "metadata": {},
   "outputs": [],
   "source": [
    "predictions_prob = model.predict_proba(x_test)[:, 1]\n",
    "f1 = f1_score(y_test, predicted)\n",
    "fpr, tpr, thresholds = roc_curve(y_test, predictions_prob)\n",
    "plt.figure(figsize=(7,4))\n",
    "roc_auc = roc_auc_score(y_test, predictions_prob)\n",
    "# Plot ROC Curve\n",
    "plt.subplot(122)\n",
    "plt.plot(fpr, tpr, color='darkorange', lw=2, label='ROC curve (AUC = {:.2f})'.format(roc_auc))\n",
    "plt.plot([0, 1], [0, 1], color='navy', lw=2, linestyle='--')\n",
    "plt.xlim([0.0, 1.0])\n",
    "plt.ylim([0.0, 1.05])\n",
    "plt.xlabel('False Positive Rate')\n",
    "plt.ylabel('True Positive Rate')\n",
    "plt.title('GB ROC Curve without preprocessing')\n",
    "plt.legend(loc='lower right')\n",
    "plt.tight_layout()\n",
    "plt.show()\n",
    "roc_auc_metrics.append(roc_auc)"
   ]
  },
  {
   "cell_type": "markdown",
   "metadata": {},
   "source": [
    "**6.6.1 X Gradient Boosting with preprocessing**"
   ]
  },
  {
   "cell_type": "code",
   "execution_count": null,
   "metadata": {},
   "outputs": [],
   "source": [
    "model = xgb.XGBClassifier(use_label_encoder=False)\n",
    "model.fit(x_train_with_pre, y_train_with_pre)\n",
    "predicted = model.predict(x_test_with_pre)\n",
    "\n",
    "conf = confusion_matrix(y_test_with_pre, predicted)\n",
    "print (\"Confusion Matrix : \\n\", conf)\n",
    "\n",
    "print()\n",
    "print (\"The accuracy of XGBoost is : \", accuracy_score(y_test_with_pre, predicted)*100, \"%\")\n",
    "print()\n",
    "print(\"Precision score for XGBoost is :\",precision_score(y_test_with_pre, predicted,)*100, \"%\")\n",
    "print()\n",
    "print(\"Recall score for XGBoost is :\",recall_score(y_test_with_pre, predicted,)*100, \"%\")\n",
    "accuracy_metrics.append(str(round(accuracy_score(y_test_with_pre, predicted)*100,2)) + \"%\")\n",
    "precision_metrics.append(str(round(precision_score(y_test_with_pre, predicted,)*100,2)) + \"%\")\n",
    "recall_metrics.append(str(round(recall_score(y_test_with_pre, predicted,)*100,2)) + \"%\")"
   ]
  },
  {
   "cell_type": "code",
   "execution_count": null,
   "metadata": {},
   "outputs": [],
   "source": [
    "predictions_prob = model.predict_proba(x_test_with_pre)[:, 1]\n",
    "f1 = f1_score(y_test_with_pre, predicted)\n",
    "fpr, tpr, thresholds = roc_curve(y_test_with_pre, predictions_prob)\n",
    "plt.figure(figsize=(7,4))\n",
    "roc_auc = roc_auc_score(y_test_with_pre, predictions_prob)\n",
    "# Plot ROC Curve\n",
    "plt.subplot(122)\n",
    "plt.plot(fpr, tpr, color='darkorange', lw=2, label='ROC curve (AUC = {:.2f})'.format(roc_auc))\n",
    "plt.plot([0, 1], [0, 1], color='navy', lw=2, linestyle='--')\n",
    "plt.xlim([0.0, 1.0])\n",
    "plt.ylim([0.0, 1.05])\n",
    "plt.xlabel('False Positive Rate')\n",
    "plt.ylabel('True Positive Rate')\n",
    "plt.title('GB ROC Curve without preprocessing')\n",
    "plt.legend(loc='lower right')\n",
    "plt.tight_layout()\n",
    "plt.show()\n",
    "roc_auc_metrics.append(roc_auc)"
   ]
  },
  {
   "cell_type": "code",
   "execution_count": null,
   "metadata": {},
   "outputs": [],
   "source": [
    "print(\"area under curve (auc): \", metrics.roc_auc_score(y_test_with_pre, predicted))"
   ]
  },
  {
   "cell_type": "code",
   "execution_count": null,
   "metadata": {},
   "outputs": [],
   "source": [
    "#Fitting The Random Forest Classifier model to the Traning Set\n",
    "from sklearn.ensemble import RandomForestClassifier\n",
    "RF = RandomForestClassifier(n_estimators = 10,criterion = 'entropy',random_state = 0)\n",
    "RF.fit(x_train, y_train)\n",
    "RF_y_pred = RF.predict(x_test)\n",
    "conf = confusion_matrix(y_test, RF_y_pred)\n",
    "print (\"Confusion Matrix : \\n\", conf)\n",
    "\n",
    "print()\n",
    "print (\"The accuracy of RF is : \", accuracy_score(y_test, RF_y_pred)*100, \"%\")\n",
    "print()\n",
    "print(\"Precision score for RF is :\",precision_score(y_test, RF_y_pred,)*100, \"%\")\n",
    "print()\n",
    "print(\"Recall score for RF is :\",recall_score(y_test, RF_y_pred,)*100, \"%\")\n",
    "accuracy_metrics.append(str(round(accuracy_score(y_test, RF_y_pred)*100,2)) + \"%\")\n",
    "precision_metrics.append(str(round(precision_score(y_test, RF_y_pred,)*100,2)) + \"%\")\n",
    "recall_metrics.append(str(round(recall_score(y_test, RF_y_pred,)*100,2)) + \"%\")"
   ]
  },
  {
   "cell_type": "code",
   "execution_count": null,
   "metadata": {},
   "outputs": [],
   "source": [
    "predictions_prob = RF.predict_proba(x_test)[:, 1]\n",
    "f1 = f1_score(y_test, RF_y_pred)\n",
    "fpr, tpr, thresholds = roc_curve(y_test, predictions_prob)\n",
    "plt.figure(figsize=(7,4))\n",
    "roc_auc = roc_auc_score(y_test, predictions_prob)\n",
    "# Plot ROC Curve\n",
    "plt.subplot(122)\n",
    "plt.plot(fpr, tpr, color='darkorange', lw=2, label='ROC curve (AUC = {:.2f})'.format(roc_auc))\n",
    "plt.plot([0, 1], [0, 1], color='navy', lw=2, linestyle='--')\n",
    "plt.xlim([0.0, 1.0])\n",
    "plt.ylim([0.0, 1.05])\n",
    "plt.xlabel('False Positive Rate')\n",
    "plt.ylabel('True Positive Rate')\n",
    "plt.title('RF ROC Curve without preprocessing')\n",
    "plt.legend(loc='lower right')\n",
    "plt.tight_layout()\n",
    "plt.show()\n",
    "roc_auc_metrics.append(roc_auc)"
   ]
  },
  {
   "cell_type": "code",
   "execution_count": null,
   "metadata": {},
   "outputs": [],
   "source": [
    "RF_with_pre = RandomForestClassifier(n_estimators = 10,criterion = 'entropy',random_state = 0)\n",
    "RF_with_pre.fit(x_train_with_pre, y_train_with_pre)\n",
    "RF_y_pred = RF_with_pre.predict(x_test_with_pre)\n",
    "conf = confusion_matrix(y_test_with_pre, RF_y_pred)\n",
    "print (\"Confusion Matrix : \\n\", conf)\n",
    "\n",
    "print()\n",
    "print (\"The accuracy of RF is : \", accuracy_score(y_test_with_pre, RF_y_pred)*100, \"%\")\n",
    "print()\n",
    "print(\"Precision score for RF is :\",precision_score(y_test_with_pre, RF_y_pred,)*100, \"%\")\n",
    "print()\n",
    "print(\"Recall score for RF is :\",recall_score(y_test_with_pre, RF_y_pred,)*100, \"%\")\n",
    "accuracy_metrics.append(str(round(accuracy_score(y_test_with_pre, predicted)*100,2)) + \"%\")\n",
    "precision_metrics.append(str(round(precision_score(y_test_with_pre, predicted,)*100,2)) + \"%\")\n",
    "recall_metrics.append(str(round(recall_score(y_test_with_pre, predicted,)*100,2)) + \"%\")"
   ]
  },
  {
   "cell_type": "code",
   "execution_count": null,
   "metadata": {},
   "outputs": [],
   "source": [
    "predictions_prob = RF_with_pre.predict_proba(x_test_with_pre)[:, 1]\n",
    "f1 = f1_score(y_test_with_pre, predicted)\n",
    "fpr, tpr, thresholds = roc_curve(y_test_with_pre, predictions_prob)\n",
    "plt.figure(figsize=(7,4))\n",
    "roc_auc = roc_auc_score(y_test_with_pre, predictions_prob)\n",
    "# Plot ROC Curve\n",
    "plt.subplot(122)\n",
    "plt.plot(fpr, tpr, color='darkorange', lw=2, label='ROC curve (AUC = {:.2f})'.format(roc_auc))\n",
    "plt.plot([0, 1], [0, 1], color='navy', lw=2, linestyle='--')\n",
    "plt.xlim([0.0, 1.0])\n",
    "plt.ylim([0.0, 1.05])\n",
    "plt.xlabel('False Positive Rate')\n",
    "plt.ylabel('True Positive Rate')\n",
    "plt.title('RF ROC Curve with preprocessing')\n",
    "plt.legend(loc='lower right')\n",
    "plt.tight_layout()\n",
    "plt.show()\n",
    "roc_auc_metrics.append(roc_auc)"
   ]
  },
  {
   "cell_type": "code",
   "execution_count": null,
   "metadata": {},
   "outputs": [],
   "source": [
    "#Fitting The Decision Tree Classifier model to the Traning Set\n",
    "from sklearn.tree import DecisionTreeClassifier\n",
    "DT = DecisionTreeClassifier()\n",
    "DT.fit(x_train,y_train)\n",
    "DT_y_pred = DT.predict(x_test)\n",
    "conf = confusion_matrix(y_test, DT_y_pred)\n",
    "print (\"Confusion Matrix : \\n\", conf)\n",
    "\n",
    "print()\n",
    "print (\"The accuracy of DT is : \", accuracy_score(y_test, DT_y_pred)*100, \"%\")\n",
    "print()\n",
    "print(\"Precision score for DT is :\",precision_score(y_test, DT_y_pred,)*100, \"%\")\n",
    "print()\n",
    "print(\"Recall score for DT is :\",recall_score(y_test, DT_y_pred,)*100, \"%\")\n",
    "accuracy_metrics.append(str(round(accuracy_score(y_test, DT_y_pred)*100,2)) + \"%\")\n",
    "precision_metrics.append(str(round(precision_score(y_test, DT_y_pred)*100,2)) + \"%\")\n",
    "recall_metrics.append(str(round(recall_score(y_test, DT_y_pred)*100,2)) + \"%\")"
   ]
  },
  {
   "cell_type": "code",
   "execution_count": null,
   "metadata": {},
   "outputs": [],
   "source": [
    "predictions_prob = DT.predict_proba(x_test)[:, 1]\n",
    "f1 = f1_score(y_test, DT_y_pred)\n",
    "fpr, tpr, thresholds = roc_curve(y_test, predictions_prob)\n",
    "plt.figure(figsize=(7,4))\n",
    "roc_auc = roc_auc_score(y_test, predictions_prob)\n",
    "# Plot ROC Curve\n",
    "plt.subplot(122)\n",
    "plt.plot(fpr, tpr, color='darkorange', lw=2, label='ROC curve (AUC = {:.2f})'.format(roc_auc))\n",
    "plt.plot([0, 1], [0, 1], color='navy', lw=2, linestyle='--')\n",
    "plt.xlim([0.0, 1.0])\n",
    "plt.ylim([0.0, 1.05])\n",
    "plt.xlabel('False Positive Rate')\n",
    "plt.ylabel('True Positive Rate')\n",
    "plt.title('DT ROC Curve without preprocessing')\n",
    "plt.legend(loc='lower right')\n",
    "plt.tight_layout()\n",
    "plt.show()\n",
    "roc_auc_metrics.append(roc_auc)"
   ]
  },
  {
   "cell_type": "code",
   "execution_count": null,
   "metadata": {},
   "outputs": [],
   "source": [
    "#Fitting The Decision Tree Classifier model to the Traning Set\n",
    "from sklearn.tree import DecisionTreeClassifier\n",
    "DT_with_pre = DecisionTreeClassifier()\n",
    "DT_with_pre.fit(x_train_with_pre,y_train_with_pre)\n",
    "DT_y_pred = DT_with_pre.predict(x_test_with_pre)\n",
    "conf = confusion_matrix(y_test_with_pre, DT_y_pred)\n",
    "print (\"Confusion Matrix : \\n\", conf)\n",
    "\n",
    "print()\n",
    "print (\"The accuracy of DT is : \", accuracy_score(y_test_with_pre, DT_y_pred)*100, \"%\")\n",
    "print()\n",
    "print(\"Precision score for DT is :\",precision_score(y_test_with_pre, DT_y_pred,)*100, \"%\")\n",
    "print()\n",
    "print(\"Recall score for DT is :\",recall_score(y_test_with_pre, DT_y_pred,)*100, \"%\")\n",
    "accuracy_metrics.append(str(round(accuracy_score(y_test_with_pre, DT_y_pred)*100,2)) + \"%\")\n",
    "precision_metrics.append(str(round(precision_score(y_test_with_pre, DT_y_pred)*100,2)) + \"%\")\n",
    "recall_metrics.append(str(round(recall_score(y_test_with_pre, DT_y_pred,)*100,2)) + \"%\")"
   ]
  },
  {
   "cell_type": "code",
   "execution_count": null,
   "metadata": {},
   "outputs": [],
   "source": [
    "predictions_prob = DT_with_pre.predict_proba(x_test_with_pre)[:, 1]\n",
    "f1 = f1_score(y_test_with_pre, DT_y_pred)\n",
    "fpr, tpr, thresholds = roc_curve(y_test_with_pre, predictions_prob)\n",
    "plt.figure(figsize=(7,4))\n",
    "roc_auc = roc_auc_score(y_test_with_pre, predictions_prob)\n",
    "# Plot ROC Curve\n",
    "plt.subplot(122)\n",
    "plt.plot(fpr, tpr, color='darkorange', lw=2, label='ROC curve (AUC = {:.2f})'.format(roc_auc))\n",
    "plt.plot([0, 1], [0, 1], color='navy', lw=2, linestyle='--')\n",
    "plt.xlim([0.0, 1.0])\n",
    "plt.ylim([0.0, 1.05])\n",
    "plt.xlabel('False Positive Rate')\n",
    "plt.ylabel('True Positive Rate')\n",
    "plt.title('DT ROC Curve with preprocessing')\n",
    "plt.legend(loc='lower right')\n",
    "plt.tight_layout()\n",
    "plt.show()\n",
    "roc_auc_metrics.append(roc_auc)"
   ]
  },
  {
   "cell_type": "code",
   "execution_count": null,
   "metadata": {},
   "outputs": [],
   "source": [
    "sum_table = {'ML Algorithm': ['LR without PreProcessing','LR with PreProcessing','GNB without PreProcessing','GNB with PreProcessing',\n",
    "                       'BNB without PreProcessing','BNB with PreProcessing','SVM without preprecessing','SVM with preprocessing',\n",
    "                            'KNN without preproccessing','KNN with preprocessing','GB without preprocessing','GB with preprocessing',\n",
    "                            'RF without preprocessing','RF with preprocessing','DT without preprocessing','DT with preprocessing'], \n",
    "        'Accuracy': accuracy_metrics\n",
    "        }\n",
    "accuracy_sum_metric = pd.DataFrame(sum_table ,columns = ['ML Algorithm', 'Accuracy'] )\n",
    "pre_sum_metric = pd.Series(precision_metrics, name = 'Precision') \n",
    "recall_sum_metric = pd.Series(recall_metrics, name = 'Recall')\n",
    "roc_sum_metric = pd.Series(roc_auc_metrics, name = 'ROC AUC Score')\n",
    "\n",
    "final_metric = pd.concat([accuracy_sum_metric,pre_sum_metric, recall_sum_metric, roc_sum_metric], axis = 1)\n",
    "\n",
    "final_metric"
   ]
  },
  {
   "cell_type": "markdown",
   "metadata": {},
   "source": []
  },
  {
   "cell_type": "markdown",
   "metadata": {},
   "source": [
    "#  <p style=\"color:Blue;\">7. Conclusion</p>\n",
    "1. Comparisions made for 6 algorithms with preprocessing vs without preprocessing and found metrics were improving for with processing \n",
    "2. Gaussian Naive bayes is performing the best in context of precision and recall where it is identifying 115 cases correct among total 154 predictions"
   ]
  }
 ],
 "metadata": {
  "kernelspec": {
   "display_name": "Python 3 (ipykernel)",
   "language": "python",
   "name": "python3"
  },
  "language_info": {
   "codemirror_mode": {
    "name": "ipython",
    "version": 3
   },
   "file_extension": ".py",
   "mimetype": "text/x-python",
   "name": "python",
   "nbconvert_exporter": "python",
   "pygments_lexer": "ipython3",
   "version": "3.11.5"
  }
 },
 "nbformat": 4,
 "nbformat_minor": 4
}
