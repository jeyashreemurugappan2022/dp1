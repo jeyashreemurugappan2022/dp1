{
 "cells": [
  {
   "cell_type": "code",
   "execution_count": 1,
   "id": "af75b04f",
   "metadata": {},
   "outputs": [],
   "source": [
    "result_df=['Accuracy','Precsion','Recall','ROC Curve']"
   ]
  },
  {
   "cell_type": "code",
   "execution_count": 5,
   "id": "7c8b6dbe",
   "metadata": {},
   "outputs": [],
   "source": [
    "result_df[0]=[10,12,13,14]\n",
    "#result_df['def'] = [15,12,13,14]\n",
    "#result_df['def'] = [16,12,13,14]\n",
    "#result_df['ghc'] = [16,12,13,14]"
   ]
  },
  {
   "cell_type": "code",
   "execution_count": 6,
   "id": "dbc227b4",
   "metadata": {},
   "outputs": [
    {
     "name": "stdout",
     "output_type": "stream",
     "text": [
      "[[10, 12, 13, 14], 'Precsion', 'Recall', 'ROC Curve']\n"
     ]
    }
   ],
   "source": [
    "print(result_df)"
   ]
  },
  {
   "cell_type": "code",
   "execution_count": 8,
   "id": "460c4206",
   "metadata": {},
   "outputs": [
    {
     "name": "stdout",
     "output_type": "stream",
     "text": [
      "     Name  Score\n",
      "0   Rohan     76\n",
      "1   Rahul     69\n",
      "2  Gaurav     70\n",
      "3  Ananya     88\n",
      "4   Vinay     79\n",
      "5   Rohan     64\n",
      "6   Vivek     62\n",
      "7   Vinay     57\n"
     ]
    }
   ],
   "source": [
    "import pandas as pd\n",
    "student = pd.DataFrame({'Name': ['Rohan', 'Rahul', 'Gaurav',\n",
    "                                 'Ananya', 'Vinay', 'Rohan',\n",
    "                                 'Vivek', 'Vinay'],\n",
    "                         \n",
    "                        'Score': [76, 69, 70, 88, 79, 64, 62, 57]})\n",
    "print(student)"
   ]
  },
  {
   "cell_type": "code",
   "execution_count": 15,
   "id": "37efec00",
   "metadata": {},
   "outputs": [
    {
     "name": "stdout",
     "output_type": "stream",
     "text": [
      "     Name  Score  Score1  Score2\n",
      "0   Rohan     76      10      10\n",
      "1   Rahul     69      20      20\n",
      "2  Gaurav     70      30      30\n",
      "3  Ananya     88      40      40\n",
      "4   Vinay     79      50      50\n",
      "5   Rohan     64      60      60\n",
      "6   Vivek     62      70      70\n",
      "7   Vinay     57      80      80\n"
     ]
    }
   ],
   "source": [
    "student['Score1']=[10,20,30,40,50,60,70,80]\n",
    "student['Score2']=[10,20,30,40,50,60,70,80]\n",
    "print(student)"
   ]
  },
  {
   "cell_type": "code",
   "execution_count": 18,
   "id": "0d0ebdb2",
   "metadata": {},
   "outputs": [
    {
     "name": "stdout",
     "output_type": "stream",
     "text": [
      "     Name  Score  Score1  Score2\n",
      "0   Rohan     76      10      10\n",
      "1   Rahul     69      20      20\n",
      "2  Gaurav     70      30      30\n",
      "3  Ananya     88      40      40\n",
      "4   Vinay     79      50      50\n",
      "5   Rohan     64      60      60\n",
      "6   Vivek     62      70      70\n",
      "7   Vinay     57      80      80\n"
     ]
    }
   ],
   "source": [
    "print(student)"
   ]
  },
  {
   "cell_type": "code",
   "execution_count": 21,
   "id": "c16e9d4d",
   "metadata": {},
   "outputs": [],
   "source": [
    "student.loc[[1]]=['r',10,20,30]"
   ]
  },
  {
   "cell_type": "code",
   "execution_count": 22,
   "id": "a36674f1",
   "metadata": {},
   "outputs": [
    {
     "name": "stdout",
     "output_type": "stream",
     "text": [
      "     Name  Score  Score1  Score2\n",
      "0   Rohan     76      10      10\n",
      "1       r     10      20      30\n",
      "2  Gaurav     70      30      30\n",
      "3  Ananya     88      40      40\n",
      "4   Vinay     79      50      50\n",
      "5   Rohan     64      60      60\n",
      "6   Vivek     62      70      70\n",
      "7   Vinay     57      80      80\n"
     ]
    }
   ],
   "source": [
    "print(student)"
   ]
  },
  {
   "cell_type": "code",
   "execution_count": 36,
   "id": "89405341",
   "metadata": {},
   "outputs": [],
   "source": [
    "student = student.set_index('Name')"
   ]
  },
  {
   "cell_type": "code",
   "execution_count": 40,
   "id": "0d4a1de5",
   "metadata": {},
   "outputs": [
    {
     "name": "stdout",
     "output_type": "stream",
     "text": [
      "        Score  Score1  Score2\n",
      "Name                         \n",
      "Rohan      76      10      10\n",
      "r          10      20      30\n",
      "Gaurav     70      30      30\n",
      "Ananya     88      40      40\n",
      "Vinay      79      50      50\n",
      "Rohan      64      60      60\n",
      "Vivek      62      70      70\n",
      "Vinay      57      80      80\n"
     ]
    }
   ],
   "source": [
    "print(student)"
   ]
  },
  {
   "cell_type": "code",
   "execution_count": 42,
   "id": "a09e9ae0",
   "metadata": {},
   "outputs": [
    {
     "name": "stdout",
     "output_type": "stream",
     "text": [
      "       Score  Score1  Score2\n",
      "Name                        \n",
      "Rohan     76      10      10\n",
      "Rohan     64      60      60\n"
     ]
    }
   ],
   "source": [
    "print(student.loc[['Rohan']])"
   ]
  },
  {
   "cell_type": "code",
   "execution_count": 52,
   "id": "0fb339a4",
   "metadata": {},
   "outputs": [
    {
     "ename": "AttributeError",
     "evalue": "'DataFrame' object has no attribute 'concat'",
     "output_type": "error",
     "traceback": [
      "\u001b[1;31m---------------------------------------------------------------------------\u001b[0m",
      "\u001b[1;31mAttributeError\u001b[0m                            Traceback (most recent call last)",
      "\u001b[1;32m~\\AppData\\Local\\Temp\\ipykernel_22792\\3682505615.py\u001b[0m in \u001b[0;36m?\u001b[1;34m()\u001b[0m\n\u001b[0;32m      1\u001b[0m \u001b[0mdf1\u001b[0m \u001b[1;33m=\u001b[0m \u001b[1;33m[\u001b[0m\u001b[1;34m'Rohan1'\u001b[0m\u001b[1;33m,\u001b[0m\u001b[1;36m50\u001b[0m\u001b[1;33m,\u001b[0m\u001b[1;36m60\u001b[0m\u001b[1;33m,\u001b[0m\u001b[1;36m60\u001b[0m\u001b[1;33m]\u001b[0m\u001b[1;33m\u001b[0m\u001b[1;33m\u001b[0m\u001b[0m\n\u001b[0;32m      2\u001b[0m \u001b[1;31m#student.append(['Rohan1',50,60,60])\u001b[0m\u001b[1;33m\u001b[0m\u001b[1;33m\u001b[0m\u001b[0m\n\u001b[1;32m----> 3\u001b[1;33m \u001b[0mstudent\u001b[0m\u001b[1;33m.\u001b[0m\u001b[0mconcat\u001b[0m\u001b[1;33m(\u001b[0m\u001b[0mdf1\u001b[0m\u001b[1;33m,\u001b[0m\u001b[0mignore_index\u001b[0m\u001b[1;33m=\u001b[0m\u001b[1;32mTrue\u001b[0m\u001b[1;33m)\u001b[0m\u001b[1;33m\u001b[0m\u001b[1;33m\u001b[0m\u001b[0m\n\u001b[0m",
      "\u001b[1;32m~\\AppData\\Local\\anaconda31\\Lib\\site-packages\\pandas\\core\\generic.py\u001b[0m in \u001b[0;36m?\u001b[1;34m(self, name)\u001b[0m\n\u001b[0;32m   5985\u001b[0m             \u001b[1;32mand\u001b[0m \u001b[0mname\u001b[0m \u001b[1;32mnot\u001b[0m \u001b[1;32min\u001b[0m \u001b[0mself\u001b[0m\u001b[1;33m.\u001b[0m\u001b[0m_accessors\u001b[0m\u001b[1;33m\u001b[0m\u001b[1;33m\u001b[0m\u001b[0m\n\u001b[0;32m   5986\u001b[0m             \u001b[1;32mand\u001b[0m \u001b[0mself\u001b[0m\u001b[1;33m.\u001b[0m\u001b[0m_info_axis\u001b[0m\u001b[1;33m.\u001b[0m\u001b[0m_can_hold_identifiers_and_holds_name\u001b[0m\u001b[1;33m(\u001b[0m\u001b[0mname\u001b[0m\u001b[1;33m)\u001b[0m\u001b[1;33m\u001b[0m\u001b[1;33m\u001b[0m\u001b[0m\n\u001b[0;32m   5987\u001b[0m         ):\n\u001b[0;32m   5988\u001b[0m             \u001b[1;32mreturn\u001b[0m \u001b[0mself\u001b[0m\u001b[1;33m[\u001b[0m\u001b[0mname\u001b[0m\u001b[1;33m]\u001b[0m\u001b[1;33m\u001b[0m\u001b[1;33m\u001b[0m\u001b[0m\n\u001b[1;32m-> 5989\u001b[1;33m         \u001b[1;32mreturn\u001b[0m \u001b[0mobject\u001b[0m\u001b[1;33m.\u001b[0m\u001b[0m__getattribute__\u001b[0m\u001b[1;33m(\u001b[0m\u001b[0mself\u001b[0m\u001b[1;33m,\u001b[0m \u001b[0mname\u001b[0m\u001b[1;33m)\u001b[0m\u001b[1;33m\u001b[0m\u001b[1;33m\u001b[0m\u001b[0m\n\u001b[0m",
      "\u001b[1;31mAttributeError\u001b[0m: 'DataFrame' object has no attribute 'concat'"
     ]
    }
   ],
   "source": [
    "df1 = ['Rohan1',50,60,60]\n",
    "#student.append(['Rohan1',50,60,60])\n",
    "pd.concat(df1,ignore_index=True)"
   ]
  },
  {
   "cell_type": "code",
   "execution_count": null,
   "id": "f38a3569",
   "metadata": {},
   "outputs": [],
   "source": []
  },
  {
   "cell_type": "code",
   "execution_count": null,
   "id": "9ba815ff",
   "metadata": {},
   "outputs": [],
   "source": []
  },
  {
   "cell_type": "code",
   "execution_count": null,
   "id": "00753e49",
   "metadata": {},
   "outputs": [],
   "source": []
  },
  {
   "cell_type": "code",
   "execution_count": null,
   "id": "a14c8685",
   "metadata": {},
   "outputs": [],
   "source": []
  }
 ],
 "metadata": {
  "kernelspec": {
   "display_name": "Python 3 (ipykernel)",
   "language": "python",
   "name": "python3"
  },
  "language_info": {
   "codemirror_mode": {
    "name": "ipython",
    "version": 3
   },
   "file_extension": ".py",
   "mimetype": "text/x-python",
   "name": "python",
   "nbconvert_exporter": "python",
   "pygments_lexer": "ipython3",
   "version": "3.11.5"
  }
 },
 "nbformat": 4,
 "nbformat_minor": 5
}
